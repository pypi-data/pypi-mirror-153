{
 "cells": [
  {
   "cell_type": "code",
   "execution_count": 22,
   "metadata": {},
   "outputs": [],
   "source": [
    "# from raptor_functions.supervised.datasets import get_data\n",
    "# df = get_data('handheld_data')"
   ]
  },
  {
   "cell_type": "code",
   "execution_count": 23,
   "metadata": {},
   "outputs": [],
   "source": [
    "from raptor_functions.supervised.datasets import get_data\n",
    "df = get_data('handheld_data')"
   ]
  },
  {
   "cell_type": "code",
   "execution_count": 24,
   "metadata": {},
   "outputs": [
    {
     "data": {
      "text/html": [
       "<div>\n",
       "<style scoped>\n",
       "    .dataframe tbody tr th:only-of-type {\n",
       "        vertical-align: middle;\n",
       "    }\n",
       "\n",
       "    .dataframe tbody tr th {\n",
       "        vertical-align: top;\n",
       "    }\n",
       "\n",
       "    .dataframe thead th {\n",
       "        text-align: right;\n",
       "    }\n",
       "</style>\n",
       "<table border=\"1\" class=\"dataframe\">\n",
       "  <thead>\n",
       "    <tr style=\"text-align: right;\">\n",
       "      <th></th>\n",
       "      <th>exp_unique_id</th>\n",
       "      <th>exp_name</th>\n",
       "      <th>timesteps</th>\n",
       "      <th>sensor_1</th>\n",
       "      <th>sensor_2</th>\n",
       "      <th>sensor_3</th>\n",
       "      <th>sensor_4</th>\n",
       "      <th>sensor_5</th>\n",
       "      <th>sensor_6</th>\n",
       "      <th>sensor_7</th>\n",
       "      <th>...</th>\n",
       "      <th>sensor_23</th>\n",
       "      <th>sensor_24</th>\n",
       "      <th>Humidity (r.h.)</th>\n",
       "      <th>measurement_stage</th>\n",
       "      <th>date_exp</th>\n",
       "      <th>time_elapsed</th>\n",
       "      <th>datetime_exp_start</th>\n",
       "      <th>datetime_exp</th>\n",
       "      <th>filename</th>\n",
       "      <th>result</th>\n",
       "    </tr>\n",
       "  </thead>\n",
       "  <tbody>\n",
       "    <tr>\n",
       "      <th>0</th>\n",
       "      <td>0</td>\n",
       "      <td>Test 24</td>\n",
       "      <td>1</td>\n",
       "      <td>131.938</td>\n",
       "      <td>132.443</td>\n",
       "      <td>177.444</td>\n",
       "      <td>178.157</td>\n",
       "      <td>44.974</td>\n",
       "      <td>44.508</td>\n",
       "      <td>219.374</td>\n",
       "      <td>...</td>\n",
       "      <td>143.288</td>\n",
       "      <td>142.050</td>\n",
       "      <td>46.07</td>\n",
       "      <td>baseline</td>\n",
       "      <td>21/3/2022</td>\n",
       "      <td>0.00</td>\n",
       "      <td>14:12:54</td>\n",
       "      <td>2022-03-21 14:12:54.000</td>\n",
       "      <td>5 NegTest_3_20220321_14_12.txt</td>\n",
       "      <td>Control</td>\n",
       "    </tr>\n",
       "    <tr>\n",
       "      <th>1</th>\n",
       "      <td>0</td>\n",
       "      <td>Test 24</td>\n",
       "      <td>2</td>\n",
       "      <td>133.078</td>\n",
       "      <td>133.972</td>\n",
       "      <td>177.444</td>\n",
       "      <td>178.694</td>\n",
       "      <td>45.131</td>\n",
       "      <td>44.611</td>\n",
       "      <td>219.607</td>\n",
       "      <td>...</td>\n",
       "      <td>142.874</td>\n",
       "      <td>141.914</td>\n",
       "      <td>46.07</td>\n",
       "      <td>baseline</td>\n",
       "      <td>21/3/2022</td>\n",
       "      <td>0.25</td>\n",
       "      <td>14:12:54</td>\n",
       "      <td>2022-03-21 14:12:54.250</td>\n",
       "      <td>5 NegTest_3_20220321_14_12.txt</td>\n",
       "      <td>Control</td>\n",
       "    </tr>\n",
       "    <tr>\n",
       "      <th>2</th>\n",
       "      <td>0</td>\n",
       "      <td>Test 24</td>\n",
       "      <td>3</td>\n",
       "      <td>131.812</td>\n",
       "      <td>132.064</td>\n",
       "      <td>177.622</td>\n",
       "      <td>178.694</td>\n",
       "      <td>45.183</td>\n",
       "      <td>44.663</td>\n",
       "      <td>219.841</td>\n",
       "      <td>...</td>\n",
       "      <td>143.288</td>\n",
       "      <td>141.914</td>\n",
       "      <td>46.07</td>\n",
       "      <td>baseline</td>\n",
       "      <td>21/3/2022</td>\n",
       "      <td>0.50</td>\n",
       "      <td>14:12:54</td>\n",
       "      <td>2022-03-21 14:12:54.500</td>\n",
       "      <td>5 NegTest_3_20220321_14_12.txt</td>\n",
       "      <td>Control</td>\n",
       "    </tr>\n",
       "    <tr>\n",
       "      <th>3</th>\n",
       "      <td>0</td>\n",
       "      <td>Test 24</td>\n",
       "      <td>4</td>\n",
       "      <td>131.059</td>\n",
       "      <td>132.064</td>\n",
       "      <td>177.444</td>\n",
       "      <td>178.694</td>\n",
       "      <td>45.183</td>\n",
       "      <td>44.663</td>\n",
       "      <td>219.607</td>\n",
       "      <td>...</td>\n",
       "      <td>142.599</td>\n",
       "      <td>141.368</td>\n",
       "      <td>46.07</td>\n",
       "      <td>baseline</td>\n",
       "      <td>21/3/2022</td>\n",
       "      <td>0.75</td>\n",
       "      <td>14:12:54</td>\n",
       "      <td>2022-03-21 14:12:54.750</td>\n",
       "      <td>5 NegTest_3_20220321_14_12.txt</td>\n",
       "      <td>Control</td>\n",
       "    </tr>\n",
       "    <tr>\n",
       "      <th>4</th>\n",
       "      <td>0</td>\n",
       "      <td>Test 24</td>\n",
       "      <td>5</td>\n",
       "      <td>131.435</td>\n",
       "      <td>131.938</td>\n",
       "      <td>177.622</td>\n",
       "      <td>178.694</td>\n",
       "      <td>45.131</td>\n",
       "      <td>44.663</td>\n",
       "      <td>219.607</td>\n",
       "      <td>...</td>\n",
       "      <td>142.187</td>\n",
       "      <td>140.825</td>\n",
       "      <td>46.07</td>\n",
       "      <td>baseline</td>\n",
       "      <td>21/3/2022</td>\n",
       "      <td>1.00</td>\n",
       "      <td>14:12:54</td>\n",
       "      <td>2022-03-21 14:12:55.000</td>\n",
       "      <td>5 NegTest_3_20220321_14_12.txt</td>\n",
       "      <td>Control</td>\n",
       "    </tr>\n",
       "  </tbody>\n",
       "</table>\n",
       "<p>5 rows × 35 columns</p>\n",
       "</div>"
      ],
      "text/plain": [
       "   exp_unique_id  exp_name  timesteps  sensor_1  sensor_2  sensor_3  sensor_4  \\\n",
       "0              0  Test 24           1   131.938   132.443   177.444   178.157   \n",
       "1              0  Test 24           2   133.078   133.972   177.444   178.694   \n",
       "2              0  Test 24           3   131.812   132.064   177.622   178.694   \n",
       "3              0  Test 24           4   131.059   132.064   177.444   178.694   \n",
       "4              0  Test 24           5   131.435   131.938   177.622   178.694   \n",
       "\n",
       "   sensor_5  sensor_6  sensor_7  ...  sensor_23  sensor_24   Humidity (r.h.)  \\\n",
       "0    44.974    44.508   219.374  ...    143.288    142.050             46.07   \n",
       "1    45.131    44.611   219.607  ...    142.874    141.914             46.07   \n",
       "2    45.183    44.663   219.841  ...    143.288    141.914             46.07   \n",
       "3    45.183    44.663   219.607  ...    142.599    141.368             46.07   \n",
       "4    45.131    44.663   219.607  ...    142.187    140.825             46.07   \n",
       "\n",
       "   measurement_stage   date_exp  time_elapsed  datetime_exp_start  \\\n",
       "0           baseline  21/3/2022          0.00            14:12:54   \n",
       "1           baseline  21/3/2022          0.25            14:12:54   \n",
       "2           baseline  21/3/2022          0.50            14:12:54   \n",
       "3           baseline  21/3/2022          0.75            14:12:54   \n",
       "4           baseline  21/3/2022          1.00            14:12:54   \n",
       "\n",
       "              datetime_exp                        filename   result  \n",
       "0  2022-03-21 14:12:54.000  5 NegTest_3_20220321_14_12.txt  Control  \n",
       "1  2022-03-21 14:12:54.250  5 NegTest_3_20220321_14_12.txt  Control  \n",
       "2  2022-03-21 14:12:54.500  5 NegTest_3_20220321_14_12.txt  Control  \n",
       "3  2022-03-21 14:12:54.750  5 NegTest_3_20220321_14_12.txt  Control  \n",
       "4  2022-03-21 14:12:55.000  5 NegTest_3_20220321_14_12.txt  Control  \n",
       "\n",
       "[5 rows x 35 columns]"
      ]
     },
     "execution_count": 24,
     "metadata": {},
     "output_type": "execute_result"
    }
   ],
   "source": [
    "df.head()"
   ]
  },
  {
   "cell_type": "code",
   "execution_count": 25,
   "metadata": {},
   "outputs": [],
   "source": [
    "import numpy as np\n",
    "import pandas as pd\n",
    "import xgboost as xgb\n",
    "from boruta import BorutaPy\n",
    "from tsfresh.utilities.dataframe_functions import impute\n",
    "from tsfresh.feature_extraction import (\n",
    "    ComprehensiveFCParameters,\n",
    "    extract_features,\n",
    ")\n",
    "from tsfresh import extract_features"
   ]
  },
  {
   "cell_type": "code",
   "execution_count": 26,
   "metadata": {},
   "outputs": [],
   "source": [
    "FEATURES = [\n",
    "    \"exp_unique_id\",\n",
    "    \"timesteps\",\n",
    "    \"sensor_1\",\n",
    "    \"sensor_2\",\n",
    "    \"sensor_3\",\n",
    "    \"sensor_4\",\n",
    "    \"sensor_5\",\n",
    "    \"sensor_6\",\n",
    "    \"sensor_7\",\n",
    "    \"sensor_8\",\n",
    "    \"sensor_9\",\n",
    "    \"sensor_10\",\n",
    "    \"sensor_11\",\n",
    "    \"sensor_12\",\n",
    "    \"sensor_13\",\n",
    "    \"sensor_14\",\n",
    "    \"sensor_15\",\n",
    "    \"sensor_16\",\n",
    "    \"sensor_17\",\n",
    "    \"sensor_18\",\n",
    "    \"sensor_19\",\n",
    "    \"sensor_20\",\n",
    "    \"sensor_21\",\n",
    "    \"sensor_22\",\n",
    "    \"sensor_23\",\n",
    "    \"sensor_24\",\n",
    "]\n",
    "\n",
    "TARGET_COL = \"result\"\n",
    "\n",
    "unique_id=\"exp_unique_id\"\n",
    "label=\"result\"\n",
    "timesteps=\"timesteps\""
   ]
  },
  {
   "cell_type": "code",
   "execution_count": 27,
   "metadata": {},
   "outputs": [],
   "source": [
    "extraction_settings = ComprehensiveFCParameters()"
   ]
  },
  {
   "cell_type": "code",
   "execution_count": 28,
   "metadata": {},
   "outputs": [],
   "source": [
    "y = df.groupby(unique_id).first()[label]\n",
    "X = df.drop(label, axis=1)"
   ]
  },
  {
   "cell_type": "code",
   "execution_count": 29,
   "metadata": {},
   "outputs": [
    {
     "name": "stderr",
     "output_type": "stream",
     "text": [
      "Feature Extraction: 100%|██████████| 20/20 [00:09<00:00,  2.04it/s]\n"
     ]
    }
   ],
   "source": [
    "features = [col for col in X if col.startswith('sensor')]\n",
    "features = [unique_id, timesteps] + features\n",
    "\n",
    "X = X[features]\n",
    "\n",
    "# X = df.drop(label, axis=1)\n",
    "# y = df.groupby(unique_id).first()[label]\n",
    "\n",
    "X = extract_features(\n",
    "    X,\n",
    "    column_id=unique_id,\n",
    "    column_sort=timesteps,\n",
    "    default_fc_parameters=extraction_settings,\n",
    "    # we impute = remove all NaN features automatically\n",
    "    impute_function=impute,\n",
    ")"
   ]
  },
  {
   "cell_type": "code",
   "execution_count": 30,
   "metadata": {},
   "outputs": [],
   "source": [
    "df = X.join(y)"
   ]
  },
  {
   "cell_type": "code",
   "execution_count": 31,
   "metadata": {},
   "outputs": [],
   "source": [
    "from sklearn.decomposition import PCA\n",
    "pca = PCA(n_components=2)\n",
    "principalComponents = pca.fit_transform(X)\n",
    "principalDf = pd.DataFrame(data = principalComponents\n",
    "             , columns = ['principal component 1', 'principal component 2'])"
   ]
  },
  {
   "cell_type": "code",
   "execution_count": 32,
   "metadata": {},
   "outputs": [],
   "source": [
    "import matplotlib.pyplot as plt"
   ]
  },
  {
   "cell_type": "code",
   "execution_count": 33,
   "metadata": {},
   "outputs": [
    {
     "data": {
      "image/png": "[encoded data removed]",
      "text/plain": [
       "<Figure size 432x288 with 1 Axes>"
      ]
     },
     "metadata": {
      "needs_background": "light"
     },
     "output_type": "display_data"
    }
   ],
   "source": [
    "# PLotting two variables\n",
    "colors = {'Control':'green', 'Covid':'red'}\n",
    "plt.scatter(X.iloc[:,5], X.iloc[:,6], c=df[TARGET_COL].map(colors))\n",
    "plt.show()"
   ]
  },
  {
   "cell_type": "code",
   "execution_count": 34,
   "metadata": {},
   "outputs": [],
   "source": [
    "colors = {'Control':'green', 'Covid':'red'}"
   ]
  },
  {
   "cell_type": "code",
   "execution_count": 35,
   "metadata": {},
   "outputs": [],
   "source": [
    "from sklearn.decomposition import PCA\n",
    "pca = PCA(n_components=2)\n",
    "principalComponents = pca.fit_transform(X)\n",
    "principalDf = pd.DataFrame(data = principalComponents\n",
    "             , columns = ['principal component 1', 'principal component 2'])"
   ]
  },
  {
   "cell_type": "code",
   "execution_count": 37,
   "metadata": {},
   "outputs": [],
   "source": [
    "import matplotlib\n",
    "# matplotlib.use(\"pdf\")\n",
    "matplotlib.rcParams.update({\n",
    "    \"pgf.texsystem\": \"pdflatex\",\n",
    "    'font.family': 'serif',\n",
    "    'text.usetex': True,\n",
    "    'pgf.rcfonts': False,\n",
    "})"
   ]
  },
  {
   "cell_type": "code",
   "execution_count": 38,
   "metadata": {},
   "outputs": [
    {
     "name": "stderr",
     "output_type": "stream",
     "text": [
      "/Users/danielfiuzadosil/opt/anaconda3/envs/venv-3.7/lib/python3.7/site-packages/matplotlib/collections.py:1099: UserWarning: Collection without array used. Make sure to specify the values to be colormapped via the `c` argument.\n",
      "  warnings.warn(\"Collection without array used. Make sure to \"\n"
     ]
    },
    {
     "data": {
      "image/png": "[encoded data removed]",
      "text/plain": [
       "<Figure size 432x288 with 1 Axes>"
      ]
     },
     "metadata": {
      "needs_background": "light"
     },
     "output_type": "display_data"
    }
   ],
   "source": [
    "fig, axs = plt.subplots(1,1,tight_layout=True)\n",
    "# \n",
    "scatter = plt.scatter(principalDf.iloc[:,0], principalDf.iloc[:,1], c=df[TARGET_COL].map(colors))\n",
    "# \n",
    "axs.set_ylabel('PCA - Axis 2')\n",
    "axs.set_xlabel('PCA - Axis 1')\n",
    "axs.set_title('Principal Component Analysis')\n",
    "# \n",
    "legend1 = axs.legend(*scatter.legend_elements(),loc=\"upper right\", title=\"Classes\")\n",
    "axs.add_artist(legend1)\n",
    "# \n",
    "plt.show()"
   ]
  },
  {
   "cell_type": "code",
   "execution_count": 50,
   "metadata": {},
   "outputs": [
    {
     "data": {
      "text/plain": [
       "Text(0.5, 1.0, 'Principal Component Analysis')"
      ]
     },
     "execution_count": 50,
     "metadata": {},
     "output_type": "execute_result"
    },
    {
     "data": {
      "image/png": "[encoded data removed]",
      "text/plain": [
       "<Figure size 432x288 with 1 Axes>"
      ]
     },
     "metadata": {
      "needs_background": "light"
     },
     "output_type": "display_data"
    }
   ],
   "source": [
    "import seaborn as sns\n",
    "axs = sns.scatterplot(x=principalDf.iloc[:,0], y=principalDf.iloc[:,1], hue=y, alpha=0.9)\n",
    "# \n",
    "axs.set_ylabel('PCA - Axis 2')\n",
    "axs.set_xlabel('PCA - Axis 1')\n",
    "axs.set_title('Principal Component Analysis')"
   ]
  },
  {
   "cell_type": "code",
   "execution_count": null,
   "metadata": {},
   "outputs": [],
   "source": []
  }
 ],
 "metadata": {
  "interpreter": {
   "hash": "53c91a0ac8cebf87d6dc89d79689e596e7a69520b6d9c103a9f69d18d5e4e84f"
  },
  "kernelspec": {
   "display_name": "Python 3.7.13 ('venv-3.7')",
   "language": "python",
   "name": "python3"
  },
  "language_info": {
   "codemirror_mode": {
    "name": "ipython",
    "version": 3
   },
   "file_extension": ".py",
   "mimetype": "text/x-python",
   "name": "python",
   "nbconvert_exporter": "python",
   "pygments_lexer": "ipython3",
   "version": "3.7.13"
  },
  "orig_nbformat": 4
 },
 "nbformat": 4,
 "nbformat_minor": 2
}
