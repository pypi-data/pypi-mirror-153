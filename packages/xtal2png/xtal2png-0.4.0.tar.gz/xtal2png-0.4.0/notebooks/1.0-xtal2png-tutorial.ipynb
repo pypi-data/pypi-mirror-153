{
  "nbformat": 4,
  "nbformat_minor": 0,
  "metadata": {
    "colab": {
      "name": "xtal2png-tutorial.ipynb",
      "provenance": [],
      "authorship_tag": "ABX9TyNJG5GbIiRm3b22dp5jDrbI",
      "include_colab_link": true
    },
    "kernelspec": {
      "name": "python3",
      "display_name": "Python 3"
    },
    "language_info": {
      "name": "python"
    }
  },
  "cells": [
    {
      "cell_type": "markdown",
      "metadata": {
        "id": "view-in-github",
        "colab_type": "text"
      },
      "source": [
        "<a href=\"https://colab.research.google.com/github/sparks-baird/xtal2png/blob/main/notebooks/1.0-xtal2png-tutorial.ipynb\" target=\"_parent\"><img src=\"https://colab.research.google.com/assets/colab-badge.svg\" alt=\"Open In Colab\"/></a>"
      ]
    },
    {
      "cell_type": "markdown",
      "source": [
        "# Encode/decode a crystal structure to/from a grayscale PNG image"
      ],
      "metadata": {
        "id": "mHJ4l5gKuXx-"
      }
    },
    {
      "cell_type": "markdown",
      "source": [
        "In this notebook, we will install the `xtal2png` package, encode/decode two example pymatgen `Structure` objects, and show some visualizations of the intermediate PNG representations and before/after crystal structure plots. Finally, we comment on how you can use `xtal2png` with state-of-the-art machine learning image models."
      ],
      "metadata": {
        "id": "pjrtpDdbuyqp"
      }
    },
    {
      "cell_type": "markdown",
      "source": [
        "## Installation"
      ],
      "metadata": {
        "id": "In1KcDcVuxw6"
      }
    },
    {
      "cell_type": "markdown",
      "source": [
        "Install the `xtal2png` package. Optionally install `ase` and `nglview` which can be used to visualize crystal structures. You may need to restart the runtime via `Ctrl+M, .` or `Runtime --> Restart Runtime` (via menubar)."
      ],
      "metadata": {
        "id": "93hxUzlfqb4v"
      }
    },
    {
      "cell_type": "code",
      "execution_count": null,
      "metadata": {
        "colab": {
          "base_uri": "https://localhost:8080/"
        },
        "id": "oEFP_2LqUUC5",
        "outputId": "f26dfa45-9709-4687-8078-2c7b5af7a2fe"
      },
      "outputs": [
        {
          "output_type": "stream",
          "name": "stdout",
          "text": [
            "Looking in indexes: https://pypi.org/simple, https://us-python.pkg.dev/colab-wheels/public/simple/\n",
            "Collecting xtal2png\n",
            "  Downloading xtal2png-0.1.6-py3-none-any.whl (20 kB)\n",
            "Requirement already satisfied: pillow in /usr/local/lib/python3.7/dist-packages (from xtal2png) (7.1.2)\n",
            "Collecting pymatgen\n",
            "  Downloading pymatgen-2022.0.17.tar.gz (40.6 MB)\n",
            "\u001b[K     |████████████████████████████████| 40.6 MB 2.0 MB/s \n",
            "\u001b[?25h  Installing build dependencies ... \u001b[?25l\u001b[?25hdone\n",
            "  Getting requirements to build wheel ... \u001b[?25l\u001b[?25hdone\n",
            "  Installing backend dependencies ... \u001b[?25l\u001b[?25hdone\n",
            "    Preparing wheel metadata ... \u001b[?25l\u001b[?25hdone\n",
            "Requirement already satisfied: numpy in /usr/local/lib/python3.7/dist-packages (from xtal2png) (1.21.6)\n",
            "Requirement already satisfied: importlib-metadata in /usr/local/lib/python3.7/dist-packages (from xtal2png) (4.11.3)\n",
            "Requirement already satisfied: typing-extensions>=3.6.4 in /usr/local/lib/python3.7/dist-packages (from importlib-metadata->xtal2png) (4.2.0)\n",
            "Requirement already satisfied: zipp>=0.5 in /usr/local/lib/python3.7/dist-packages (from importlib-metadata->xtal2png) (3.8.0)\n",
            "Requirement already satisfied: palettable>=3.1.1 in /usr/local/lib/python3.7/dist-packages (from pymatgen->xtal2png) (3.3.0)\n",
            "Collecting monty>=3.0.2\n",
            "  Downloading monty-2022.4.26-py3-none-any.whl (65 kB)\n",
            "\u001b[K     |████████████████████████████████| 65 kB 3.9 MB/s \n",
            "\u001b[?25hRequirement already satisfied: plotly>=4.5.0 in /usr/local/lib/python3.7/dist-packages (from pymatgen->xtal2png) (5.5.0)\n",
            "Collecting uncertainties>=3.1.4\n",
            "  Downloading uncertainties-3.1.6-py2.py3-none-any.whl (98 kB)\n",
            "\u001b[K     |████████████████████████████████| 98 kB 6.4 MB/s \n",
            "\u001b[?25hCollecting ruamel.yaml>=0.15.6\n",
            "  Downloading ruamel.yaml-0.17.21-py3-none-any.whl (109 kB)\n",
            "\u001b[K     |████████████████████████████████| 109 kB 50.8 MB/s \n",
            "\u001b[?25hCollecting scipy>=1.5.0\n",
            "  Downloading scipy-1.7.3-cp37-cp37m-manylinux_2_12_x86_64.manylinux2010_x86_64.whl (38.1 MB)\n",
            "\u001b[K     |████████████████████████████████| 38.1 MB 1.2 MB/s \n",
            "\u001b[?25hRequirement already satisfied: matplotlib>=1.5 in /usr/local/lib/python3.7/dist-packages (from pymatgen->xtal2png) (3.2.2)\n",
            "Requirement already satisfied: sympy in /usr/local/lib/python3.7/dist-packages (from pymatgen->xtal2png) (1.7.1)\n",
            "Requirement already satisfied: requests in /usr/local/lib/python3.7/dist-packages (from pymatgen->xtal2png) (2.23.0)\n",
            "Requirement already satisfied: pandas in /usr/local/lib/python3.7/dist-packages (from pymatgen->xtal2png) (1.3.5)\n",
            "Requirement already satisfied: tabulate in /usr/local/lib/python3.7/dist-packages (from pymatgen->xtal2png) (0.8.9)\n",
            "Requirement already satisfied: networkx>=2.2 in /usr/local/lib/python3.7/dist-packages (from pymatgen->xtal2png) (2.6.3)\n",
            "Collecting spglib>=1.9.9.44\n",
            "  Downloading spglib-1.16.5-cp37-cp37m-manylinux_2_17_x86_64.manylinux2014_x86_64.whl (325 kB)\n",
            "\u001b[K     |████████████████████████████████| 325 kB 64.7 MB/s \n",
            "\u001b[?25hRequirement already satisfied: kiwisolver>=1.0.1 in /usr/local/lib/python3.7/dist-packages (from matplotlib>=1.5->pymatgen->xtal2png) (1.4.2)\n",
            "Requirement already satisfied: pyparsing!=2.0.4,!=2.1.2,!=2.1.6,>=2.0.1 in /usr/local/lib/python3.7/dist-packages (from matplotlib>=1.5->pymatgen->xtal2png) (3.0.9)\n",
            "Requirement already satisfied: python-dateutil>=2.1 in /usr/local/lib/python3.7/dist-packages (from matplotlib>=1.5->pymatgen->xtal2png) (2.8.2)\n",
            "Requirement already satisfied: cycler>=0.10 in /usr/local/lib/python3.7/dist-packages (from matplotlib>=1.5->pymatgen->xtal2png) (0.11.0)\n",
            "Requirement already satisfied: six in /usr/local/lib/python3.7/dist-packages (from plotly>=4.5.0->pymatgen->xtal2png) (1.15.0)\n",
            "Requirement already satisfied: tenacity>=6.2.0 in /usr/local/lib/python3.7/dist-packages (from plotly>=4.5.0->pymatgen->xtal2png) (8.0.1)\n",
            "Collecting ruamel.yaml.clib>=0.2.6\n",
            "  Downloading ruamel.yaml.clib-0.2.6-cp37-cp37m-manylinux1_x86_64.whl (546 kB)\n",
            "\u001b[K     |████████████████████████████████| 546 kB 52.2 MB/s \n",
            "\u001b[?25hRequirement already satisfied: future in /usr/local/lib/python3.7/dist-packages (from uncertainties>=3.1.4->pymatgen->xtal2png) (0.16.0)\n",
            "Requirement already satisfied: pytz>=2017.3 in /usr/local/lib/python3.7/dist-packages (from pandas->pymatgen->xtal2png) (2022.1)\n",
            "Requirement already satisfied: certifi>=2017.4.17 in /usr/local/lib/python3.7/dist-packages (from requests->pymatgen->xtal2png) (2022.5.18.1)\n",
            "Requirement already satisfied: idna<3,>=2.5 in /usr/local/lib/python3.7/dist-packages (from requests->pymatgen->xtal2png) (2.10)\n",
            "Requirement already satisfied: chardet<4,>=3.0.2 in /usr/local/lib/python3.7/dist-packages (from requests->pymatgen->xtal2png) (3.0.4)\n",
            "Requirement already satisfied: urllib3!=1.25.0,!=1.25.1,<1.26,>=1.21.1 in /usr/local/lib/python3.7/dist-packages (from requests->pymatgen->xtal2png) (1.24.3)\n",
            "Requirement already satisfied: mpmath>=0.19 in /usr/local/lib/python3.7/dist-packages (from sympy->pymatgen->xtal2png) (1.2.1)\n",
            "Building wheels for collected packages: pymatgen\n"
          ]
        }
      ],
      "source": [
        "!pip install xtal2png\n",
        "!pip install ase nglview # optional, for visualization of crystal structures"
      ]
    },
    {
      "cell_type": "markdown",
      "source": [
        "## Encode(/decode) two pymatgen `Structure` objects"
      ],
      "metadata": {
        "id": "5_ur18igvGap"
      }
    },
    {
      "cell_type": "markdown",
      "source": [
        "Import a list of two example pymatgen `Structure` objects (these correspond to [mp-560471](https://next-gen.materialsproject.org/materials/mp-560471)/$Zn_2B_2PbO_6$ and [mp-7823](https://next-gen.materialsproject.org/materials/mp-7823)/$V_2NiSe_4$, respectively)"
      ],
      "metadata": {
        "id": "auHOZ-dAhd5t"
      }
    },
    {
      "cell_type": "code",
      "source": [
        "from xtal2png.utils.data import example_structures\n",
        "from xtal2png.core import XtalConverter"
      ],
      "metadata": {
        "id": "qDET_Hc6UXP7"
      },
      "execution_count": null,
      "outputs": []
    },
    {
      "cell_type": "markdown",
      "source": [
        "Let's take a look at the second `Structure` which has a smaller footprint."
      ],
      "metadata": {
        "id": "EcxElT0bhyxF"
      }
    },
    {
      "cell_type": "code",
      "source": [
        "example_structures[1]"
      ],
      "metadata": {
        "id": "S2I58v39hyNO"
      },
      "execution_count": null,
      "outputs": []
    },
    {
      "cell_type": "markdown",
      "source": [
        "We will be using the `XtalConverter` class, for which more information including its `__init__` arguments and functions can be displayed via `help(XtalConverter)`. For just the parameters for class instantiation, try `help(XtalConverter.__init__)`. Note that `max_sites` is not tested for values other than `52`."
      ],
      "metadata": {
        "id": "ulVWYCeoiuTM"
      }
    },
    {
      "cell_type": "code",
      "source": [
        "help(XtalConverter.__init__)"
      ],
      "metadata": {
        "id": "hZ4LtYcJkoOC"
      },
      "execution_count": null,
      "outputs": []
    },
    {
      "cell_type": "markdown",
      "source": [
        "Let's specify the save directory (`save_dir`) for the PNG files as `\"data\"`, which will be automatically created. In this case, it will be saved to temporary Google Colab storage."
      ],
      "metadata": {
        "id": "weBReOogvmeK"
      }
    },
    {
      "cell_type": "code",
      "source": [
        "xc = XtalConverter(save_dir=\"data\")\n",
        "data = xc.xtal2png(example_structures, save=True)\n",
        "decoded_structures = xc.png2xtal(data, save=False)"
      ],
      "metadata": {
        "id": "B_S0jeVsVfYK"
      },
      "execution_count": null,
      "outputs": []
    },
    {
      "cell_type": "markdown",
      "source": [
        "## Visualization"
      ],
      "metadata": {
        "id": "DNL8GcdZwixh"
      }
    },
    {
      "cell_type": "markdown",
      "source": [
        "For visualization, we'll cover two aspects: the structure-encoded PNG images and visualizing before/after crystal structures."
      ],
      "metadata": {
        "id": "Cexf9PqBwkMR"
      }
    },
    {
      "cell_type": "markdown",
      "source": [
        "### Structure-encoded PNG images"
      ],
      "metadata": {
        "id": "Xm8i5EZ5wsqJ"
      }
    },
    {
      "cell_type": "markdown",
      "source": [
        "Note that images won't show via `im.show()` command _on Google Colab_ even if you specify `xc.xtal2png(..., show=True, ...)`, so for this Colab example we'll open the images ad-hoc based on where they were saved in local Colab storage. We display the images stacked one on top of another using `display(im)` instead of `im.show()`. Note that the filepaths have the chemical formula, `volume`, and a randomly generated `uid` portion to promote uniqueness, especially when dealing with allotropes (same chemical formula, different crystal structure)."
      ],
      "metadata": {
        "id": "TQ8jkgYrhcg2"
      }
    },
    {
      "cell_type": "code",
      "source": [
        "import glob, os\n",
        "from PIL import Image\n",
        "for fpath in glob.glob(\"data/*.png\"):\n",
        "    with Image.open(fpath) as im:\n",
        "      im = im.resize((64*5, 64*5), Image.BOX)\n",
        "      print(fpath)\n",
        "      display(im)"
      ],
      "metadata": {
        "id": "pV0L8N85kTFk"
      },
      "execution_count": null,
      "outputs": []
    },
    {
      "cell_type": "markdown",
      "source": [
        "As mentioned in the README, the legend key for these images is as follows:\n",
        "\n",
        "&nbsp;&nbsp;&nbsp;&nbsp;&nbsp;&nbsp;&nbsp;&nbsp;<img src=https://user-images.githubusercontent.com/45469701/169937021-f6f60169-6965-4db1-9bbd-e8744521d570.png width=327>"
      ],
      "metadata": {
        "id": "oU6FjfDYnnuI"
      }
    },
    {
      "cell_type": "markdown",
      "source": [
        "Also described in the README, the match between the encoded and decoded versions is within an expected tolerance, given that PNG images are represented as discrete RGB values between 0 and 255 (i.e. there is a round-off error).\n",
        "\n",
        "<table>\n",
        "<tr>\n",
        "<th> Original </th>\n",
        "<th> Decoded </th>\n",
        "</tr>\n",
        "<tr>\n",
        "<td>\n",
        "\n",
        "```python\n",
        "Structure Summary\n",
        "Lattice\n",
        "    abc : 5.033788 11.523021 10.74117\n",
        " angles : 90.0 90.0 90.0\n",
        " volume : 623.0356027127609\n",
        "      A : 5.033788 0.0 3.082306e-16\n",
        "      B : 1.853043e-15 11.523021 7.055815e-16\n",
        "      C : 0.0 0.0 10.74117\n",
        "PeriodicSite: Zn2+ (0.912, 5.770, 9.126) [0.181, 0.501, 0.850]\n",
        "PeriodicSite: Zn2+ (4.122, 5.753, 1.616) [0.8188, 0.499, 0.150]\n",
        "...\n",
        "```\n",
        "\n",
        "</td>\n",
        "<td>\n",
        "\n",
        "```python\n",
        "Structure Summary\n",
        "Lattice\n",
        "    abc : 5.058824 11.529412 10.764706\n",
        " angles : 90.352941 90.352941 90.352941\n",
        " volume : 627.818381\n",
        "      A : 5.058728 0.0 -0.031162\n",
        "      B : -0.071459 11.528972 -0.071021\n",
        "      C : 0.0 0.0 10.764706\n",
        "PeriodicSite: Zn (0.877, 5.787, 9.119) [0.180, 0.502, 0.851]\n",
        "PeriodicSite: Zn (4.111, 5.742, 1.543) [0.820, 0.498, 0.149]\n",
        "...\n",
        "```\n",
        "\n",
        "</td>\n",
        "</tr>\n",
        "</table>"
      ],
      "metadata": {
        "id": "U-rTkYeMxxAQ"
      }
    },
    {
      "cell_type": "markdown",
      "source": [
        "### Before/after Crystal Structure Visualization"
      ],
      "metadata": {
        "id": "6K8M_EWewvgK"
      }
    },
    {
      "cell_type": "markdown",
      "source": [
        "To visualize the crystal structures before and after, we can use `nglview` after a bit of Colab finnagling with external ipywidgets."
      ],
      "metadata": {
        "id": "e1TFsM32pwsN"
      }
    },
    {
      "cell_type": "code",
      "source": [
        "from google.colab import output\n",
        "output.enable_custom_widget_manager()"
      ],
      "metadata": {
        "id": "VDhN-1cFuGIq"
      },
      "execution_count": null,
      "outputs": []
    },
    {
      "cell_type": "code",
      "source": [
        "from pymatgen.io.ase import AseAtomsAdaptor\n",
        "from ase.visualize import view\n",
        "aaa = AseAtomsAdaptor()"
      ],
      "metadata": {
        "id": "kT2kMJkBriRT"
      },
      "execution_count": null,
      "outputs": []
    },
    {
      "cell_type": "code",
      "source": [
        "[display(view(aaa.get_atoms(s), viewer='ngl')) for s in example_structures]"
      ],
      "metadata": {
        "id": "40sCJggKsV5E"
      },
      "execution_count": null,
      "outputs": []
    },
    {
      "cell_type": "code",
      "source": [
        "[display(view(aaa.get_atoms(s), viewer='ngl')) for s in decoded_structures]"
      ],
      "metadata": {
        "id": "FWMOd7gHsTB0"
      },
      "execution_count": null,
      "outputs": []
    },
    {
      "cell_type": "markdown",
      "source": [
        "Undo the Colab finnagling of external ipywidgets."
      ],
      "metadata": {
        "id": "1u_95y04uIRa"
      }
    },
    {
      "cell_type": "code",
      "source": [
        "from google.colab import output\n",
        "output.disable_custom_widget_manager()"
      ],
      "metadata": {
        "id": "IVFYjEvUrfCP"
      },
      "execution_count": null,
      "outputs": []
    },
    {
      "cell_type": "markdown",
      "source": [
        "## Final Remarks"
      ],
      "metadata": {
        "id": "DLAfVjyrw5VK"
      }
    },
    {
      "cell_type": "markdown",
      "source": [
        "This tool makes it possible to use state-of-the-art image-based machine learning models with minimal \"plumbing\" required. Just follow the normal instructions for custom image datasets. For example, this can be used with [Palette](https://iterative-refinement.github.io/palette/), an image-to-image guided diffusion model by Google, which has an unofficial implementation [here](https://github.com/Janspiry/Palette-Image-to-Image-Diffusion-Models)."
      ],
      "metadata": {
        "id": "7QHtKaklxKip"
      }
    }
  ]
}
