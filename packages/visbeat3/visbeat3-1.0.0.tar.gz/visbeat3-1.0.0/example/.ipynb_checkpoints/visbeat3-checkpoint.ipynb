{
 "cells": [
  {
   "cell_type": "code",
   "execution_count": null,
   "metadata": {
    "id": "1vGVwakFz13M"
   },
   "outputs": [],
   "source": [
    "!git clone https://github.com/haofanwang/visbeat3.git"
   ]
  },
  {
   "cell_type": "code",
   "execution_count": null,
   "metadata": {
    "id": "-GEQpRHN1Kxo"
   },
   "outputs": [],
   "source": [
    "!pip install imageio==2.9.0"
   ]
  },
  {
   "cell_type": "code",
   "execution_count": null,
   "metadata": {
    "id": "M8hpRsvD41Fs"
   },
   "outputs": [],
   "source": [
    "!pip install moviepy==1.0.3"
   ]
  },
  {
   "cell_type": "code",
   "execution_count": 1,
   "metadata": {
    "colab": {
     "base_uri": "https://localhost:8080/"
    },
    "id": "W10r2ywk0s8T",
    "outputId": "2a4f779d-7032-43fd-fe88-93fb7f378dd7"
   },
   "outputs": [
    {
     "name": "stdout",
     "output_type": "stream",
     "text": [
      "/content/visbeat3\n"
     ]
    }
   ],
   "source": [
    "cd visbeat3"
   ]
  },
  {
   "cell_type": "code",
   "execution_count": 2,
   "metadata": {
    "colab": {
     "base_uri": "https://localhost:8080/"
    },
    "id": "IWwc48WF0DIu",
    "outputId": "17cc24f4-779c-49a3-e4c2-4267b4d519aa"
   },
   "outputs": [
    {
     "name": "stdout",
     "output_type": "stream",
     "text": [
      "destination: ./VisBeatAssets/VideoSources/ name: video source_location: ./data/01.mp4\n",
      "Video source at ./VisBeatAssets/VideoSources/video/\n",
      "Calculating frames for 01_Full...\n",
      "Done.\n",
      "Calculating frames for None...\n",
      "Done.\n",
      "Moviepy - Building video ./VisBeatAssets/VideoSources/video/Versions//Original/maxheight_240/01.mp4.\n",
      "MoviePy - Writing audio in ./VisBeatAssets/TEMP_FILES/TEMP_01.mp4.m4a\n"
     ]
    },
    {
     "name": "stderr",
     "output_type": "stream",
     "text": [
      ""
     ]
    },
    {
     "name": "stdout",
     "output_type": "stream",
     "text": [
      "MoviePy - Done.\n",
      "Moviepy - Writing video ./VisBeatAssets/VideoSources/video/Versions//Original/maxheight_240/01.mp4\n",
      "\n"
     ]
    },
    {
     "name": "stderr",
     "output_type": "stream",
     "text": [
      ""
     ]
    },
    {
     "name": "stdout",
     "output_type": "stream",
     "text": [
      "Moviepy - Done !\n",
      "Moviepy - video ready ./VisBeatAssets/VideoSources/video/Versions//Original/maxheight_240/01.mp4\n",
      "Calculating frames for None...\n",
      "Done.\n",
      "Calculating frames for 01_240...\n",
      "Done.\n",
      "destination: ./VisBeatAssets/VideoSources/ name: audio source_location: ./data/02.mp4\n",
      "Video source at ./VisBeatAssets/VideoSources/audio/\n",
      "Calculating frames for 02_Full...\n",
      "Done.\n",
      "Calculating frames for None...\n",
      "Done.\n",
      "Moviepy - Building video ./VisBeatAssets/VideoSources/audio/Versions//Original/maxheight_240/02.mp4.\n",
      "MoviePy - Writing audio in ./VisBeatAssets/TEMP_FILES/TEMP_02.mp4.m4a\n"
     ]
    },
    {
     "name": "stderr",
     "output_type": "stream",
     "text": [
      ""
     ]
    },
    {
     "name": "stdout",
     "output_type": "stream",
     "text": [
      "MoviePy - Done.\n",
      "Moviepy - Writing video ./VisBeatAssets/VideoSources/audio/Versions//Original/maxheight_240/02.mp4\n",
      "\n"
     ]
    },
    {
     "name": "stderr",
     "output_type": "stream",
     "text": [
      ""
     ]
    },
    {
     "name": "stdout",
     "output_type": "stream",
     "text": [
      "Moviepy - Done !\n",
      "Moviepy - video ready ./VisBeatAssets/VideoSources/audio/Versions//Original/maxheight_240/02.mp4\n",
      "Calculating frames for None...\n",
      "Done.\n",
      "Calculating frames for 02_240...\n",
      "Done.\n",
      "Warping 01_240 to 02_240\n",
      "Computing Flow Features with deadzone 0.05\n",
      "44.18762746430999%% done after 10.19064998626709 seconds...\n",
      "91.77430319510536%% done after 20.905693531036377 seconds...\n",
      "0.015\n",
      "Rendering 32 beats of result\n",
      "32\n",
      "target start: 0.2089795918367347\n",
      "target end: 14.79111111111111\n",
      "target duration: 14.582131519274375\n",
      "Calculating frames for None...\n",
      "Done.\n",
      "Issue loading audio for b'./VisBeatAssets/TEMP_FILES/TEMP_01_240_TO_02_240quad_sab_0_svb_0.mp4'\n",
      "Using bitrate of 20000k\n",
      "stereo is False\n",
      "Moviepy - Building video ./VisBeatAssets/VideoSources/video/Versions/Warps/maxheight_240//01_240_TO_02_240quad_sab_0_svb_0.mp4.\n",
      "MoviePy - Writing audio in ./VisBeatAssets/TEMP_FILES/TEMP_01_240_TO_02_240quad_sab_0_svb_0.mp4.m4a\n"
     ]
    },
    {
     "name": "stderr",
     "output_type": "stream",
     "text": [
      ""
     ]
    },
    {
     "name": "stdout",
     "output_type": "stream",
     "text": [
      "MoviePy - Done.\n",
      "Moviepy - Writing video ./VisBeatAssets/VideoSources/video/Versions/Warps/maxheight_240//01_240_TO_02_240quad_sab_0_svb_0.mp4\n",
      "\n"
     ]
    },
    {
     "name": "stderr",
     "output_type": "stream",
     "text": [
      ""
     ]
    },
    {
     "name": "stdout",
     "output_type": "stream",
     "text": [
      "Moviepy - Done !\n",
      "Moviepy - video ready ./VisBeatAssets/VideoSources/video/Versions/Warps/maxheight_240//01_240_TO_02_240quad_sab_0_svb_0.mp4\n",
      "Calculating frames for None...\n",
      "Done.\n"
     ]
    }
   ],
   "source": [
    "import os\n",
    "import time\n",
    "\n",
    "import matplotlib\n",
    "import matplotlib.pyplot as plt\n",
    "\n",
    "import numpy as np\n",
    "import visbeat3 as vb\n",
    "\n",
    "vb.SetAssetsDir('./VisBeatAssets/')\n",
    "\n",
    "# load video locally (download from Youtube URL is not well-supported yet!)\n",
    "source_video = vb.PullVideo(name='video', source_location='./data/01.mp4')\n",
    "source_audio = vb.PullVideo(name='audio', source_location='./data/02.mp4')\n",
    "\n",
    "synch_video_beat = 0\n",
    "synch_audio_beat = 0\n",
    "nbeats = 32\n",
    "\n",
    "output_path = './result.mp4'\n",
    "\n",
    "warped = vb.Dancify(source_video=source_video, \n",
    "                    target=source_audio.getAudio(), \n",
    "                    synch_video_beat=synch_video_beat,\n",
    "                    synch_audio_beat=synch_audio_beat, \n",
    "                    force_recompute=True, \n",
    "                    warp_type='quad',\n",
    "                    nbeats=nbeats, \n",
    "                    output_path=output_path)"
   ]
  }
 ],
 "metadata": {
  "colab": {
   "collapsed_sections": [],
   "name": "visbeat3.ipynb",
   "provenance": []
  },
  "kernelspec": {
   "display_name": "Python 3",
   "name": "python3"
  },
  "language_info": {
   "name": "python"
  }
 },
 "nbformat": 4,
 "nbformat_minor": 0
}
