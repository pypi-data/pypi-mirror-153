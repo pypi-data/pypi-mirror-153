{
 "cells": [
  {
   "cell_type": "markdown",
   "metadata": {},
   "source": [
    "## Robot@Home 2 - Scenes `v1.2`\n",
    "\n"
   ]
  },
  {
   "cell_type": "markdown",
   "metadata": {},
   "source": [
    "`R@H2 notebook series`\n",
    "\n"
   ]
  },
  {
   "cell_type": "markdown",
   "metadata": {},
   "source": [
    "### R@H2 functions introduced in this notebook:\n",
    "\n"
   ]
  },
  {
   "cell_type": "markdown",
   "metadata": {},
   "source": [
    "-   `rh.get_scenes(id)`\n",
    "-   `rh.get_scene_labels(id, obj_ext)`\n",
    "-   `plot_scene(scene_file)`\n",
    "\n"
   ]
  },
  {
   "cell_type": "markdown",
   "metadata": {},
   "source": [
    "### Scenes\n",
    "\n"
   ]
  },
  {
   "cell_type": "markdown",
   "metadata": {},
   "source": [
    "Scenes contain the 3D coloured point cloud reconstruction for each room. Such\n",
    "reconstruction was built employing a mapping application which registers the\n",
    "RGB-D observations employing different ICP-based techniques. The 3D point clouds\n",
    "are stored as plain text files containing the coordinates and colors of the\n",
    "points that make up the 3D cloud. These files can be easily visualized with the\n",
    "built-in function `plot_scene` or a software like [MeshLab](https://www.meshlab.net/).\n",
    "\n",
    "![img](./70-scenes-meshlab.png \"Anto's livingroom (12-scene.txt) displayed thorugh MeshLab\")\n",
    "\n"
   ]
  },
  {
   "cell_type": "code",
   "execution_count": 1,
   "metadata": {},
   "outputs": [],
   "source": [
    "import os\n",
    "import pandas as pd\n",
    "from robotathome import RobotAtHome\n",
    "from robotathome import logger, log, set_log_level\n",
    "from robotathome import time_win2unixepoch, time_unixepoch2win\n",
    "from robotathome import plot_scene"
   ]
  },
  {
   "cell_type": "code",
   "execution_count": 2,
   "metadata": {},
   "outputs": [
    {
     "name": "stderr",
     "output_type": "stream",
     "text": [
      "2022-01-24 01:14:09.243 | SUCCESS  | robotathome.core.reader:__open_dataset:85 - Connection is established: rh.db\n"
     ]
    }
   ],
   "source": [
    "log.set_log_level('INFO')  # SUCCESS is the default\n",
    "\n",
    "my_rh_path = '~/WORKSPACE/R@H2-2.0.1'\n",
    "my_rgbd_path = os.path.join(my_rh_path, 'files/rgbd')\n",
    "my_scene_path = os.path.join(my_rh_path, 'files/scene')\n",
    "my_wspc_path = '~/WORKSPACE'\n",
    "\n",
    "try:\n",
    "    rh = RobotAtHome(my_rh_path, my_rgbd_path, my_scene_path, my_wspc_path)\n",
    "except:\n",
    "    logger.error(\"Something was wrong\")"
   ]
  },
  {
   "cell_type": "markdown",
   "metadata": {},
   "source": [
    "As usual, this toolbox provides a function to get scenes\n",
    "\n"
   ]
  },
  {
   "cell_type": "code",
   "execution_count": 3,
   "metadata": {},
   "outputs": [
    {
     "name": "stderr",
     "output_type": "stream",
     "text": [
      "2022-01-24 01:14:09.257 | INFO     | __main__:<module>:2 - \n",
      "Scenes: \n",
      "    id  home_session_id  home_subsession_id  home_id  room_id  \\\n",
      "0    0                0                   0        0        0   \n",
      "1    1                0                   0        0        1   \n",
      "2    2                0                   0        0        3   \n",
      "3    3                0                   0        0        4   \n",
      "4    4                0                   0        0        5   \n",
      "..  ..              ...                 ...      ...      ...   \n",
      "67  67                6                   1        4       36   \n",
      "68  68                6                   0        4       39   \n",
      "69  69                6                   1        4       39   \n",
      "70  70                6                   0        4       40   \n",
      "71  71                6                   1        4       40   \n",
      "\n",
      "                                           scene_file  \n",
      "0   /home/goyo/WORKSPACE/R@H2-2.0.1/files/scene/se...  \n",
      "1   /home/goyo/WORKSPACE/R@H2-2.0.1/files/scene/se...  \n",
      "2   /home/goyo/WORKSPACE/R@H2-2.0.1/files/scene/se...  \n",
      "3   /home/goyo/WORKSPACE/R@H2-2.0.1/files/scene/se...  \n",
      "4   /home/goyo/WORKSPACE/R@H2-2.0.1/files/scene/se...  \n",
      "..                                                ...  \n",
      "67  /home/goyo/WORKSPACE/R@H2-2.0.1/files/scene/se...  \n",
      "68  /home/goyo/WORKSPACE/R@H2-2.0.1/files/scene/se...  \n",
      "69  /home/goyo/WORKSPACE/R@H2-2.0.1/files/scene/se...  \n",
      "70  /home/goyo/WORKSPACE/R@H2-2.0.1/files/scene/se...  \n",
      "71  /home/goyo/WORKSPACE/R@H2-2.0.1/files/scene/se...  \n",
      "\n",
      "[72 rows x 6 columns]\n"
     ]
    }
   ],
   "source": [
    "scenes = rh.get_scenes()\n",
    "logger.info(\"\\nScenes: \\n{}\", scenes)"
   ]
  },
  {
   "cell_type": "markdown",
   "metadata": {},
   "source": [
    "After some notebooks we have enough skills to advance with an example of multi\n",
    "column filtering\n",
    "\n"
   ]
  },
  {
   "cell_type": "code",
   "execution_count": 4,
   "metadata": {},
   "outputs": [
    {
     "name": "stderr",
     "output_type": "stream",
     "text": [
      "2022-01-24 01:14:09.278 | INFO     | __main__:<module>:12 - \n",
      "Scene file: \n",
      "/home/goyo/WORKSPACE/R@H2-2.0.1/files/scene/session_2/anto/livingroom1/subsession_1/12_scene.txt\n"
     ]
    }
   ],
   "source": [
    "# Let's suppose we want to get the scene file of the kitchen of the home\n",
    "# session alma-s1\n",
    "\n",
    "# Get the ids from their names\n",
    "hs_id = rh.name2id('anto-s1','hs')\n",
    "r_id = rh.name2id('anto_livingroom1','r')\n",
    "\n",
    "# Let's query the scene dataframe with the ids\n",
    "scene =  scenes.query(f'home_session_id=={hs_id} & room_id=={r_id}')\n",
    "# Extract the value of the scene_file field\n",
    "scene_file = scene.scene_file.values[0]\n",
    "logger.info(f'\\nScene file: \\n{scene_file}')"
   ]
  },
  {
   "cell_type": "markdown",
   "metadata": {},
   "source": [
    "R@H2 also provides a function to interactively plot the scene. You will need to\n",
    "install Open3D to use it.\n",
    "\n",
    "    pip install open3d\n",
    "\n",
    "Once installed run the following function\n",
    "\n"
   ]
  },
  {
   "cell_type": "code",
   "execution_count": 5,
   "metadata": {},
   "outputs": [
    {
     "name": "stdout",
     "output_type": "stream",
     "text": [
      "Jupyter environment detected. Enabling Open3D WebVisualizer.\n",
      "[Open3D INFO] WebRTC GUI backend enabled.\n",
      "[Open3D INFO] WebRTCWindowSystem: HTTP handshake server disabled.\n"
     ]
    }
   ],
   "source": [
    "plot_scene(scene_file)"
   ]
  },
  {
   "cell_type": "markdown",
   "metadata": {},
   "source": [
    "![img](./70-scenes-plot-scene.png \"Screenshot of the plot<sub>scene</sub> output\")\n",
    "\n"
   ]
  },
  {
   "cell_type": "markdown",
   "metadata": {},
   "source": [
    "### Labeled 3D point maps\n",
    "\n"
   ]
  },
  {
   "cell_type": "markdown",
   "metadata": {},
   "source": [
    "Each reconstructed room, i.e. scene has been labeled setting bounding boxes to\n",
    "the objects appearing in the point cloud reconstruction and including annotations\n",
    "with the ground truth information about their category, e.g. counter, book,\n",
    "couch, shelf, as well as an object id to identify the particular instance, i.e.\n",
    "counter-1, book-3, etc.\n",
    "\n",
    "To get the labels for a scene use the following function\n",
    "\n"
   ]
  },
  {
   "cell_type": "code",
   "execution_count": 6,
   "metadata": {},
   "outputs": [
    {
     "name": "stderr",
     "output_type": "stream",
     "text": [
      "2022-01-24 01:14:37.390 | INFO     | __main__:<module>:4 - \n",
      "Scene labels: None\n"
     ]
    },
    {
     "name": "stdout",
     "output_type": "stream",
     "text": [
      "<class 'pandas.core.frame.DataFrame'>\n",
      "RangeIndex: 85 entries, 0 to 84\n",
      "Data columns (total 17 columns):\n",
      " #   Column         Non-Null Count  Dtype  \n",
      "---  ------         --------------  -----  \n",
      " 0   id             85 non-null     int64  \n",
      " 1   local_id       85 non-null     int64  \n",
      " 2   scene_id       85 non-null     int64  \n",
      " 3   object_id      85 non-null     int64  \n",
      " 4   object_name    85 non-null     object \n",
      " 5   bb_pose_x      85 non-null     float64\n",
      " 6   bb_pose_y      85 non-null     float64\n",
      " 7   bb_pose_z      85 non-null     float64\n",
      " 8   bb_pose_yaw    85 non-null     float64\n",
      " 9   bb_pose_pitch  85 non-null     float64\n",
      " 10  bb_pose_roll   85 non-null     float64\n",
      " 11  bb_corner1_x   85 non-null     float64\n",
      " 12  bb_corner1_y   85 non-null     float64\n",
      " 13  bb_corner1_z   85 non-null     float64\n",
      " 14  bb_corner2_x   85 non-null     float64\n",
      " 15  bb_corner2_y   85 non-null     float64\n",
      " 16  bb_corner2_z   85 non-null     float64\n",
      "dtypes: float64(12), int64(4), object(1)\n",
      "memory usage: 11.4+ KB\n"
     ]
    }
   ],
   "source": [
    "# let's extract the labels for any scene, for example the scene with id = 0\n",
    "id = scene['id'].values[0]\n",
    "scene_labels = rh.get_scene_labels(id)\n",
    "logger.info(f'\\nScene labels: {scene_labels.info()}')"
   ]
  },
  {
   "cell_type": "markdown",
   "metadata": {},
   "source": [
    "As you can see, for each label there is data about its pose and 3D coordinates.\n",
    "\n"
   ]
  },
  {
   "cell_type": "code",
   "execution_count": 7,
   "metadata": {},
   "outputs": [
    {
     "name": "stderr",
     "output_type": "stream",
     "text": [
      "2022-01-24 01:14:37.396 | INFO     | __main__:<module>:1 - \n",
      "There are 85 object labels in the scene 12\n",
      "\n",
      "2022-01-24 01:14:37.402 | INFO     | __main__:<module>:4 - \n",
      "Data about the label id                     386\n",
      "local_id                 0\n",
      "scene_id                12\n",
      "object_id              369\n",
      "object_name      cushion_0\n",
      "bb_pose_x          1.45029\n",
      "bb_pose_y        -0.618376\n",
      "bb_pose_z         0.537995\n",
      "bb_pose_yaw        0.21677\n",
      "bb_pose_pitch    -0.187421\n",
      "bb_pose_roll     -0.407209\n",
      "bb_corner1_x       1.27315\n",
      "bb_corner1_y      -0.92887\n",
      "bb_corner1_z      0.444868\n",
      "bb_corner2_x       1.65392\n",
      "bb_corner2_y      -0.34463\n",
      "bb_corner2_z      0.536396\n",
      "Name: 0, dtype: object\n"
     ]
    }
   ],
   "source": [
    "logger.info(f'\\nThere are {len(scene_labels)} object labels in the scene {id}\\n')\n",
    "# Let's examine the first bounding box\n",
    "local_id = 0\n",
    "logger.info('\\nData about the label {}', scene_labels.query('local_id==0').loc[0,:])"
   ]
  },
  {
   "cell_type": "markdown",
   "metadata": {},
   "source": [
    "Each box delimits an object for which the dataset has additional information\n",
    "about its features. If you consider this information of interest you can obtain\n",
    "it by accessing the extended set of labels. Please, note that this extended set\n",
    "is experimental: object info has been obtained from 2D observations and the\n",
    "bounding box set has slightly more records (#2446) than the objects one (#2125).\n",
    "\n"
   ]
  },
  {
   "cell_type": "code",
   "execution_count": 8,
   "metadata": {},
   "outputs": [
    {
     "name": "stderr",
     "output_type": "stream",
     "text": [
      "2022-01-24 01:14:37.427 | INFO     | __main__:<module>:4 - \n",
      "Scene labels: None\n"
     ]
    },
    {
     "name": "stdout",
     "output_type": "stream",
     "text": [
      "<class 'pandas.core.frame.DataFrame'>\n",
      "RangeIndex: 85 entries, 0 to 84\n",
      "Data columns (total 50 columns):\n",
      " #   Column                  Non-Null Count  Dtype  \n",
      "---  ------                  --------------  -----  \n",
      " 0   id                      85 non-null     int64  \n",
      " 1   local_id                85 non-null     int64  \n",
      " 2   scene_id                85 non-null     int64  \n",
      " 3   object_id               85 non-null     int64  \n",
      " 4   object_name             85 non-null     object \n",
      " 5   object_type_id          85 non-null     int64  \n",
      " 6   bb_pose_x               85 non-null     float64\n",
      " 7   bb_pose_y               85 non-null     float64\n",
      " 8   bb_pose_z               85 non-null     float64\n",
      " 9   bb_pose_yaw             85 non-null     float64\n",
      " 10  bb_pose_pitch           85 non-null     float64\n",
      " 11  bb_pose_roll            85 non-null     float64\n",
      " 12  bb_corner1_x            85 non-null     float64\n",
      " 13  bb_corner1_y            85 non-null     float64\n",
      " 14  bb_corner1_z            85 non-null     float64\n",
      " 15  bb_corner2_x            85 non-null     float64\n",
      " 16  bb_corner2_y            85 non-null     float64\n",
      " 17  bb_corner2_z            85 non-null     float64\n",
      " 18  planarity               85 non-null     float64\n",
      " 19  scatter                 85 non-null     float64\n",
      " 20  linearity               85 non-null     float64\n",
      " 21  min_height              85 non-null     float64\n",
      " 22  max_height              85 non-null     float64\n",
      " 23  centroid_x              85 non-null     float64\n",
      " 24  centroid_y              85 non-null     float64\n",
      " 25  centroid_z              85 non-null     float64\n",
      " 26  volume                  85 non-null     float64\n",
      " 27  biggest_area            85 non-null     float64\n",
      " 28  orientation             85 non-null     float64\n",
      " 29  hue_mean                85 non-null     float64\n",
      " 30  saturation_mean         85 non-null     float64\n",
      " 31  value_mean              85 non-null     float64\n",
      " 32  hue_stdv                85 non-null     float64\n",
      " 33  saturation_stdv         85 non-null     float64\n",
      " 34  value_stdv              85 non-null     float64\n",
      " 35  hue_histogram_0         85 non-null     float64\n",
      " 36  hue_histogram_1         85 non-null     float64\n",
      " 37  hue_histogram_2         85 non-null     float64\n",
      " 38  hue_histogram_3         85 non-null     float64\n",
      " 39  hue_histogram_4         85 non-null     float64\n",
      " 40  value_histogram_0       85 non-null     float64\n",
      " 41  value_histogram_1       85 non-null     float64\n",
      " 42  value_histogram_2       85 non-null     float64\n",
      " 43  value_histogram_3       85 non-null     float64\n",
      " 44  value_histogram_4       85 non-null     float64\n",
      " 45  saturation_histogram_0  85 non-null     float64\n",
      " 46  saturation_histogram_1  85 non-null     float64\n",
      " 47  saturation_histogram_2  85 non-null     float64\n",
      " 48  saturation_histogram_3  85 non-null     float64\n",
      " 49  saturation_histogram_4  85 non-null     float64\n",
      "dtypes: float64(44), int64(5), object(1)\n",
      "memory usage: 33.3+ KB\n"
     ]
    }
   ],
   "source": [
    "# let's extract the labels for any scene, for example the scene with id = 0\n",
    "id = scene['id'].values[0]\n",
    "scene_labels = rh.get_scene_labels(id, True)\n",
    "logger.info(f'\\nScene labels: {scene_labels.info()}')"
   ]
  },
  {
   "cell_type": "markdown",
   "metadata": {},
   "source": [
    "Continuing the example\n",
    "\n"
   ]
  },
  {
   "cell_type": "code",
   "execution_count": 9,
   "metadata": {},
   "outputs": [
    {
     "name": "stderr",
     "output_type": "stream",
     "text": [
      "2022-01-24 01:14:37.436 | INFO     | __main__:<module>:1 - \n",
      "There are 85 object labels in the scene 12\n",
      "\n",
      "2022-01-24 01:14:37.444 | INFO     | __main__:<module>:3 - \n",
      "Data about the label \n",
      "id                              386\n",
      "local_id                          0\n",
      "scene_id                         12\n",
      "object_id                       369\n",
      "object_name               cushion_0\n",
      "object_type_id                   19\n",
      "bb_pose_x                   1.45029\n",
      "bb_pose_y                 -0.618376\n",
      "bb_pose_z                  0.537995\n",
      "bb_pose_yaw                 0.21677\n",
      "bb_pose_pitch             -0.187421\n",
      "bb_pose_roll              -0.407209\n",
      "bb_corner1_x                1.27315\n",
      "bb_corner1_y               -0.92887\n",
      "bb_corner1_z               0.444868\n",
      "bb_corner2_x                1.65392\n",
      "bb_corner2_y               -0.34463\n",
      "bb_corner2_z               0.536396\n",
      "planarity                  0.371469\n",
      "scatter                    0.579293\n",
      "linearity                  0.183205\n",
      "min_height                  0.33062\n",
      "max_height                 0.685427\n",
      "centroid_x                  0.66766\n",
      "centroid_y                 0.537241\n",
      "centroid_z                  1.48019\n",
      "volume                     0.061799\n",
      "biggest_area               0.320693\n",
      "orientation                 26.4447\n",
      "hue_mean                    213.781\n",
      "saturation_mean            0.249712\n",
      "value_mean                 0.272891\n",
      "hue_stdv                    75.7279\n",
      "saturation_stdv             0.24207\n",
      "value_stdv                 0.177601\n",
      "hue_histogram_0            0.104419\n",
      "hue_histogram_1            0.020096\n",
      "hue_histogram_2            0.187924\n",
      "hue_histogram_3            0.604614\n",
      "hue_histogram_4            0.082948\n",
      "value_histogram_0          0.379395\n",
      "value_histogram_1          0.364573\n",
      "value_histogram_2          0.223733\n",
      "value_histogram_3          0.032225\n",
      "value_histogram_4          0.000074\n",
      "saturation_histogram_0     0.633848\n",
      "saturation_histogram_1     0.199588\n",
      "saturation_histogram_2     0.054791\n",
      "saturation_histogram_3     0.050166\n",
      "saturation_histogram_4     0.061607\n",
      "Name: 0, dtype: object\n"
     ]
    }
   ],
   "source": [
    "logger.info(f'\\nThere are {len(scene_labels)} object labels in the scene {id}\\n')\n",
    "# Let's examine again the first bounding box\n",
    "logger.info('\\nData about the label \\n{}', scene_labels.query('local_id==0').loc[0,:])"
   ]
  }
 ],
 "metadata": {
  "kernelspec": {
   "display_name": "Python 3 (ipykernel)",
   "language": "python",
   "name": "python3"
  },
  "language_info": {
   "codemirror_mode": {
    "name": "ipython",
    "version": 3
   },
   "file_extension": ".py",
   "mimetype": "text/x-python",
   "name": "python",
   "nbconvert_exporter": "python",
   "pygments_lexer": "ipython3",
   "version": "3.9.7"
  },
  "org": null
 },
 "nbformat": 4,
 "nbformat_minor": 1
}
