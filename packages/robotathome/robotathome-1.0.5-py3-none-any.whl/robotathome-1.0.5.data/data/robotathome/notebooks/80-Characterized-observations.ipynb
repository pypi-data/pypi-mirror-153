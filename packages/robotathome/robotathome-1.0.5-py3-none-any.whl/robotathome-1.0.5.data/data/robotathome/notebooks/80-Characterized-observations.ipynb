{
 "cells": [
  {
   "cell_type": "markdown",
   "metadata": {},
   "source": [
    "## Robot@Home 2 - Characterized objects & observations `v1.1`\n",
    "\n"
   ]
  },
  {
   "cell_type": "markdown",
   "metadata": {},
   "source": [
    "`R@H2 notebook series`\n",
    "\n"
   ]
  },
  {
   "cell_type": "markdown",
   "metadata": {},
   "source": [
    "### R@H2 functions introduced in this notebook:\n",
    "\n"
   ]
  },
  {
   "cell_type": "markdown",
   "metadata": {},
   "source": [
    "-   `rh.get_observations()`\n",
    "-   `rh.get_objects_in_observation(id)`\n",
    "-   `rh.get_objects()`\n",
    "-   `rh.get_object_relations(id)`\n",
    "\n"
   ]
  },
  {
   "cell_type": "markdown",
   "metadata": {},
   "source": [
    "### Introduction\n",
    "\n"
   ]
  },
  {
   "cell_type": "markdown",
   "metadata": {},
   "source": [
    "Robot2Home 2 dataset contains the features extracted from the difference objects\n",
    "and rooms within each scene. In addition, the dataset contains the featured\n",
    "relations among objects.\n",
    "\n"
   ]
  },
  {
   "cell_type": "code",
   "execution_count": 1,
   "metadata": {},
   "outputs": [],
   "source": [
    "import os\n",
    "import pandas as pd\n",
    "from robotathome import RobotAtHome\n",
    "from robotathome import logger, log, set_log_level"
   ]
  },
  {
   "cell_type": "code",
   "execution_count": 2,
   "metadata": {},
   "outputs": [
    {
     "name": "stderr",
     "output_type": "stream",
     "text": [
      "2022-01-24 01:20:02.897 | SUCCESS  | robotathome.core.reader:__open_dataset:85 - Connection is established: rh.db\n"
     ]
    }
   ],
   "source": [
    "log.set_log_level('INFO')  # SUCCESS is the default\n",
    "\n",
    "my_rh_path = '~/WORKSPACE/R@H2-2.0.1'\n",
    "my_rgbd_path = os.path.join(my_rh_path, 'files/rgbd')\n",
    "my_scene_path = os.path.join(my_rh_path, 'files/scene')\n",
    "my_wspc_path = '~/WORKSPACE'\n",
    "\n",
    "try:\n",
    "    rh = RobotAtHome(my_rh_path, my_rgbd_path, my_scene_path, my_wspc_path)\n",
    "except:\n",
    "    logger.error(\"Something was wrong\")"
   ]
  },
  {
   "cell_type": "markdown",
   "metadata": {},
   "source": [
    "### Observations\n",
    "\n"
   ]
  },
  {
   "cell_type": "markdown",
   "metadata": {},
   "source": [
    "Specifically, for rooms there is a set of RGBD observations that has been\n",
    "characterized considering averaged features from past observations, as well as\n",
    "features of the closest laser scan in time. The number of room features is 48\n",
    "and the number of scan features is 9.\n",
    "\n",
    "Unfortunately, this set of observations should be considered experimental in the\n",
    "sense that the timestamp data has been lost, preventing the identification of\n",
    "the sensor observations from which they where extracted. Nevertheless,\n",
    "RGBD observations are sequentially ordered.\n",
    "\n"
   ]
  },
  {
   "cell_type": "code",
   "execution_count": 3,
   "metadata": {},
   "outputs": [
    {
     "name": "stderr",
     "output_type": "stream",
     "text": [
      "2022-01-24 01:20:03.131 | INFO     | __main__:<module>:2 - \n",
      "Observations: \n",
      "None\n"
     ]
    },
    {
     "name": "stdout",
     "output_type": "stream",
     "text": [
      "<class 'pandas.core.frame.DataFrame'>\n",
      "RangeIndex: 9608 entries, 0 to 9607\n",
      "Data columns (total 63 columns):\n",
      " #   Column                       Non-Null Count  Dtype  \n",
      "---  ------                       --------------  -----  \n",
      " 0   id                           9608 non-null   int64  \n",
      " 1   room_id                      9608 non-null   int64  \n",
      " 2   home_id                      9608 non-null   int64  \n",
      " 3   home_session_id              9608 non-null   int64  \n",
      " 4   home_subsession_id           9608 non-null   int64  \n",
      " 5   sensor_id                    9608 non-null   int64  \n",
      " 6   mean_hue                     9608 non-null   float64\n",
      " 7   mean_saturation              9608 non-null   float64\n",
      " 8   mean_value                   9608 non-null   float64\n",
      " 9   hue_stdv                     9608 non-null   float64\n",
      " 10  saturation_stdv              9608 non-null   float64\n",
      " 11  value_stdv                   9608 non-null   float64\n",
      " 12  hue_histogram_1              9608 non-null   float64\n",
      " 13  hue_histogram_2              9608 non-null   float64\n",
      " 14  hue_histogram_3              9608 non-null   float64\n",
      " 15  hue_histogram_4              9608 non-null   float64\n",
      " 16  hue_histogram_5              9608 non-null   float64\n",
      " 17  saturation_histogram_1       9608 non-null   float64\n",
      " 18  saturation_histogram_2       9608 non-null   float64\n",
      " 19  saturation_histogram_3       9608 non-null   float64\n",
      " 20  saturation_histogram_4       9608 non-null   float64\n",
      " 21  saturation_histogram_5       9608 non-null   float64\n",
      " 22  value_histogram_1            9608 non-null   float64\n",
      " 23  value_histogram_2            9608 non-null   float64\n",
      " 24  value_histogram_3            9608 non-null   float64\n",
      " 25  value_histogram_4            9608 non-null   float64\n",
      " 26  value_histogram_5            9608 non-null   float64\n",
      " 27  distance                     9608 non-null   float64\n",
      " 28  foot_print                   9608 non-null   float64\n",
      " 29  volume                       9608 non-null   float64\n",
      " 30  mean_mean_hue                9608 non-null   float64\n",
      " 31  mean_mean_saturation         9608 non-null   float64\n",
      " 32  mean_mean_value              9608 non-null   float64\n",
      " 33  mean_hue_stdv                9608 non-null   float64\n",
      " 34  mean_saturation_stdv         9608 non-null   float64\n",
      " 35  mean_value_stdv              9608 non-null   float64\n",
      " 36  mean_hue_histogram_1         9608 non-null   float64\n",
      " 37  mean_hue_histogram_2         9608 non-null   float64\n",
      " 38  mean_hue_histogram_3         9608 non-null   float64\n",
      " 39  mean_hue_histogram_4         9608 non-null   float64\n",
      " 40  mean_hue_histogram_5         9608 non-null   float64\n",
      " 41  mean_saturation_histogram_1  9608 non-null   float64\n",
      " 42  mean_saturation_histogram_2  9608 non-null   float64\n",
      " 43  mean_saturation_histogram_3  9608 non-null   float64\n",
      " 44  mean_saturation_histogram_4  9608 non-null   float64\n",
      " 45  mean_saturation_histogram_5  9608 non-null   float64\n",
      " 46  mean_value_histogram_1       9608 non-null   float64\n",
      " 47  mean_value_histogram_2       9608 non-null   float64\n",
      " 48  mean_value_histogram_3       9608 non-null   float64\n",
      " 49  mean_value_histogram_4       9608 non-null   float64\n",
      " 50  mean_value_histogram_5       9608 non-null   float64\n",
      " 51  mean_distance                9608 non-null   float64\n",
      " 52  mean_foot_print              9608 non-null   float64\n",
      " 53  mean_volume                  9608 non-null   float64\n",
      " 54  scan_area                    9608 non-null   float64\n",
      " 55  scan_elongation              9608 non-null   float64\n",
      " 56  scan_mean_distance           9608 non-null   float64\n",
      " 57  scan_distance_stdv           9608 non-null   float64\n",
      " 58  scan_num_of_points           9608 non-null   int64  \n",
      " 59  scan_compactness             9608 non-null   float64\n",
      " 60  scan_compactness2            9608 non-null   float64\n",
      " 61  scan_linearity               9608 non-null   float64\n",
      " 62  scan_scatter                 9608 non-null   float64\n",
      "dtypes: float64(56), int64(7)\n",
      "memory usage: 4.6 MB\n"
     ]
    }
   ],
   "source": [
    "observations = rh.get_observations()\n",
    "logger.info(\"\\nObservations: \\n{}\", observations.info())"
   ]
  },
  {
   "cell_type": "code",
   "execution_count": 4,
   "metadata": {},
   "outputs": [
    {
     "name": "stderr",
     "output_type": "stream",
     "text": [
      "2022-01-24 01:20:03.143 | INFO     | __main__:<module>:4 - \n",
      "Observation with id : 10315 \n",
      "id                    10315.000000\n",
      "room_id                  40.000000\n",
      "home_id                   4.000000\n",
      "home_session_id           6.000000\n",
      "home_subsession_id        1.000000\n",
      "                          ...     \n",
      "scan_num_of_points      245.000000\n",
      "scan_compactness         21.129900\n",
      "scan_compactness2         2.341920\n",
      "scan_linearity            0.657488\n",
      "scan_scatter              0.828744\n",
      "Name: 9607, Length: 63, dtype: float64\n"
     ]
    }
   ],
   "source": [
    "# For example, let's query the observations dataframe with the id value equal to 10315\n",
    "obs_id = 10315\n",
    "observation = observations.query(f'id=={obs_id}')\n",
    "logger.info('\\nObservation with id : {} \\n{}', obs_id, observation.iloc[0])"
   ]
  },
  {
   "cell_type": "markdown",
   "metadata": {},
   "source": [
    "### Objects\n",
    "\n"
   ]
  },
  {
   "cell_type": "markdown",
   "metadata": {},
   "source": [
    "The objects extracted from the observations have also been characterized. For\n",
    "each object the number of features is 32\n",
    "\n"
   ]
  },
  {
   "cell_type": "code",
   "execution_count": 5,
   "metadata": {},
   "outputs": [
    {
     "name": "stdout",
     "output_type": "stream",
     "text": [
      "<class 'pandas.core.frame.DataFrame'>\n",
      "RangeIndex: 2125 entries, 0 to 2124\n",
      "Data columns (total 39 columns):\n",
      " #   Column                  Non-Null Count  Dtype  \n",
      "---  ------                  --------------  -----  \n",
      " 0   id                      2125 non-null   int64  \n",
      " 1   room_id                 2125 non-null   int64  \n",
      " 2   home_id                 2125 non-null   int64  \n",
      " 3   home_session_id         2125 non-null   int64  \n",
      " 4   home_subsession_id      2125 non-null   int64  \n",
      " 5   name                    2125 non-null   object \n",
      " 6   object_type_id          2125 non-null   int64  \n",
      " 7   planarity               2125 non-null   float64\n",
      " 8   scatter                 2125 non-null   float64\n",
      " 9   linearity               2125 non-null   float64\n",
      " 10  min_height              2125 non-null   float64\n",
      " 11  max_height              2125 non-null   float64\n",
      " 12  centroid_x              2125 non-null   float64\n",
      " 13  centroid_y              2125 non-null   float64\n",
      " 14  centroid_z              2125 non-null   float64\n",
      " 15  volume                  2125 non-null   float64\n",
      " 16  biggest_area            2125 non-null   float64\n",
      " 17  orientation             2125 non-null   float64\n",
      " 18  hue_mean                2125 non-null   float64\n",
      " 19  saturation_mean         2125 non-null   float64\n",
      " 20  value_mean              2125 non-null   float64\n",
      " 21  hue_stdv                2125 non-null   float64\n",
      " 22  saturation_stdv         2125 non-null   float64\n",
      " 23  value_stdv              2125 non-null   float64\n",
      " 24  hue_histogram_0         2125 non-null   float64\n",
      " 25  hue_histogram_1         2125 non-null   float64\n",
      " 26  hue_histogram_2         2125 non-null   float64\n",
      " 27  hue_histogram_3         2125 non-null   float64\n",
      " 28  hue_histogram_4         2125 non-null   float64\n",
      " 29  value_histogram_0       2125 non-null   float64\n",
      " 30  value_histogram_1       2125 non-null   float64\n",
      " 31  value_histogram_2       2125 non-null   float64\n",
      " 32  value_histogram_3       2125 non-null   float64\n",
      " 33  value_histogram_4       2125 non-null   float64\n",
      " 34  saturation_histogram_0  2125 non-null   float64\n",
      " 35  saturation_histogram_1  2125 non-null   float64\n",
      " 36  saturation_histogram_2  2125 non-null   float64\n",
      " 37  saturation_histogram_3  2125 non-null   float64\n",
      " 38  saturation_histogram_4  2125 non-null   float64\n",
      "dtypes: float64(32), int64(6), object(1)\n",
      "memory usage: 647.6+ KB\n"
     ]
    }
   ],
   "source": [
    "objects = rh.get_objects()\n",
    "objects.info()"
   ]
  },
  {
   "cell_type": "markdown",
   "metadata": {},
   "source": [
    "Remember that a subset of objects can be extracted filtering the resulting dataframe\n",
    "\n"
   ]
  },
  {
   "cell_type": "code",
   "execution_count": 6,
   "metadata": {},
   "outputs": [
    {
     "name": "stderr",
     "output_type": "stream",
     "text": [
      "2022-01-24 01:20:03.208 | INFO     | __main__:<module>:5 - \n",
      "Objects in room alma_kitchen1 (id:3) : \n",
      "40        wall_cabinet_0\n",
      "41        refrigerator_0\n",
      "42           microwave_0\n",
      "43       upper_cabinet_0\n",
      "44       upper_cabinet_1\n",
      "45     smoke_extractor_0\n",
      "46       upper_cabinet_2\n",
      "47    cooking_utensils_0\n",
      "48              bottle_0\n",
      "49              dishes_0\n",
      "50               stove_0\n",
      "51                 pot_0\n",
      "52               cloth_0\n",
      "53              bottle_1\n",
      "54                bowl_0\n",
      "55              window_0\n",
      "56             picture_0\n",
      "57          paper_roll_0\n",
      "58                sink_0\n",
      "59              faucet_0\n",
      "60              bottle_3\n",
      "61             cabinet_0\n",
      "62             cabinet_1\n",
      "63     washing_machine_0\n",
      "64             cabinet_2\n",
      "65                wall_0\n",
      "66                wall_2\n",
      "67                wall_3\n",
      "68               floor_0\n",
      "69             counter_0\n",
      "70             counter_1\n",
      "71              bottle_2\n",
      "Name: name, dtype: object\n"
     ]
    }
   ],
   "source": [
    "# Let's look for objects in a room\n",
    "r_name = 'alma_kitchen1'\n",
    "r_id  = rh.name2id(r_name,'r')\n",
    "objects_in_room = objects.query(f'room_id=={r_id}')\n",
    "logger.info(\"\\nObjects in room {} (id:{}) : \\n{}\", r_name, r_id, objects_in_room['name'])"
   ]
  },
  {
   "cell_type": "markdown",
   "metadata": {},
   "source": [
    "#### Relations between objects\n",
    "\n"
   ]
  },
  {
   "cell_type": "markdown",
   "metadata": {},
   "source": [
    "The relation between objects has also been calculated and characterized with 11\n",
    "features\n",
    "\n"
   ]
  },
  {
   "cell_type": "code",
   "execution_count": 7,
   "metadata": {},
   "outputs": [
    {
     "name": "stdout",
     "output_type": "stream",
     "text": [
      "<class 'pandas.core.frame.DataFrame'>\n",
      "RangeIndex: 39080 entries, 0 to 39079\n",
      "Data columns (total 18 columns):\n",
      " #   Column                    Non-Null Count  Dtype  \n",
      "---  ------                    --------------  -----  \n",
      " 0   id                        39080 non-null  int64  \n",
      " 1   room_id                   39080 non-null  int64  \n",
      " 2   home_id                   39080 non-null  int64  \n",
      " 3   home_session_id           39080 non-null  int64  \n",
      " 4   home_subsession_id        39080 non-null  int64  \n",
      " 5   obj1_id                   39080 non-null  int64  \n",
      " 6   obj2_id                   39080 non-null  int64  \n",
      " 7   minimum_distance          39080 non-null  float64\n",
      " 8   perpendicularity          39080 non-null  float64\n",
      " 9   vertical_distance         39080 non-null  float64\n",
      " 10  volume_ratio              39080 non-null  float64\n",
      " 11  is_on                     39080 non-null  int64  \n",
      " 12  abs_hue_stdv_diff         39080 non-null  float64\n",
      " 13  abs_saturation_stdv_diff  39080 non-null  float64\n",
      " 14  abs_value_stdv_diff       39080 non-null  float64\n",
      " 15  abs_hue_mean_diff         39080 non-null  float64\n",
      " 16  abs_saturation_mean_diff  39080 non-null  float64\n",
      " 17  abs_value_mean_diff       39080 non-null  float64\n",
      "dtypes: float64(10), int64(8)\n",
      "memory usage: 5.4 MB\n"
     ]
    }
   ],
   "source": [
    "object_relations = rh.get_object_relations()\n",
    "object_relations.info()"
   ]
  },
  {
   "cell_type": "markdown",
   "metadata": {},
   "source": [
    "There is also a function to get the relationships an object is implicit in.\n",
    "\n"
   ]
  },
  {
   "cell_type": "code",
   "execution_count": 8,
   "metadata": {},
   "outputs": [
    {
     "name": "stderr",
     "output_type": "stream",
     "text": [
      "2022-01-24 01:20:03.506 | INFO     | __main__:<module>:5 - \n",
      "The 44 object relations: \n",
      "    obj1_id  obj2_id\n",
      "0        44       45\n",
      "1        44       46\n",
      "2        44       47\n",
      "3        44       48\n",
      "4        44       49\n",
      "5        44       50\n",
      "6        44       51\n",
      "7        44       52\n",
      "8        44       53\n",
      "9        44       54\n",
      "10       44       55\n",
      "11       44       56\n",
      "12       44       57\n",
      "13       44       58\n",
      "14       44       59\n",
      "15       44       60\n",
      "16       44       61\n",
      "17       44       62\n",
      "18       44       63\n",
      "19       44       64\n",
      "20       44       65\n",
      "21       44       66\n",
      "22       44       67\n",
      "23       44       68\n",
      "24       44       69\n",
      "25       44       70\n",
      "26       44       71\n",
      "27       44       72\n",
      "28       44       73\n",
      "29       42       44\n",
      "30       43       44\n"
     ]
    }
   ],
   "source": [
    "# Let's look for the relations the object\n",
    "o_name = 'microwave_0'\n",
    "o_id  = rh.name2id(o_name,'o')\n",
    "object_relations = rh.get_object_relations(o_id)\n",
    "logger.info(\"\\nThe {} object relations: \\n{}\", o_id, object_relations[['obj1_id', 'obj2_id']])"
   ]
  },
  {
   "cell_type": "markdown",
   "metadata": {},
   "source": [
    "#### Objects in observations\n",
    "\n"
   ]
  },
  {
   "cell_type": "markdown",
   "metadata": {},
   "source": [
    "Finally, it's possible to extract the objects contained in a characterized RGBD observation\n",
    "\n"
   ]
  },
  {
   "cell_type": "code",
   "execution_count": 9,
   "metadata": {},
   "outputs": [
    {
     "name": "stderr",
     "output_type": "stream",
     "text": [
      "2022-01-24 01:20:03.522 | INFO     | __main__:<module>:2 - \n",
      "Objects in observation with id = 10315 : \n",
      "0        wall_2\n",
      "1        wall_3\n",
      "2       floor_0\n",
      "3       couch_2\n",
      "4       table_2\n",
      "5       chair_0\n",
      "6       chair_1\n",
      "7       chair_2\n",
      "8        door_0\n",
      "9         can_0\n",
      "10    ceiling_0\n",
      "Name: name, dtype: object\n"
     ]
    }
   ],
   "source": [
    "objects_in_observation = rh.get_objects_in_observation(obs_id)\n",
    "logger.info(\"\\nObjects in observation with id = {} : \\n{}\", obs_id , objects_in_observation['name'])"
   ]
  },
  {
   "cell_type": "code",
   "execution_count": 10,
   "metadata": {},
   "outputs": [
    {
     "name": "stderr",
     "output_type": "stream",
     "text": [
      "2022-01-24 01:20:03.530 | INFO     | __main__:<module>:1 - \n",
      "id                            2362\n",
      "room_id                         40\n",
      "home_id                          4\n",
      "home_session_id                  6\n",
      "home_subsession_id               1\n",
      "name                        wall_3\n",
      "object_type_id                  13\n",
      "planarity                 0.153936\n",
      "scatter                   0.840019\n",
      "linearity                  0.68306\n",
      "min_height               -0.009182\n",
      "max_height                 1.99289\n",
      "centroid_x               -0.537918\n",
      "centroid_y                 1.21247\n",
      "centroid_z                0.381797\n",
      "volume                     3.50972\n",
      "biggest_area                7.6681\n",
      "orientation                89.1977\n",
      "hue_mean                   73.6967\n",
      "saturation_mean            0.16206\n",
      "value_mean                0.742442\n",
      "hue_stdv                    107.01\n",
      "saturation_stdv           0.240689\n",
      "value_stdv                0.216117\n",
      "hue_histogram_0           0.811557\n",
      "hue_histogram_1           0.003236\n",
      "hue_histogram_2           0.024894\n",
      "hue_histogram_3           0.053492\n",
      "hue_histogram_4           0.106821\n",
      "value_histogram_0         0.030919\n",
      "value_histogram_1          0.08321\n",
      "value_histogram_2         0.102709\n",
      "value_histogram_3         0.206945\n",
      "value_histogram_4         0.576218\n",
      "saturation_histogram_0     0.81288\n",
      "saturation_histogram_1    0.034094\n",
      "saturation_histogram_2    0.074396\n",
      "saturation_histogram_3    0.028842\n",
      "saturation_histogram_4    0.049787\n",
      "Name: 1, dtype: object\n"
     ]
    }
   ],
   "source": [
    "logger.info(\"\\n{}\", objects_in_observation.loc[1])"
   ]
  }
 ],
 "metadata": {
  "kernelspec": {
   "display_name": "Python 3 (ipykernel)",
   "language": "python",
   "name": "python3"
  },
  "language_info": {
   "codemirror_mode": {
    "name": "ipython",
    "version": 3
   },
   "file_extension": ".py",
   "mimetype": "text/x-python",
   "name": "python",
   "nbconvert_exporter": "python",
   "pygments_lexer": "ipython3",
   "version": "3.9.7"
  },
  "org": null
 },
 "nbformat": 4,
 "nbformat_minor": 1
}
