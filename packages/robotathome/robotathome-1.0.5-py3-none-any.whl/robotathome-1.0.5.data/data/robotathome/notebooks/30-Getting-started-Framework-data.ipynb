{
 "cells": [
  {
   "cell_type": "markdown",
   "metadata": {},
   "source": [
    "## Robot@Home2 - Getting started `v1.1`\n",
    "\n"
   ]
  },
  {
   "cell_type": "markdown",
   "metadata": {},
   "source": [
    "`R@H2 notebook series`\n",
    "\n"
   ]
  },
  {
   "cell_type": "markdown",
   "metadata": {},
   "source": [
    "### R@H2 functions introduced in this notebook:\n",
    "\n"
   ]
  },
  {
   "cell_type": "markdown",
   "metadata": {},
   "source": [
    "-   `RobotAtHome(db_path, rgbd_path, scene_path, wspc_path, db_filename)`\n",
    "-   `rh.get_homes()`\n",
    "-   `rh.get_home_sessions()`\n",
    "-   `rh.get_rooms()`\n",
    "-   `rh.get_room_types()`\n",
    "-   `rh.get_sensors()`\n",
    "-   `rh.get_sensor_types()`\n",
    "-   `rh.get_home_topo()`\n",
    "-   `rh.get_locators()`\n",
    "\n"
   ]
  },
  {
   "cell_type": "markdown",
   "metadata": {},
   "source": [
    "### Introduction\n",
    "\n"
   ]
  },
  {
   "cell_type": "markdown",
   "metadata": {},
   "source": [
    "If you have followed previous instructions and you have installed successfully\n",
    "the robotathome package you are ready to work with it.\n",
    "\n",
    "Robot@Home2 follows a relational database approach. Instead of a big set of\n",
    "plain text files, R@H2 stores data in a SQL database. Initially users don't need\n",
    "to query directly the database, instead the toolbox encapsulates frequent\n",
    "queries through a set of useful functions.\n",
    "\n",
    "In this notebook we'll learn the basics to start working on R@H2\n",
    "\n"
   ]
  },
  {
   "cell_type": "markdown",
   "metadata": {},
   "source": [
    "### Importing R@H2\n",
    "\n"
   ]
  },
  {
   "cell_type": "code",
   "execution_count": 1,
   "metadata": {},
   "outputs": [],
   "source": [
    "import os\n",
    "import pandas as pd\n",
    "from robotathome import RobotAtHome\n",
    "from robotathome import logger, log"
   ]
  },
  {
   "cell_type": "code",
   "execution_count": 2,
   "metadata": {},
   "outputs": [
    {
     "name": "stdout",
     "output_type": "stream",
     "text": [
      "Current log level name: INFO\n"
     ]
    }
   ],
   "source": [
    "log.set_log_level('INFO')  # SUCCESS is the default\n",
    "\n",
    "level_no, level_name = log.get_current_log_level()\n",
    "print(f'Current log level name: {level_name}')"
   ]
  },
  {
   "cell_type": "markdown",
   "metadata": {},
   "source": [
    "### Instantiating the toolbox\n",
    "\n"
   ]
  },
  {
   "cell_type": "markdown",
   "metadata": {},
   "source": [
    "The toolbox is modeled around the RobotAtHome class, so we'll begin instantiating it and\n",
    "creating a working object.\n",
    "\n",
    "The RobotAtHome class has some attributes:\n",
    "\n",
    "-   `rh_path` : string with the full path for robotathome database, usually `rh.db`.\n",
    "    Its default value is `'.'` (the current directory)\n",
    "-   `wspc_path` : string with the full path where results or temporary files are\n",
    "    stored. It's the path to the workspace directory. Its default value also is\n",
    "    `'.'`.\n",
    "-   `db_filename` : string with the database filename. Its default value is `'rh.db'`\n",
    "-   `rgbd_path` : string with the full path to where RGBD images are stored. Its default value is\n",
    "    `'./files/rgbd'`.\n",
    "-   `scene_path` : string with the full path to where Scene (3D) images are stored. Its\n",
    "    default value is `'./files/scene'`.\n",
    "\n",
    "For this example we have created a `WORKSPACE` directory and we've uncompressed\n",
    "the dataset under a `R@H2-2.0.1` subdirectory. Therefore our directory structure is as\n",
    "follows:\n",
    "\n",
    "    /home/user\n",
    "    └─── WORKSPACE\n",
    "         ├─── R@H2-2.0.1\n",
    "         │    └── files\n",
    "         │        ├── rgbd\n",
    "         │        └── scene\n",
    "         └─────── rh.db\n",
    "\n",
    "Let's instantiate our first, and usually the only one, object:\n",
    "\n"
   ]
  },
  {
   "cell_type": "code",
   "execution_count": 3,
   "metadata": {},
   "outputs": [
    {
     "name": "stderr",
     "output_type": "stream",
     "text": [
      "2022-01-24 00:34:53.016 | SUCCESS  | robotathome.core.reader:__open_dataset:85 - Connection is established: rh.db\n"
     ]
    }
   ],
   "source": [
    "my_rh_path = '~/WORKSPACE/R@H2-2.0.1'\n",
    "my_rgbd_path = os.path.join(my_rh_path, '/files/rgbd')\n",
    "my_scene_path = os.path.join(my_rh_path, '/files/scene')\n",
    "my_wspc_path = '~/WORKSPACE'\n",
    "\n",
    "try: \n",
    "    rh = RobotAtHome(my_rh_path, my_rgbd_path, my_scene_path, my_wspc_path)\n",
    "except:\n",
    "    logger.error(\"Something was wrong\")"
   ]
  },
  {
   "cell_type": "markdown",
   "metadata": {},
   "source": [
    "Now you are ready to dive into the R@H2 database. Following we'll show a set of\n",
    "functions to extract some of the main reference data.\n",
    "\n"
   ]
  },
  {
   "cell_type": "markdown",
   "metadata": {},
   "source": [
    "### Extracting some data\n",
    "\n"
   ]
  },
  {
   "cell_type": "markdown",
   "metadata": {},
   "source": [
    "The R@H2 dataset is a collection of raw and processed data from five domestic\n",
    "settings compiled by a mobile robot Let's start getting the home names:\n",
    "\n"
   ]
  },
  {
   "cell_type": "code",
   "execution_count": 4,
   "metadata": {},
   "outputs": [
    {
     "name": "stderr",
     "output_type": "stream",
     "text": [
      "2022-01-24 00:34:53.027 | INFO     | __main__:<module>:2 - \n",
      "Homes: \n",
      "0      alma\n",
      "1      anto\n",
      "2      pare\n",
      "3       rx2\n",
      "4    sarmis\n",
      "Name: name, dtype: object\n"
     ]
    }
   ],
   "source": [
    "homes = rh.get_homes()\n",
    "logger.info(\"\\nHomes: \\n{}\", homes['name'])"
   ]
  },
  {
   "cell_type": "markdown",
   "metadata": {},
   "source": [
    "Notice that the function returns data in a Pandas dataframe. This is the usual\n",
    "returned data type in R@H2 query functions.\n",
    "\n",
    "It should be noted that the data set contains one data capture session for all\n",
    "homes except for *sarmis*. In that case it contains three sessions.\n",
    "\n",
    "Sessions are characterized by being captures taken in a specific period of\n",
    "time. Two sessions from the same home may differ, for example, in the\n",
    "physical arrangement of the objects.\n",
    "\n",
    "The data capture sessions are:\n",
    "\n"
   ]
  },
  {
   "cell_type": "code",
   "execution_count": 5,
   "metadata": {},
   "outputs": [
    {
     "name": "stderr",
     "output_type": "stream",
     "text": [
      "2022-01-24 00:34:53.037 | INFO     | __main__:<module>:2 - \n",
      "Sessions: \n",
      "0      alma-s1\n",
      "1      anto-s1\n",
      "2      pare-s1\n",
      "3       rx2-s1\n",
      "4    sarmis-s1\n",
      "5    sarmis-s2\n",
      "6    sarmis-s3\n",
      "Name: name, dtype: object\n"
     ]
    }
   ],
   "source": [
    "home_sessions = rh.get_home_sessions()\n",
    "logger.info(\"\\nSessions: \\n{}\", home_sessions['name'])"
   ]
  },
  {
   "cell_type": "markdown",
   "metadata": {},
   "source": [
    "Furthermore, in the case of *sarmis*, each of the three sessions also contains two\n",
    "sub-sessions simply labeled `0` and `1`. In that case, the sub-sessions represent\n",
    "two captures in very close time periods where there has been no there has been\n",
    "modification of the environment.\n",
    "\n"
   ]
  },
  {
   "cell_type": "code",
   "execution_count": 6,
   "metadata": {},
   "outputs": [
    {
     "name": "stderr",
     "output_type": "stream",
     "text": [
      "2022-01-24 00:34:53.180 | INFO     | __main__:<module>:5 - \n",
      "locators: \n",
      "   home_session_name  home_subsession_id\n",
      "0            alma-s1                   0\n",
      "6            anto-s1                   0\n",
      "16           pare-s1                   0\n",
      "27            rx2-s1                   0\n",
      "32         sarmis-s1                   0\n",
      "33         sarmis-s1                   1\n",
      "49         sarmis-s2                   0\n",
      "50         sarmis-s2                   1\n",
      "66         sarmis-s3                   0\n",
      "67         sarmis-s3                   1\n"
     ]
    }
   ],
   "source": [
    "# We will call the get_locators function to select the appropriate columns and the\n",
    "# filtered rows to display sessions and sub-sessions. Don't worry if you get\n",
    "# confused with this feature. We will come back to it later.\n",
    "locators = rh.get_locators()[['home_session_name','home_subsession_id']]\n",
    "logger.info(\"\\nlocators: \\n{}\", locators[~locators.duplicated()])"
   ]
  },
  {
   "cell_type": "markdown",
   "metadata": {},
   "source": [
    "There also are a set of typified room classes:\n",
    "\n"
   ]
  },
  {
   "cell_type": "code",
   "execution_count": 7,
   "metadata": {},
   "outputs": [
    {
     "name": "stderr",
     "output_type": "stream",
     "text": [
      "2022-01-24 00:34:53.189 | INFO     | __main__:<module>:3 - \n",
      "Room types: \n",
      "0        bathroom\n",
      "1         bedroom\n",
      "2       fullhouse\n",
      "3         kitchen\n",
      "4      livingroom\n",
      "5      masterroom\n",
      "6        corridor\n",
      "7    dressingroom\n",
      "8            hall\n",
      "Name: name, dtype: object\n"
     ]
    }
   ],
   "source": [
    "room_types = rh.get_room_types()    # room_types is a Pandas dataframe\n",
    "# We'll show the dataframe as a list\n",
    "logger.info(\"\\nRoom types: \\n{}\", room_types['name'])"
   ]
  },
  {
   "cell_type": "markdown",
   "metadata": {},
   "source": [
    "The rooms have their own explicit names with the prefix of the home to which it\n",
    "belongs and a suffix that allows it to be uniquely identified in case there is\n",
    "more than one of the same type.\n",
    "\n"
   ]
  },
  {
   "cell_type": "code",
   "execution_count": 8,
   "metadata": {},
   "outputs": [
    {
     "name": "stderr",
     "output_type": "stream",
     "text": [
      "2022-01-24 00:34:53.199 | INFO     | __main__:<module>:4 - \n",
      "Rooms: \n",
      "0         alma_bathroom1\n",
      "1          alma_bedroom1\n",
      "2        alma_fullhouse1\n",
      "3          alma_kitchen1\n",
      "4       alma_livingroom1\n",
      "             ...        \n",
      "36       sarmis_bedroom3\n",
      "37      sarmis_corridor1\n",
      "38     sarmis_fullhouse1\n",
      "39       sarmis_kitchen1\n",
      "40    sarmis_livingroom1\n",
      "Name: name, Length: 41, dtype: object\n"
     ]
    }
   ],
   "source": [
    "rooms = rh.get_rooms()\n",
    "# Change '10' by 'None' to show the full list\n",
    "pd.set_option('display.max_rows', 10)\n",
    "logger.info(\"\\nRooms: \\n{}\", rooms['name'])"
   ]
  },
  {
   "cell_type": "markdown",
   "metadata": {},
   "source": [
    "R@H2 data comes from a mobile robot equipped with 4 RGB-D cameras and\n",
    "a 2D laser scanner. Precisely, those sensor types can be extracted as follows:\n",
    "\n"
   ]
  },
  {
   "cell_type": "code",
   "execution_count": 9,
   "metadata": {},
   "outputs": [
    {
     "name": "stderr",
     "output_type": "stream",
     "text": [
      "2022-01-24 00:34:53.208 | INFO     | __main__:<module>:2 - \n",
      "Sensor types: \n",
      "0    LASER SCANNER\n",
      "1      RGBD CAMERA\n",
      "Name: name, dtype: object\n"
     ]
    }
   ],
   "source": [
    "sensor_types = rh.get_sensor_types()\n",
    "logger.info(\"\\nSensor types: \\n{}\", sensor_types['name'])"
   ]
  },
  {
   "cell_type": "markdown",
   "metadata": {},
   "source": [
    "and their names:\n",
    "\n"
   ]
  },
  {
   "cell_type": "code",
   "execution_count": 10,
   "metadata": {},
   "outputs": [
    {
     "name": "stderr",
     "output_type": "stream",
     "text": [
      "2022-01-24 00:34:53.217 | INFO     | __main__:<module>:2 - \n",
      "Sensors: \n",
      "0    HOKUYO1\n",
      "1     RGBD_1\n",
      "2     RGBD_2\n",
      "3     RGBD_3\n",
      "4     RGBD_4\n",
      "Name: name, dtype: object\n"
     ]
    }
   ],
   "source": [
    "sensors = rh.get_sensors()\n",
    "logger.info(\"\\nSensors: \\n{}\", sensors['name'])"
   ]
  },
  {
   "cell_type": "markdown",
   "metadata": {},
   "source": [
    "To end this notebook let's try a slightly more complicated query. In this case, the aim is to\n",
    "obtain a table with the indices and the names of all the combinations of\n",
    "homes, rooms, sessions, and sub-sessions contained at dataset.\n",
    "\n"
   ]
  },
  {
   "cell_type": "code",
   "execution_count": 11,
   "metadata": {},
   "outputs": [
    {
     "name": "stderr",
     "output_type": "stream",
     "text": [
      "2022-01-24 00:34:53.336 | INFO     | __main__:<module>:5 - \n",
      "Locators: \n",
      "   home_session_id home_session_name  home_id home_name  room_id  \\\n",
      "0                0           alma-s1        0      alma        0   \n",
      "1                0           alma-s1        0      alma        1   \n",
      "2                0           alma-s1        0      alma        2   \n",
      "3                0           alma-s1        0      alma        3   \n",
      "4                0           alma-s1        0      alma        4   \n",
      "\n",
      "          room_name  home_subsession_id  \n",
      "0    alma_bathroom1                   0  \n",
      "1     alma_bedroom1                   0  \n",
      "2   alma_fullhouse1                   0  \n",
      "3     alma_kitchen1                   0  \n",
      "4  alma_livingroom1                   0  \n"
     ]
    }
   ],
   "source": [
    "locators = rh.get_locators()\n",
    "# Change '10' by 'None' to show the full list\n",
    "pd.set_option('display.max_rows', 10)\n",
    "# Showing locators columns\n",
    "logger.info(\"\\nLocators: \\n{}\", locators.head())"
   ]
  },
  {
   "cell_type": "markdown",
   "metadata": {},
   "source": [
    "Now we can choose the columns to display:\n",
    "\n"
   ]
  },
  {
   "cell_type": "code",
   "execution_count": 12,
   "metadata": {},
   "outputs": [
    {
     "name": "stderr",
     "output_type": "stream",
     "text": [
      "2022-01-24 00:34:53.344 | INFO     | __main__:<module>:1 - \n",
      "Locators: \n",
      "   home_session_name  home_subsession_id           room_name\n",
      "0            alma-s1                   0      alma_bathroom1\n",
      "1            alma-s1                   0       alma_bedroom1\n",
      "2            alma-s1                   0     alma_fullhouse1\n",
      "3            alma-s1                   0       alma_kitchen1\n",
      "4            alma-s1                   0    alma_livingroom1\n",
      "..               ...                 ...                 ...\n",
      "76         sarmis-s3                   0   sarmis_fullhouse1\n",
      "77         sarmis-s3                   0     sarmis_kitchen1\n",
      "78         sarmis-s3                   1     sarmis_kitchen1\n",
      "79         sarmis-s3                   0  sarmis_livingroom1\n",
      "80         sarmis-s3                   1  sarmis_livingroom1\n",
      "\n",
      "[81 rows x 3 columns]\n"
     ]
    }
   ],
   "source": [
    "logger.info(\"\\nLocators: \\n{}\", locators[['home_session_name','home_subsession_id','room_name']])"
   ]
  }
 ],
 "metadata": {
  "kernelspec": {
   "display_name": "Python 3 (ipykernel)",
   "language": "python",
   "name": "python3"
  },
  "language_info": {
   "codemirror_mode": {
    "name": "ipython",
    "version": 3
   },
   "file_extension": ".py",
   "mimetype": "text/x-python",
   "name": "python",
   "nbconvert_exporter": "python",
   "pygments_lexer": "ipython3",
   "version": "3.9.7"
  },
  "org": null
 },
 "nbformat": 4,
 "nbformat_minor": 1
}
