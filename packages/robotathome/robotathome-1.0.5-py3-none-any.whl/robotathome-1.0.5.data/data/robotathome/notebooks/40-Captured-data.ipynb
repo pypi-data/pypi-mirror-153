{
 "cells": [
  {
   "cell_type": "markdown",
   "metadata": {},
   "source": [
    "## Robot@Home 2 - Captured data `v1.1`\n",
    "\n"
   ]
  },
  {
   "cell_type": "markdown",
   "metadata": {},
   "source": [
    "`R@H2 notebook series`\n",
    "\n"
   ]
  },
  {
   "cell_type": "markdown",
   "metadata": {},
   "source": [
    "### R@H2 functions introduced in this notebook:\n",
    "\n"
   ]
  },
  {
   "cell_type": "markdown",
   "metadata": {},
   "source": [
    "-   `rh.get_sensor_observations(set_name)`\n",
    "-   `rh.id2name(id, arg)`\n",
    "-   `rh.name2id(name, arg)`\n",
    "-   `time_win2unixepoch(win_t)`\n",
    "-   `time_unixepoch2win(unix_t)`\n",
    "\n"
   ]
  },
  {
   "cell_type": "markdown",
   "metadata": {},
   "source": [
    "### Introduction\n",
    "\n"
   ]
  },
  {
   "cell_type": "markdown",
   "metadata": {},
   "source": [
    "In the previous notebook, the spatial structure (homes and rooms) and the\n",
    "temporal structure (sessions and sub-sessions) of the data set have been\n",
    "presented. In addition, the sensors (cameras and lasers) used for data capture\n",
    "have been presented.\n",
    "\n",
    "In this notebook we are going to show how these data are organized, which we\n",
    "call sensor observations.\n",
    "\n"
   ]
  },
  {
   "cell_type": "markdown",
   "metadata": {},
   "source": [
    "### Sensor observations\n",
    "\n"
   ]
  },
  {
   "cell_type": "markdown",
   "metadata": {},
   "source": [
    "As you know from the previous notebook the data provided by R@H2 have been\n",
    "collected within **rooms** of five dwellings (**homes**) Raw data were collected in\n",
    "different **sessions** and **sub-sessions**, each one containing a number of sequences\n",
    "of **RGB-D** observations and **laser scans**. These sequences were gathered by\n",
    "teleoperating the robot to fully inspect each individual room.\n",
    "\n",
    "Sensor data comprises ~75 minutes of recorded data collected in different\n",
    "sessions.\n",
    "\n",
    "These data include:\n",
    "\n",
    "-   RGB-D observations from the four RGB-D cameras, including intensity images,\n",
    "    depth images, and 3D point clouds.\n",
    "\n",
    "-   Laser scanner data: 2D observations from the laser scanner captured in the\n",
    "    inspected rooms.\n",
    "\n"
   ]
  },
  {
   "cell_type": "code",
   "execution_count": 1,
   "metadata": {},
   "outputs": [],
   "source": [
    "import os\n",
    "import pandas as pd\n",
    "from robotathome import RobotAtHome\n",
    "from robotathome import logger, log\n",
    "from robotathome import time_win2unixepoch, time_unixepoch2win"
   ]
  },
  {
   "cell_type": "code",
   "execution_count": 2,
   "metadata": {},
   "outputs": [
    {
     "name": "stderr",
     "output_type": "stream",
     "text": [
      "2022-01-24 00:44:14.624 | SUCCESS  | robotathome.core.reader:__open_dataset:85 - Connection is established: rh.db\n"
     ]
    }
   ],
   "source": [
    "log.set_log_level('INFO')  # SUCCESS is the default\n",
    "\n",
    "my_rh_path = '~/WORKSPACE/R@H2-2.0.1'\n",
    "my_rgbd_path = os.path.join(my_rh_path, '/files/rgbd')\n",
    "my_scene_path = os.path.join(my_rh_path, '/files/scene')\n",
    "my_wspc_path = '~/WORKSPACE'\n",
    "\n",
    "try: \n",
    "    rh = RobotAtHome(my_rh_path, my_rgbd_path, my_scene_path, my_wspc_path)\n",
    "except:\n",
    "    logger.error(\"Something was wrong\")"
   ]
  },
  {
   "cell_type": "markdown",
   "metadata": {},
   "source": [
    "The R@H2 dataset contains those RGBD and Laser observations\n",
    "\n"
   ]
  },
  {
   "cell_type": "code",
   "execution_count": 3,
   "metadata": {},
   "outputs": [
    {
     "name": "stdout",
     "output_type": "stream",
     "text": [
      "# Full set: 116418 observations with 14 fields\n"
     ]
    }
   ],
   "source": [
    "# The full dataset is returned by default\n",
    "full = rh.get_sensor_observations()\n",
    "print(f\"# Full set: {len(full)} observations with {len(full.columns)} fields\")"
   ]
  },
  {
   "cell_type": "markdown",
   "metadata": {},
   "source": [
    "Sensor observations are ordered by `timestamp` and have the following fields\n",
    "\n"
   ]
  },
  {
   "cell_type": "code",
   "execution_count": 4,
   "metadata": {},
   "outputs": [
    {
     "name": "stdout",
     "output_type": "stream",
     "text": [
      "['id', 'timestamp', 'home_session_id', 'home_subsession_id', 'home_id', 'room_id', 'sensor_id', 'sensor_name', 'sensor_pose_x', 'sensor_pose_y', 'sensor_pose_z', 'sensor_pose_yaw', 'sensor_pose_pitch', 'sensor_pose_roll']\n"
     ]
    }
   ],
   "source": [
    "print(full.columns.tolist())"
   ]
  },
  {
   "cell_type": "markdown",
   "metadata": {},
   "source": [
    "The field names describe themselves\n",
    "\n",
    "    |--------------------+--------------------|\n",
    "    | field name         | description        |\n",
    "    |--------------------+--------------------|\n",
    "    | id                 | observation id     |\n",
    "    | timestamp          | timestamp          |\n",
    "    | home_session_id    | home session id    |\n",
    "    | home_subsession_id | home subsession id |\n",
    "    | home_id            | home id            |\n",
    "    | room_id            | room id            |\n",
    "    | sensor_id          | sensor id          |\n",
    "    | sensor_name        | sensor name        |\n",
    "    | sensor_pose_x      | sensor pose x      |\n",
    "    | sensor_pose_y      | sensor pose y      |\n",
    "    | sensor_pose_z      | sensor pose z      |\n",
    "    | sensor_pose_yaw    | sensor pose yaw    |\n",
    "    | sensor_pose_pitch  | sensor pose pitch  |\n",
    "    | sensor_pose_roll   | sensor pose roll   |\n",
    "    |--------------------+--------------------|\n",
    "\n",
    "As it's a pandas data frame you can get more info with the method `info()`.\n",
    "\n"
   ]
  },
  {
   "cell_type": "code",
   "execution_count": 5,
   "metadata": {},
   "outputs": [
    {
     "name": "stdout",
     "output_type": "stream",
     "text": [
      "<class 'pandas.core.frame.DataFrame'>\n",
      "RangeIndex: 116418 entries, 0 to 116417\n",
      "Data columns (total 14 columns):\n",
      " #   Column              Non-Null Count   Dtype  \n",
      "---  ------              --------------   -----  \n",
      " 0   id                  116418 non-null  int64  \n",
      " 1   timestamp           116418 non-null  int64  \n",
      " 2   home_session_id     116418 non-null  int64  \n",
      " 3   home_subsession_id  116418 non-null  int64  \n",
      " 4   home_id             116418 non-null  int64  \n",
      " 5   room_id             116418 non-null  int64  \n",
      " 6   sensor_id           116418 non-null  int64  \n",
      " 7   sensor_name         116418 non-null  object \n",
      " 8   sensor_pose_x       116418 non-null  float64\n",
      " 9   sensor_pose_y       116418 non-null  float64\n",
      " 10  sensor_pose_z       116418 non-null  float64\n",
      " 11  sensor_pose_yaw     116418 non-null  float64\n",
      " 12  sensor_pose_pitch   116418 non-null  float64\n",
      " 13  sensor_pose_roll    116418 non-null  float64\n",
      "dtypes: float64(6), int64(7), object(1)\n",
      "memory usage: 12.4+ MB\n",
      "None\n"
     ]
    }
   ],
   "source": [
    "print(full.info())"
   ]
  },
  {
   "cell_type": "markdown",
   "metadata": {},
   "source": [
    "It can be observed that the full set contains \n",
    "`116418` observations.\n",
    "\n",
    "The info for each sensor observation can be organized as\n",
    "\n",
    "    |--------------------+----------------------------------------------|\n",
    "    | field group        | description                                  |\n",
    "    |--------------------+----------------------------------------------|\n",
    "    | id, timestamp      | main reference                               |\n",
    "    | <whatever>_id      | environment reference                        |\n",
    "    | sensor id and name | sensor reference                             |\n",
    "    | sensor pose        | pose x,y,z,yaw, pitch and roll of the sensor |\n",
    "    |--------------------+----------------------------------------------|\n",
    "\n",
    "As an example, let's examine the first sensor observation\n",
    "\n"
   ]
  },
  {
   "cell_type": "code",
   "execution_count": 6,
   "metadata": {},
   "outputs": [
    {
     "name": "stdout",
     "output_type": "stream",
     "text": [
      "id                                237014\n",
      "timestamp             130488627193178472\n",
      "home_session_id                        4\n",
      "home_subsession_id                     0\n",
      "home_id                                4\n",
      "room_id                               40\n",
      "sensor_id                              0\n",
      "sensor_name                      HOKUYO1\n",
      "sensor_pose_x                      0.205\n",
      "sensor_pose_y                        0.0\n",
      "sensor_pose_z                       0.31\n",
      "sensor_pose_yaw                      0.0\n",
      "sensor_pose_pitch                    0.0\n",
      "sensor_pose_roll                     0.0\n",
      "Name: 1, dtype: object\n"
     ]
    }
   ],
   "source": [
    "print(full.loc[1])"
   ]
  },
  {
   "cell_type": "markdown",
   "metadata": {},
   "source": [
    "Please note that the timestamp is in Windows format but can be easily\n",
    "transformed in Unix epoch format (a more human readable format)\n",
    "\n"
   ]
  },
  {
   "cell_type": "code",
   "execution_count": 7,
   "metadata": {},
   "outputs": [
    {
     "name": "stdout",
     "output_type": "stream",
     "text": [
      "windows:130488627193178472 -> unix:2014-07-03 14:05:19.317846\n"
     ]
    }
   ],
   "source": [
    "win_t = full.loc[1]['timestamp']\n",
    "unix_t = time_win2unixepoch(win_t)\n",
    "print(f\"windows:{win_t} -> unix:{unix_t}\")"
   ]
  },
  {
   "cell_type": "markdown",
   "metadata": {},
   "source": [
    "You can also get the names corresponding to ids. Let's associate\n",
    "the home session name for the previous observation:\n",
    "\n"
   ]
  },
  {
   "cell_type": "code",
   "execution_count": 8,
   "metadata": {},
   "outputs": [
    {
     "name": "stdout",
     "output_type": "stream",
     "text": [
      "The home session name for the home session id 4 is sarmis-s1\n"
     ]
    }
   ],
   "source": [
    "# Get the home sessions\n",
    "hs = rh.get_home_sessions()\n",
    "# Get the home session id from the first observation \n",
    "so_hs_id = full.loc[1]['home_session_id']\n",
    "# Access the cell containins the name.\n",
    "# row: id, column: name\n",
    "so_hs_name = hs.loc[so_hs_id]['name']\n",
    "print(f\"The home session name for the home session id {so_hs_id} is {so_hs_name}\")"
   ]
  },
  {
   "cell_type": "markdown",
   "metadata": {},
   "source": [
    "We know your time is very important so a function is provided to easily do the\n",
    "same thing\n",
    "\n"
   ]
  },
  {
   "cell_type": "code",
   "execution_count": 9,
   "metadata": {},
   "outputs": [
    {
     "name": "stdout",
     "output_type": "stream",
     "text": [
      "The home session name for the home session id 4 is sarmis-s1\n"
     ]
    }
   ],
   "source": [
    "so_hs_name = rh.id2name(so_hs_id,'hs')\n",
    "print(f\"The home session name for the home session id {so_hs_id} is {so_hs_name}\")"
   ]
  },
  {
   "cell_type": "markdown",
   "metadata": {},
   "source": [
    "The first parameter of `id2name` function is the id, and the second one is a\n",
    "selector which can adopt the following values\n",
    "\n",
    "    |-------+---------------|\n",
    "    | short | long          |\n",
    "    |-------+---------------|\n",
    "    | 'h'   | 'home'        |\n",
    "    | 'hs'  | 'home_session |\n",
    "    | 'r'   | 'room'        |\n",
    "    | 'rt'  | 'room_type'   |\n",
    "    | 's'   | 'sensor'      |\n",
    "    | 'st'  | 'sensor_type' |\n",
    "    | 'o'   | 'object'      |\n",
    "    | 'ot'  | 'object_type' |\n",
    "    |-------+---------------|\n",
    "\n"
   ]
  },
  {
   "cell_type": "markdown",
   "metadata": {},
   "source": [
    "### Dissecting the sensor observations set\n",
    "\n"
   ]
  },
  {
   "cell_type": "markdown",
   "metadata": {},
   "source": [
    "Not all observations are equally useful. Specifically, there are observations\n",
    "that have been discarded for their processing. As an example, think about ank\n",
    "unfocused image or a black image.\n",
    "\n",
    "The full set in the previous section includes all captured data but other\n",
    "subsets can be extracted\n",
    "\n"
   ]
  },
  {
   "cell_type": "markdown",
   "metadata": {},
   "source": [
    "#### Labeled RGBD observations\n",
    "\n"
   ]
  },
  {
   "cell_type": "markdown",
   "metadata": {},
   "source": [
    "Labeled RGBD observations include per-pixel object labels (category and\n",
    "instance) within each RGB-D observation, i.e., both intensity and depth images,\n",
    "and per-point labels within their respective point clouds.\n",
    "\n"
   ]
  },
  {
   "cell_type": "code",
   "execution_count": 10,
   "metadata": {},
   "outputs": [
    {
     "name": "stdout",
     "output_type": "stream",
     "text": [
      "# Labeled RGBD set: 32937 observations with 14 fields\n"
     ]
    }
   ],
   "source": [
    "# The full dataset is returned by default\n",
    "lblrgbd = rh.get_sensor_observations('lblrgbd')\n",
    "print(f\"# Labeled RGBD set: {len(lblrgbd)} observations with {len(lblrgbd.columns)} fields\")"
   ]
  },
  {
   "cell_type": "markdown",
   "metadata": {},
   "source": [
    "Note that the id of these observations is a value in the range of 100000 and\n",
    "`132937`\n",
    "\n"
   ]
  },
  {
   "cell_type": "markdown",
   "metadata": {},
   "source": [
    "#### Laser scanner observations\n",
    "\n"
   ]
  },
  {
   "cell_type": "markdown",
   "metadata": {},
   "source": [
    "Laser scanner are 2D observations from the laser scanner captured in the\n",
    "inspected rooms\n",
    "\n"
   ]
  },
  {
   "cell_type": "code",
   "execution_count": 11,
   "metadata": {},
   "outputs": [
    {
     "name": "stdout",
     "output_type": "stream",
     "text": [
      "# Laser scanner set: 39363 observations with 14 fields\n"
     ]
    }
   ],
   "source": [
    "# The full dataset is returned by default\n",
    "lsrscan = rh.get_sensor_observations('lsrscan')\n",
    "print(f\"# Laser scanner set: {len(lsrscan)} observations with {len(lsrscan.columns)} fields\")"
   ]
  },
  {
   "cell_type": "markdown",
   "metadata": {},
   "source": [
    "Note that the id of these observations is a value in the range of 200000 and\n",
    "`239363`\n",
    "\n"
   ]
  },
  {
   "cell_type": "markdown",
   "metadata": {},
   "source": [
    "#### Discarded observations\n",
    "\n"
   ]
  },
  {
   "cell_type": "markdown",
   "metadata": {},
   "source": [
    "All the observation no included in previous sets, i.e., the discarded\n",
    "observations can also be extracted\n",
    "\n"
   ]
  },
  {
   "cell_type": "code",
   "execution_count": 12,
   "metadata": {},
   "outputs": [
    {
     "name": "stdout",
     "output_type": "stream",
     "text": [
      "# Discarded set: 44118 observations with 14 fields\n"
     ]
    }
   ],
   "source": [
    "# The full dataset is returned by default\n",
    "discarded = rh.get_sensor_observations('discarded')\n",
    "print(f\"# Discarded set: {len(discarded)} observations with {len(discarded.columns)} fields\")"
   ]
  },
  {
   "cell_type": "markdown",
   "metadata": {},
   "source": [
    "This set includes all RGBD and Laser scan discarded observations. These\n",
    "observations can be useful for other works.\n",
    "\n",
    "Note that the id of these observations is a value in the range of 1 and\n",
    "`44118`\n",
    "\n"
   ]
  },
  {
   "cell_type": "markdown",
   "metadata": {},
   "source": [
    "#### Labeled RGBD + Laser Scan\n",
    "\n"
   ]
  },
  {
   "cell_type": "markdown",
   "metadata": {},
   "source": [
    "It is common to work with a set of all processed observations, aka RGBD and\n",
    "Laser scan observations\n",
    "\n"
   ]
  },
  {
   "cell_type": "code",
   "execution_count": 13,
   "metadata": {},
   "outputs": [
    {
     "name": "stdout",
     "output_type": "stream",
     "text": [
      "# RGBD & Laser scanner set: 72300 observations with 14 fields\n"
     ]
    }
   ],
   "source": [
    "# The full dataset is returned by default\n",
    "rgbdlsr = rh.get_sensor_observations('rgbdlsr')\n",
    "print(f\"# RGBD & Laser scanner set: {len(rgbdlsr)} observations with {len(rgbdlsr.columns)} fields\")"
   ]
  },
  {
   "cell_type": "markdown",
   "metadata": {},
   "source": [
    "Just for your information, as you know the sensor observations sets are data frames so you\n",
    "can easily join them together\n",
    "\n"
   ]
  },
  {
   "cell_type": "code",
   "execution_count": 14,
   "metadata": {},
   "outputs": [
    {
     "name": "stdout",
     "output_type": "stream",
     "text": [
      "# RGBD & Laser scanner set: 72300 observations with 14 fields\n"
     ]
    }
   ],
   "source": [
    "rgbd_lsr = pd.concat([lblrgbd, lsrscan]).sort_values(by=['timestamp'])\n",
    "print(f\"# RGBD & Laser scanner set: {len(rgbd_lsr)} observations with {len(rgbd_lsr.columns)} fields\")"
   ]
  }
 ],
 "metadata": {
  "kernelspec": {
   "display_name": "Python 3 (ipykernel)",
   "language": "python",
   "name": "python3"
  },
  "language_info": {
   "codemirror_mode": {
    "name": "ipython",
    "version": 3
   },
   "file_extension": ".py",
   "mimetype": "text/x-python",
   "name": "python",
   "nbconvert_exporter": "python",
   "pygments_lexer": "ipython3",
   "version": "3.9.7"
  },
  "org": null
 },
 "nbformat": 4,
 "nbformat_minor": 1
}
