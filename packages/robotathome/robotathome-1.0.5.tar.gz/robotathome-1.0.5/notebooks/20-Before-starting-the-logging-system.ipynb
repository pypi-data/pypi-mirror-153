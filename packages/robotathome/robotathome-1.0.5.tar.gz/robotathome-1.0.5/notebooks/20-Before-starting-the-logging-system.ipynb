{
 "cells": [
  {
   "cell_type": "markdown",
   "metadata": {},
   "source": [
    "## Robot@Home2 - Before starting: the logging system `v1.1`\n",
    "\n"
   ]
  },
  {
   "cell_type": "markdown",
   "metadata": {},
   "source": [
    "`R@H2 notebook series`\n",
    "\n"
   ]
  },
  {
   "cell_type": "markdown",
   "metadata": {},
   "source": [
    "### R@H2 functions introduced in this notebook:\n",
    "\n"
   ]
  },
  {
   "cell_type": "markdown",
   "metadata": {},
   "source": [
    "-   `log.log_levels()`\n",
    "-   `log.get_current_log_level()`\n",
    "-   `log.set_log_level(level, sink)`\n",
    "-   `log.is_being_logged(level_to_check)`\n",
    "-   `logger.<level>(msg)`\n",
    "\n"
   ]
  },
  {
   "cell_type": "markdown",
   "metadata": {},
   "source": [
    "### The logging system\n",
    "\n"
   ]
  },
  {
   "cell_type": "markdown",
   "metadata": {},
   "source": [
    "Logging is a means of tracking events that happen when some software runs. The\n",
    "software’s developer adds logging calls to their code to indicate that certain\n",
    "events have occurred. An event is described by a descriptive message which can\n",
    "optionally contain variable data (i.e. data that is potentially different for\n",
    "each occurrence of the event). Events also have an importance which the\n",
    "developer ascribes to the event; the importance can also be called the *level* or\n",
    "*severity*.(source: [loguru](https://docs.python.org/3/howto/logging.html))\n",
    "\n",
    "The `robotathome` package includes [loguru](https://github.com/Delgan/loguru) that is a python library with\n",
    "a simple but powerful logging system. This library is very helpful when you are\n",
    "working on your code a need a centralized and hierarchical logging system.\n",
    "robotathome use it extensively and we encourage you to use it preferably to the\n",
    "`print` command.\n",
    "\n",
    "In addition robotathome includes some functions to help and simplify the use of\n",
    "the logging system.\n",
    "\n",
    "To initiate the logging system you must import it from the robotathome package.\n",
    "\n"
   ]
  },
  {
   "cell_type": "code",
   "execution_count": 1,
   "metadata": {},
   "outputs": [],
   "source": [
    "from robotathome import log, logger"
   ]
  },
  {
   "cell_type": "markdown",
   "metadata": {},
   "source": [
    "The logging system has a set of severity levels to associate messages and info\n",
    "with.\n",
    "\n"
   ]
  },
  {
   "cell_type": "code",
   "execution_count": 2,
   "metadata": {},
   "outputs": [
    {
     "name": "stdout",
     "output_type": "stream",
     "text": [
      "{'TRACE': 5, 'DEBUG': 10, 'INFO': 20, 'SUCCESS': 25, 'WARNING': 30, 'ERROR': 40, 'CRITICAL': 50}\n"
     ]
    }
   ],
   "source": [
    "level_names = log.log_levels()\n",
    "print(level_names[1])"
   ]
  },
  {
   "cell_type": "markdown",
   "metadata": {},
   "source": [
    "The log level at `robotathome` is `SUCCESS` by default which means that only events\n",
    "of this level and above will be tracked\n",
    "\n"
   ]
  },
  {
   "cell_type": "code",
   "execution_count": 3,
   "metadata": {},
   "outputs": [
    {
     "name": "stdout",
     "output_type": "stream",
     "text": [
      "Current log level name: SUCCESS\n"
     ]
    }
   ],
   "source": [
    "level_no, level_name = log.get_current_log_level()\n",
    "print(f'Current log level name: {level_name}')"
   ]
  },
  {
   "cell_type": "markdown",
   "metadata": {},
   "source": [
    "But if you need more detailed information about what is happening under your\n",
    "code you can change the current level. A typical action during development will be\n",
    "to set it to DEBUG level.\n",
    "\n"
   ]
  },
  {
   "cell_type": "code",
   "execution_count": 4,
   "metadata": {},
   "outputs": [
    {
     "name": "stdout",
     "output_type": "stream",
     "text": [
      "Current log level name: DEBUG\n"
     ]
    }
   ],
   "source": [
    "log.set_log_level('DEBUG')\n",
    "print(f'Current log level name: {log.get_current_log_level()[1]}')"
   ]
  },
  {
   "cell_type": "markdown",
   "metadata": {},
   "source": [
    "In your production code you should set level to `WARNING`.\n",
    "\n",
    "The function `is_being_logged` is available to take actions depending on the\n",
    "current log level. This function returns `True` if the current logging level is\n",
    "under argument value.\n",
    "\n"
   ]
  },
  {
   "cell_type": "code",
   "execution_count": 5,
   "metadata": {},
   "outputs": [
    {
     "name": "stdout",
     "output_type": "stream",
     "text": [
      "Yes, SUCCESS level events are currently being tracked\n"
     ]
    }
   ],
   "source": [
    "level_to_check = 'SUCCESS'\n",
    "if log.is_being_logged(level_to_check):\n",
    "    print(f'Yes, {level_to_check} level events are currently being tracked')"
   ]
  },
  {
   "cell_type": "markdown",
   "metadata": {},
   "source": [
    "Well, now we have set our desired logging level it's time to handle the events\n",
    "that are tracked. The simplest way is to print them to the console which is a\n",
    "breeze. For that use the `logger.<level>(<message>)` function.\n",
    "\n"
   ]
  },
  {
   "cell_type": "code",
   "execution_count": 6,
   "metadata": {},
   "outputs": [
    {
     "name": "stderr",
     "output_type": "stream",
     "text": [
      "2022-01-24 00:22:43.212 | DEBUG    | __main__:<module>:1 - This is a debug event\n",
      "2022-01-24 00:22:43.213 | ERROR    | __main__:<module>:2 - This is an error\n"
     ]
    }
   ],
   "source": [
    "logger.debug('This is a debug event')\n",
    "logger.error('This is an error')"
   ]
  },
  {
   "cell_type": "markdown",
   "metadata": {},
   "source": [
    "Remember that depending on the current level there will be no tracked events.\n",
    "\n"
   ]
  },
  {
   "cell_type": "code",
   "execution_count": 7,
   "metadata": {},
   "outputs": [
    {
     "name": "stderr",
     "output_type": "stream",
     "text": [
      "2022-01-24 00:22:43.223 | INFO     | __main__:<module>:3 - ... but this one will\n"
     ]
    }
   ],
   "source": [
    "# Current level is DEBUG so TRACE level is not being tracked\n",
    "logger.trace('This message will not be printed ...')\n",
    "logger.info('... but this one will')"
   ]
  }
 ],
 "metadata": {
  "kernelspec": {
   "display_name": "Python 3 (ipykernel)",
   "language": "python",
   "name": "python3"
  },
  "language_info": {
   "codemirror_mode": {
    "name": "ipython",
    "version": 3
   },
   "file_extension": ".py",
   "mimetype": "text/x-python",
   "name": "python",
   "nbconvert_exporter": "python",
   "pygments_lexer": "ipython3",
   "version": "3.9.7"
  },
  "org": null
 },
 "nbformat": 4,
 "nbformat_minor": 1
}
