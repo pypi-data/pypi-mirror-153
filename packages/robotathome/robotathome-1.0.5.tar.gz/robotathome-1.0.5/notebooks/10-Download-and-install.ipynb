{
 "cells": [
  {
   "cell_type": "markdown",
   "metadata": {},
   "source": [
    "## Robot@Home2 - Download & Install `v1.1`\n",
    "\n"
   ]
  },
  {
   "cell_type": "markdown",
   "metadata": {},
   "source": [
    "`R@H2 notebook series`\n",
    "\n"
   ]
  },
  {
   "cell_type": "markdown",
   "metadata": {},
   "source": [
    "### R@H2 functions introduced in this notebook:\n",
    "\n"
   ]
  },
  {
   "cell_type": "markdown",
   "metadata": {},
   "source": [
    "-   `download(url, path)`\n",
    "-   `get_md5(filename)`\n",
    "-   `uncompress(filename, target_path)`\n",
    "\n"
   ]
  },
  {
   "cell_type": "markdown",
   "metadata": {},
   "source": [
    "### Introduction\n",
    "\n"
   ]
  },
  {
   "cell_type": "markdown",
   "metadata": {},
   "source": [
    "The Robot-at-Home dataset (Robot@Home, paper [here](http://mapir.uma.es/papersrepo/2017/2017-raul-IJRR-Robot_at_home_dataset.pdf)) is a collection of raw and\n",
    "processed data from five domestic settings compiled by a mobile robot equipped\n",
    "with 4 RGB-D cameras and a 2D laser scanner. Its main purpose is to serve as a\n",
    "testbed for semantic mapping algorithms through the categorization of objects\n",
    "and/or rooms.\n",
    "\n",
    "Nevertheless, the Robot@Home dataset has been updated to Robot@Home2. This\n",
    "update is made up of a relational database file in SQLite format with all the\n",
    "original data and a size of only 2,2 GB. The image and scene files have been\n",
    "reorganized and now takes only 25,9 GB. You no longer need to waste time diving\n",
    "the obscure data formats. Instead, you can simply surf the dataset through SQL\n",
    "queries or the new toolbox. Nevertheless, a toolbox has been coded in order to\n",
    "encapsulate frequent queries as functions and integrate the results with a data\n",
    "analysis library. Additionally, this toolbox enable dataset integration with\n",
    "deep learning and machine learning libraries.\n",
    "\n"
   ]
  },
  {
   "cell_type": "markdown",
   "metadata": {},
   "source": [
    "### Toolbox installation\n",
    "\n"
   ]
  },
  {
   "cell_type": "markdown",
   "metadata": {},
   "source": [
    "Robot@Home2 Toolbox can be installed through the Python package manager and it's\n",
    "recommended to install it under a python environment.\n",
    "\n",
    "If Anaconda is your framework, conda is the right tool for creating a virtual\n",
    "Python environment:\n",
    "\n",
    "    $ conda create --name rh python=3.9    # 3.6 in case of Windows\n",
    "\n",
    "Note that Robot@Home2 Toolbox has been tested as of Python version 3.6 and this\n",
    "earlier version is the recommended one for Windows. Of course, choose the\n",
    "preferred name for your environment name instead of `rh`.\n",
    "\n",
    "Activate the target environment\n",
    "\n",
    "    $ conda activate rh\n",
    "\n",
    "and install Robot@Home2 Toolbox using the Python package manager.\n",
    "\n",
    "    $ pip install robotathome\n",
    "\n",
    "Finally, check that the installation has been successful.\n",
    "\n"
   ]
  },
  {
   "cell_type": "code",
   "execution_count": 1,
   "metadata": {},
   "outputs": [],
   "source": [
    "import robotathome as rh\n",
    "print (rh.__version__)"
   ]
  },
  {
   "cell_type": "markdown",
   "metadata": {},
   "source": [
    "### Download the dataset\n",
    "\n"
   ]
  },
  {
   "cell_type": "markdown",
   "metadata": {},
   "source": [
    "Robot@Home2 resides in Zenodo site where all data versions can be downloaded.\n",
    "Latest version ([v2.0.1](https://zenodo.org/record/4530453#.YM81AKIzaA4)) is composed of two files: `Robot@Home2_db.tgz` and\n",
    "`Robot@Home2_files.tgz`. The first one contains the database, and the second one\n",
    "contains a bunch of RGBD images and 3D scenes.\n",
    "\n",
    "You can choose to download it on your own or through the brand new toolbox.\n",
    "\n",
    "In case you are considering Linux, download them\n",
    "\n",
    "    $ wget https://zenodo.org/record/4530453/files/Robot@Home2_db.tgz\n",
    "    \n",
    "    $ wget https://zenodo.org/record/4530453/files/Robot@Home2_files.tgz\n",
    "\n",
    "check the files integrity\n",
    "\n",
    "    $ md5sum Robot@Home2_db.tgz \n",
    "    c2a3536b6b98b907c56eda3a78300cbe  Robot@Home2_db.tgz\n",
    "    \n",
    "    $ md5sum Robot@Home2_files.tgz \n",
    "    c55465536738ec3470c75e1671bab5f2  Robot@Home2_files.tgz\n",
    "\n",
    "and to finish unzip files\n",
    "\n",
    "    $ pv /home/user/Downloads/Robot@Home2_db.tgz | tar -J -xf - -C /home/user/WORKSPACE/\n",
    "    \n",
    "    $ pv /home/user/Downloads/Robot@Home2_files.tgz | tar -xzf - -C /home/user/WORKSPACE/files\n",
    "\n",
    "Or even better, now you can do the same programmatically using the toolbox you\n",
    "just installed.\n",
    "\n"
   ]
  },
  {
   "cell_type": "code",
   "execution_count": 1,
   "metadata": {},
   "outputs": [],
   "source": [
    "import os\n",
    "\n",
    "# Change these default values to your preferred directories\n",
    "download_dir = '~/WORKSPACE/download'\n",
    "target_dir = '~/WORKSPACE/rh2'"
   ]
  },
  {
   "cell_type": "code",
   "execution_count": 1,
   "metadata": {},
   "outputs": [],
   "source": [
    "url = 'https://zenodo.org/record/4530453/files/Robot@Home2_db.tgz'\n",
    "rh.download(url, download_dir)"
   ]
  },
  {
   "cell_type": "markdown",
   "metadata": {},
   "source": [
    "Note that the `Robot@Home2_files.tgz` file is 12.5 GB, so the download session\n",
    "will take a while depending on your bandwidth (~6 minutes approximately with a\n",
    "600 Mbits connection)\n",
    "\n"
   ]
  },
  {
   "cell_type": "code",
   "execution_count": 1,
   "metadata": {},
   "outputs": [],
   "source": [
    "url = 'https://zenodo.org/record/4530453/files/Robot@Home2_files.tgz'\n",
    "rh.download(url, download_dir)"
   ]
  },
  {
   "cell_type": "markdown",
   "metadata": {},
   "source": [
    "Compute md5 checksums\n",
    "\n"
   ]
  },
  {
   "cell_type": "code",
   "execution_count": 1,
   "metadata": {},
   "outputs": [],
   "source": [
    "md5_checksum_db = rh.get_md5(os.path.join(download_dir, 'Robot@Home2_db.tgz'))\n",
    "print (md5_checksum_db)"
   ]
  },
  {
   "cell_type": "markdown",
   "metadata": {},
   "source": [
    "again the next computation will take a while depending on your CPU (~1 minute)\n",
    "\n"
   ]
  },
  {
   "cell_type": "code",
   "execution_count": 1,
   "metadata": {},
   "outputs": [],
   "source": [
    "md5_checksum_files = rh.get_md5(os.path.join(download_dir, 'Robot@Home2_files.tgz'))\n",
    "print(md5_checksum_files)"
   ]
  },
  {
   "cell_type": "markdown",
   "metadata": {},
   "source": [
    "check the integrity of the files and unzip them if they are ok.\n",
    "\n",
    "For `Robot@Home2_db.tgz` you'll need 2.2GB\n",
    "\n"
   ]
  },
  {
   "cell_type": "code",
   "execution_count": 1,
   "metadata": {},
   "outputs": [],
   "source": [
    "if md5_checksum_db == 'c2a3536b6b98b907c56eda3a78300cbe':\n",
    "    rh.uncompress(os.path.join(download_dir, 'Robot@Home2_db.tgz'),\n",
    "                  target_dir)\n",
    "else:\n",
    "    print('Integrity of Robot@Home2_db.tgz is compromised, please download again')"
   ]
  },
  {
   "cell_type": "markdown",
   "metadata": {},
   "source": [
    "now, it's time for coffee while `Robot@Home2_files.tgz` is unzipping (you'll\n",
    "need 25.9 GB)\n",
    "\n"
   ]
  },
  {
   "cell_type": "code",
   "execution_count": 1,
   "metadata": {},
   "outputs": [],
   "source": [
    "if md5_checksum_files == 'c55465536738ec3470c75e1671bab5f2':\n",
    "    rh.uncompress(os.path.join(download_dir, 'Robot@Home2_files.tgz'),\n",
    "                  os.path.join(target_dir, 'files'))\n",
    "else:\n",
    "    print('Integrity of Robot@Home2_files.tgz is compromised, please download again')"
   ]
  },
  {
   "cell_type": "markdown",
   "metadata": {},
   "source": [
    "If you have reached this point you have successfully installed Robot@Home2\n",
    "Toolbox and Dataset. You are ready to move on to the next notebook.\n",
    "\n"
   ]
  }
 ],
 "metadata": {
  "kernelspec": {
   "display_name": "Python 3 (ipykernel)",
   "language": "python",
   "name": "python3"
  },
  "language_info": {
   "codemirror_mode": {
    "name": "ipython",
    "version": 3
   },
   "file_extension": ".py",
   "mimetype": "text/x-python",
   "name": "python",
   "nbconvert_exporter": "python",
   "pygments_lexer": "ipython3",
   "version": "3.9.7"
  },
  "org": null
 },
 "nbformat": 4,
 "nbformat_minor": 1
}
