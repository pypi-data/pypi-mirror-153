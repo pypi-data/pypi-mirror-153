{
 "cells": [
  {
   "cell_type": "markdown",
   "metadata": {},
   "source": [
    "## Robot@Home 2 - Laser Scanner observations `v1.1`\n",
    "\n"
   ]
  },
  {
   "cell_type": "markdown",
   "metadata": {},
   "source": [
    "`R@H2 notebook series`\n",
    "\n"
   ]
  },
  {
   "cell_type": "markdown",
   "metadata": {},
   "source": [
    "### R@H2 functions introduced in this notebook:\n",
    "\n"
   ]
  },
  {
   "cell_type": "markdown",
   "metadata": {},
   "source": [
    "-   `rh.get_laser_scan(id)`\n",
    "-   `get_scan_xy(laser_scan)`\n",
    "-   `plot_scan(laser_scan)`\n",
    "\n"
   ]
  },
  {
   "cell_type": "markdown",
   "metadata": {},
   "source": [
    "### Laser scanner observations\n",
    "\n"
   ]
  },
  {
   "cell_type": "markdown",
   "metadata": {},
   "source": [
    "In the previous notebook we have been dealing with RGBD observations. Now it is\n",
    "the turn of the Laser Scanner observations.\n",
    "\n"
   ]
  },
  {
   "cell_type": "code",
   "execution_count": 1,
   "metadata": {},
   "outputs": [],
   "source": [
    "%matplotlib inline\n",
    "\n",
    "import numpy as np\n",
    "import os\n",
    "import pandas as pd\n",
    "\n",
    "from robotathome import RobotAtHome\n",
    "from robotathome import logger, log, set_log_level\n",
    "from robotathome import time_win2unixepoch, time_unixepoch2win\n",
    "from robotathome import get_labeled_img, plot_labeled_img, plot_scan, get_scan_xy"
   ]
  },
  {
   "cell_type": "code",
   "execution_count": 2,
   "metadata": {},
   "outputs": [
    {
     "name": "stderr",
     "output_type": "stream",
     "text": [
      "2022-01-24 14:24:54.485 | SUCCESS  | robotathome.core.reader:__open_dataset:87 - Connection is established: rh.db\n"
     ]
    }
   ],
   "source": [
    "log.set_log_level('INFO')  # SUCCESS is the default\n",
    "\n",
    "my_rh_path = '~/WORKSPACE/R@H2-2.0.1'\n",
    "my_rgbd_path = os.path.join(my_rh_path, 'files/rgbd')\n",
    "my_scene_path = os.path.join(my_rh_path, 'files/scene')\n",
    "my_wspc_path = '~/WORKSPACE'\n",
    "\n",
    "try:\n",
    "    rh = RobotAtHome(my_rh_path, my_rgbd_path, my_scene_path, my_wspc_path)\n",
    "except:\n",
    "    logger.error(\"Something was wrong\")"
   ]
  },
  {
   "cell_type": "code",
   "execution_count": 3,
   "metadata": {},
   "outputs": [
    {
     "name": "stderr",
     "output_type": "stream",
     "text": [
      "2022-01-24 14:24:56.664 | INFO     | __main__:<module>:3 - # Laser Scans set: 39363 observations with 14 fields\n"
     ]
    }
   ],
   "source": [
    "# The full dataset is returned by default\n",
    "laser_obs = rh.get_sensor_observations('lsrscan')\n",
    "logger.info(f\"# Laser Scans set: {len(laser_obs)} observations with {len(laser_obs.columns)} fields\")"
   ]
  },
  {
   "cell_type": "markdown",
   "metadata": {},
   "source": [
    "Apart from the information included in each record,\n",
    "\n"
   ]
  },
  {
   "cell_type": "code",
   "execution_count": 4,
   "metadata": {},
   "outputs": [
    {
     "name": "stdout",
     "output_type": "stream",
     "text": [
      "<class 'pandas.core.frame.DataFrame'>\n",
      "RangeIndex: 39363 entries, 0 to 39362\n",
      "Data columns (total 14 columns):\n",
      " #   Column              Non-Null Count  Dtype  \n",
      "---  ------              --------------  -----  \n",
      " 0   id                  39363 non-null  int64  \n",
      " 1   timestamp           39363 non-null  int64  \n",
      " 2   home_session_id     39363 non-null  int64  \n",
      " 3   home_subsession_id  39363 non-null  int64  \n",
      " 4   home_id             39363 non-null  int64  \n",
      " 5   room_id             39363 non-null  int64  \n",
      " 6   sensor_id           39363 non-null  int64  \n",
      " 7   sensor_name         39363 non-null  object \n",
      " 8   sensor_pose_x       39363 non-null  float64\n",
      " 9   sensor_pose_y       39363 non-null  float64\n",
      " 10  sensor_pose_z       39363 non-null  float64\n",
      " 11  sensor_pose_yaw     39363 non-null  float64\n",
      " 12  sensor_pose_pitch   39363 non-null  float64\n",
      " 13  sensor_pose_roll    39363 non-null  float64\n",
      "dtypes: float64(6), int64(7), object(1)\n",
      "memory usage: 4.2+ MB\n"
     ]
    }
   ],
   "source": [
    "laser_obs.info()"
   ]
  },
  {
   "cell_type": "markdown",
   "metadata": {},
   "source": [
    "you can get the laser scan corresponding to the observation\n",
    "\n"
   ]
  },
  {
   "cell_type": "code",
   "execution_count": 5,
   "metadata": {},
   "outputs": [
    {
     "name": "stdout",
     "output_type": "stream",
     "text": [
      "<class 'pandas.core.frame.DataFrame'>\n",
      "RangeIndex: 682 entries, 0 to 681\n",
      "Data columns (total 5 columns):\n",
      " #   Column                 Non-Null Count  Dtype  \n",
      "---  ------                 --------------  -----  \n",
      " 0   id                     682 non-null    int64  \n",
      " 1   shot_id                682 non-null    int64  \n",
      " 2   scan                   682 non-null    float64\n",
      " 3   valid_scan             682 non-null    int64  \n",
      " 4   sensor_observation_id  682 non-null    int64  \n",
      "dtypes: float64(1), int64(4)\n",
      "memory usage: 26.8 KB\n"
     ]
    }
   ],
   "source": [
    "# For example, let's examine the first laser observation\n",
    "id = 200000\n",
    "laser_scan = rh.get_laser_scan(id)\n",
    "laser_scan.info()"
   ]
  },
  {
   "cell_type": "markdown",
   "metadata": {},
   "source": [
    "The data frame for a laser observation,.i.e. for a given `id`, has 682 rows, one per\n",
    "shot. Each shot is referenced by the shot<sub>id</sub> field whose values are in the range\n",
    "[0, 681] and are sequentially ordered.\n",
    "\n",
    "Note the other important fields, `scan` which is the distance measurement and\n",
    "`valid_scan` which is a binary value indicating whether the shot is valid (1) or\n",
    "not (0).\n",
    "\n"
   ]
  },
  {
   "cell_type": "code",
   "execution_count": 6,
   "metadata": {},
   "outputs": [
    {
     "name": "stderr",
     "output_type": "stream",
     "text": [
      "2022-01-24 14:24:57.246 | INFO     | __main__:<module>:4 - \n",
      "Shots column: \n",
      "0      1.788\n",
      "1      1.749\n",
      "2      1.749\n",
      "3      1.749\n",
      "4      1.749\n",
      "       ...  \n",
      "677    1.099\n",
      "678    1.099\n",
      "679    0.539\n",
      "680    0.537\n",
      "681    0.531\n",
      "Name: scan, Length: 682, dtype: float64\n",
      "Shot list: \n",
      "[1.788, 1.749, 1.749, 1.749, 1.749]...\n"
     ]
    }
   ],
   "source": [
    "# To get a list with the shot values\n",
    "# We can easily convert a column to a list\n",
    "shot_list = laser_scan['scan'].values.tolist()\n",
    "logger.info(\"\\nShots column: \\n{}\\nShot list: \\n{}...\", laser_scan['scan'], shot_list[:5])"
   ]
  },
  {
   "cell_type": "markdown",
   "metadata": {},
   "source": [
    "The laser scan dataframe has also important metadada that can be printed out\n",
    "\n"
   ]
  },
  {
   "cell_type": "code",
   "execution_count": 7,
   "metadata": {},
   "outputs": [
    {
     "name": "stderr",
     "output_type": "stream",
     "text": [
      "2022-01-24 14:24:57.326 | INFO     | __main__:<module>:1 - \n",
      "aperture    : 4.1847 radians \n",
      "max_range   : 5.6 meters\n",
      "no_of_shots : 682\n"
     ]
    }
   ],
   "source": [
    "logger.info(\"\\naperture    : {} radians \\nmax_range   : {} meters\\nno_of_shots : {}\",\n",
    "            laser_scan.aperture, laser_scan.max_range, laser_scan.no_of_shots )"
   ]
  },
  {
   "cell_type": "markdown",
   "metadata": {},
   "source": [
    "So a distance measurement is done `no_of_shot` times with an angular distance of\n",
    "`aperture/no_of_shots` radians between them.\n",
    "\n",
    "Those parameters allow to easily compute x, y coordinates, nevertheless there is\n",
    "a function to get them\n",
    "\n"
   ]
  },
  {
   "cell_type": "code",
   "execution_count": 8,
   "metadata": {},
   "outputs": [
    {
     "name": "stderr",
     "output_type": "stream",
     "text": [
      "2022-01-24 14:24:57.457 | INFO     | __main__:<module>:2 - \n",
      " (x,y) laser scan coordinates: \n",
      "                x         y\n",
      "shot_id                    \n",
      "0        1.788000  0.000000\n",
      "1        1.748967  0.010732\n",
      "2        1.748868  0.021463\n",
      "3        1.748704  0.032193\n",
      "4        1.748473  0.042923\n",
      "...           ...       ...\n",
      "677     -0.582254 -0.932084\n",
      "678     -0.576524 -0.935640\n",
      "679     -0.279933 -0.460607\n",
      "680     -0.276073 -0.460600\n",
      "681     -0.270189 -0.457120\n",
      "\n",
      "[682 rows x 2 columns]\n"
     ]
    }
   ],
   "source": [
    "xy = get_scan_xy(laser_scan)\n",
    "logger.info(\"\\n (x,y) laser scan coordinates: \\n{}\", xy)"
   ]
  },
  {
   "cell_type": "markdown",
   "metadata": {},
   "source": [
    "Finally you can plot the scan\n",
    "\n"
   ]
  },
  {
   "cell_type": "code",
   "execution_count": 9,
   "metadata": {},
   "outputs": [
    {
     "data": {
      "image/png": "[encoded data removed]",
      "text/plain": [
       "<Figure size 691.2x518.4 with 2 Axes>"
      ]
     },
     "metadata": {
      "needs_background": "light"
     },
     "output_type": "display_data"
    }
   ],
   "source": [
    "import matplotlib.pyplot as plt\n",
    "plt.rcParams['figure.figsize'] = [9.6, 7.2]\n",
    "plot_scan(laser_scan)"
   ]
  }
 ],
 "metadata": {
  "kernelspec": {
   "display_name": "Python 3 (ipykernel)",
   "language": "python",
   "name": "python3"
  },
  "language_info": {
   "codemirror_mode": {
    "name": "ipython",
    "version": 3
   },
   "file_extension": ".py",
   "mimetype": "text/x-python",
   "name": "python",
   "nbconvert_exporter": "python",
   "pygments_lexer": "ipython3",
   "version": "3.9.7"
  },
  "org": null
 },
 "nbformat": 4,
 "nbformat_minor": 1
}
