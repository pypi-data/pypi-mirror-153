{
 "cells": [
  {
   "cell_type": "code",
   "execution_count": 71,
   "id": "edf69518",
   "metadata": {},
   "outputs": [],
   "source": [
    "from collections import defaultdict\n",
    "\n",
    "class Dict(defaultdict):\n",
    "    \"\"\"\n",
    "    This class is built around defaultdict, with the following two added features:\n",
    "        1. arbitrarily deep nesting of the nested dictionary, while still having a  \n",
    "        2. pretty representation of the dictionary object (as compared to nested function names) \n",
    "    \"\"\"\n",
    "    def __init__(self, *args, **kwargs):\n",
    "        defaultdict.__init__(\n",
    "            self,\n",
    "            *args, \n",
    "            **kwargs)\n",
    "        \n",
    "    def __repr__(self):\n",
    "        return str(dict(self)) \n",
    "\n",
    "    @classmethod\n",
    "    def nest(self):\n",
    "        return Dict(lambda: Dict(Dict.nest))\n",
    "\n",
    "class NDict(Dict):\n",
    "    def __init__(self):\n",
    "        self.d = Dict.nest()\n",
    "    def __setitem__(self, n):\n",
    "        return self.d.__setitem__(n)\n",
    "    def __repr__(self):\n",
    "        return str(self.d)"
   ]
  },
  {
   "cell_type": "code",
   "execution_count": 72,
   "id": "25b874c9",
   "metadata": {},
   "outputs": [],
   "source": [
    "d = NDict()"
   ]
  },
  {
   "cell_type": "code",
   "execution_count": 74,
   "id": "95ae3376",
   "metadata": {},
   "outputs": [],
   "source": [
    "d.d['2']['a']['b']['c'] = 10"
   ]
  },
  {
   "cell_type": "code",
   "execution_count": 75,
   "id": "3a337ad4",
   "metadata": {},
   "outputs": [
    {
     "data": {
      "text/plain": [
       "{'2': {'a': {'b': {'c': 10}}}}"
      ]
     },
     "execution_count": 75,
     "metadata": {},
     "output_type": "execute_result"
    }
   ],
   "source": [
    "d"
   ]
  },
  {
   "cell_type": "code",
   "execution_count": null,
   "id": "c4dd1004",
   "metadata": {},
   "outputs": [],
   "source": []
  }
 ],
 "metadata": {
  "kernelspec": {
   "display_name": "Python (my env)",
   "language": "python",
   "name": "myenv"
  },
  "language_info": {
   "codemirror_mode": {
    "name": "ipython",
    "version": 3
   },
   "file_extension": ".py",
   "mimetype": "text/x-python",
   "name": "python",
   "nbconvert_exporter": "python",
   "pygments_lexer": "ipython3",
   "version": "3.9.5"
  }
 },
 "nbformat": 4,
 "nbformat_minor": 5
}
