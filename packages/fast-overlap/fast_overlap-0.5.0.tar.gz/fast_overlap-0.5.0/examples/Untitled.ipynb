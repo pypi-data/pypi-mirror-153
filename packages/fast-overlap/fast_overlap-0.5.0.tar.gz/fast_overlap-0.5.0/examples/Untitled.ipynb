{
 "cells": [
  {
   "cell_type": "code",
   "execution_count": 1,
   "id": "completed-pound",
   "metadata": {
    "execution": {
     "iopub.execute_input": "2021-10-14T04:11:41.739896Z",
     "iopub.status.busy": "2021-10-14T04:11:41.738945Z",
     "iopub.status.idle": "2021-10-14T04:11:42.106907Z",
     "shell.execute_reply": "2021-10-14T04:11:42.106334Z",
     "shell.execute_reply.started": "2021-10-14T04:11:41.739750Z"
    },
    "tags": []
   },
   "outputs": [],
   "source": [
    "%matplotlib widget\n",
    "import numpy as np\n",
    "import matplotlib.pyplot as plt"
   ]
  },
  {
   "cell_type": "code",
   "execution_count": 2,
   "id": "growing-series",
   "metadata": {
    "execution": {
     "iopub.execute_input": "2021-10-14T04:11:42.107707Z",
     "iopub.status.busy": "2021-10-14T04:11:42.107513Z",
     "iopub.status.idle": "2021-10-14T04:11:42.571200Z",
     "shell.execute_reply": "2021-10-14T04:11:42.570618Z",
     "shell.execute_reply.started": "2021-10-14T04:11:42.107690Z"
    },
    "tags": []
   },
   "outputs": [],
   "source": [
    "# np.zeros()\n",
    "from skimage.draw import random_shapes\n",
    "from skimage.segmentation import relabel_sequential"
   ]
  },
  {
   "cell_type": "code",
   "execution_count": 4,
   "id": "further-cleaning",
   "metadata": {
    "execution": {
     "iopub.execute_input": "2021-10-14T04:12:45.212252Z",
     "iopub.status.busy": "2021-10-14T04:12:45.211675Z",
     "iopub.status.idle": "2021-10-14T04:12:45.573263Z",
     "shell.execute_reply": "2021-10-14T04:12:45.572822Z",
     "shell.execute_reply.started": "2021-10-14T04:12:45.212208Z"
    },
    "tags": []
   },
   "outputs": [
    {
     "data": {
      "text/plain": [
       "<matplotlib.image.AxesImage at 0x7f36422c6580>"
      ]
     },
     "execution_count": 4,
     "metadata": {},
     "output_type": "execute_result"
    },
    {
     "data": {
      "application/vnd.jupyter.widget-view+json": {
       "model_id": "042721c850864044a44ce53c336abbc0",
       "version_major": 2,
       "version_minor": 0
      },
      "image/png": "[encoded data removed]",
      "text/plain": [
       "Canvas(toolbar=Toolbar(toolitems=[('Home', 'Reset original view', 'home', 'home'), ('Back', 'Back to previous …"
      ]
     },
     "metadata": {},
     "output_type": "display_data"
    }
   ],
   "source": [
    "im_shape=(1024,1024)\n",
    "min_shapes = 5\n",
    "im1 =random_shapes(im_shape, 20, min_shapes=min_shapes)[0]\n",
    "im1 = relabel_sequential(im1.sum(axis=-1))[0]\n",
    "im2 =random_shapes(im_shape, 20, min_shapes=min_shapes)[0]\n",
    "im2 = relabel_sequential(im2.sum(axis=-1))[0]\n",
    "\n",
    "plt.figure()\n",
    "plt.imshow(im1)"
   ]
  },
  {
   "cell_type": "code",
   "execution_count": 5,
   "id": "c04d5306-3da7-42c5-bb0e-9683643ec78d",
   "metadata": {
    "execution": {
     "iopub.execute_input": "2021-10-14T04:12:47.468831Z",
     "iopub.status.busy": "2021-10-14T04:12:47.468355Z",
     "iopub.status.idle": "2021-10-14T04:12:47.605352Z",
     "shell.execute_reply": "2021-10-14T04:12:47.604826Z",
     "shell.execute_reply.started": "2021-10-14T04:12:47.468775Z"
    },
    "tags": []
   },
   "outputs": [],
   "source": [
    "import numpy as np\n",
    "import numba\n",
    "from numba import jit\n"
   ]
  },
  {
   "cell_type": "code",
   "execution_count": 6,
   "id": "4b431b5a-6500-4ab6-90f1-bb0f6fc2f111",
   "metadata": {
    "execution": {
     "iopub.execute_input": "2021-10-14T04:12:47.794835Z",
     "iopub.status.busy": "2021-10-14T04:12:47.794488Z",
     "iopub.status.idle": "2021-10-14T04:12:47.830379Z",
     "shell.execute_reply": "2021-10-14T04:12:47.829641Z",
     "shell.execute_reply.started": "2021-10-14T04:12:47.794811Z"
    },
    "tags": []
   },
   "outputs": [],
   "source": [
    "SQRT_2PI = np.sqrt(2 * np.pi)\n",
    "\n",
    "@jit(nopython=True, parallel=True)\n",
    "def gaussians(x, means, widths):\n",
    "    '''Return the value of gaussian kernels.\n",
    "    \n",
    "    x - location of evaluation\n",
    "    means - array of kernel means\n",
    "    widths - array of kernel widths\n",
    "    '''\n",
    "    n = means.shape[0]\n",
    "    result = np.exp( -0.5 * ((x - means) / widths)**2 ) / widths\n",
    "    return result / SQRT_2PI / n"
   ]
  },
  {
   "cell_type": "code",
   "execution_count": 7,
   "id": "05a8762f-e291-4de1-9dbc-e643a9f950f2",
   "metadata": {
    "execution": {
     "iopub.execute_input": "2021-10-14T04:12:48.331260Z",
     "iopub.status.busy": "2021-10-14T04:12:48.329971Z",
     "iopub.status.idle": "2021-10-14T04:12:49.013534Z",
     "shell.execute_reply": "2021-10-14T04:12:49.013095Z",
     "shell.execute_reply.started": "2021-10-14T04:12:48.331201Z"
    },
    "tags": []
   },
   "outputs": [
    {
     "data": {
      "text/plain": [
       "array([1.67404304e-06, 8.55069057e-32, 1.21639285e-06, ...,\n",
       "       2.04607590e-07, 4.89871622e-07, 1.39271340e-06])"
      ]
     },
     "execution_count": 7,
     "metadata": {},
     "output_type": "execute_result"
    }
   ],
   "source": [
    "means = np.random.uniform(-1, 1, size=1000000)\n",
    "widths = np.random.uniform(0.1, 0.3, size=1000000)\n",
    "\n",
    "gaussians(0.4, means, widths)"
   ]
  },
  {
   "cell_type": "code",
   "execution_count": 8,
   "id": "06b41ca1-7600-4348-8c95-f2a3710edc4d",
   "metadata": {
    "execution": {
     "iopub.execute_input": "2021-10-14T04:12:49.014854Z",
     "iopub.status.busy": "2021-10-14T04:12:49.014531Z",
     "iopub.status.idle": "2021-10-14T04:12:51.804373Z",
     "shell.execute_reply": "2021-10-14T04:12:51.803633Z",
     "shell.execute_reply.started": "2021-10-14T04:12:49.014828Z"
    },
    "tags": []
   },
   "outputs": [
    {
     "name": "stdout",
     "output_type": "stream",
     "text": [
      "9.15 ms ± 617 µs per loop (mean ± std. dev. of 7 runs, 1 loop each)\n",
      "3.01 ms ± 299 µs per loop (mean ± std. dev. of 7 runs, 100 loops each)\n"
     ]
    }
   ],
   "source": [
    "gaussians_nothread = jit(nopython=True)(gaussians.py_func)\n",
    "\n",
    "%timeit gaussians_nothread(0.4, means, widths)\n",
    "%timeit gaussians(0.4, means, widths)"
   ]
  },
  {
   "cell_type": "code",
   "execution_count": 62,
   "id": "7edb18c3-1357-4fe5-b8fb-1f14be18a2f1",
   "metadata": {
    "execution": {
     "iopub.execute_input": "2021-10-14T04:38:05.202363Z",
     "iopub.status.busy": "2021-10-14T04:38:05.201831Z",
     "iopub.status.idle": "2021-10-14T04:38:05.374641Z",
     "shell.execute_reply": "2021-10-14T04:38:05.373914Z",
     "shell.execute_reply.started": "2021-10-14T04:38:05.202329Z"
    },
    "tags": []
   },
   "outputs": [],
   "source": [
    "from numba import int32\n",
    "\n",
    "@jit((int32[:,:], int32[:,:], int32, int32), nopython=True)\n",
    "def overlap_numba(prev, curr, shape1, shape2):\n",
    "    arr = np.zeros((shape1, shape2), dtype=np.dtype(\"i\"))\n",
    "    for i in range(prev.shape[0]):\n",
    "        for j in range(prev.shape[1]):\n",
    "            arr[prev[i,j],curr[i,j]] += 1\n",
    "    return arr\n",
    "\n"
   ]
  },
  {
   "cell_type": "code",
   "execution_count": 56,
   "id": "8a306720-93c3-41b3-b074-8c7d2776cc01",
   "metadata": {
    "execution": {
     "iopub.execute_input": "2021-10-14T04:37:16.698670Z",
     "iopub.status.busy": "2021-10-14T04:37:16.698015Z",
     "iopub.status.idle": "2021-10-14T04:37:16.701977Z",
     "shell.execute_reply": "2021-10-14T04:37:16.701343Z",
     "shell.execute_reply.started": "2021-10-14T04:37:16.698630Z"
    }
   },
   "outputs": [],
   "source": [
    "import os"
   ]
  },
  {
   "cell_type": "code",
   "execution_count": 60,
   "id": "ad71ac55-c121-4c23-85ae-444f2e8f3f85",
   "metadata": {
    "execution": {
     "iopub.execute_input": "2021-10-14T04:37:48.602818Z",
     "iopub.status.busy": "2021-10-14T04:37:48.602482Z",
     "iopub.status.idle": "2021-10-14T04:37:48.608563Z",
     "shell.execute_reply": "2021-10-14T04:37:48.607897Z",
     "shell.execute_reply.started": "2021-10-14T04:37:48.602778Z"
    },
    "tags": []
   },
   "outputs": [],
   "source": [
    "os.environ['NUMBA_CACHE_DIR'] = \"/tmp\""
   ]
  },
  {
   "cell_type": "code",
   "execution_count": 50,
   "id": "a8c01eda-eed1-4846-b179-6360656aafb3",
   "metadata": {
    "execution": {
     "iopub.execute_input": "2021-10-14T04:33:02.790512Z",
     "iopub.status.busy": "2021-10-14T04:33:02.789900Z",
     "iopub.status.idle": "2021-10-14T04:33:02.794652Z",
     "shell.execute_reply": "2021-10-14T04:33:02.793523Z",
     "shell.execute_reply.started": "2021-10-14T04:33:02.790467Z"
    },
    "tags": []
   },
   "outputs": [],
   "source": [
    "# @jit(nopython=True, parallel=True)\n",
    "# def overlap_numba_parallel(prev, curr, shape):\n",
    "#     arr = np.zeros(shape, dtype=np.dtype(\"i\"))\n",
    "#     for i in numba.prange(prev.shape[0]):\n",
    "#         for j in range(prev.shape[1]):\n",
    "#             arr[prev[i,j],curr[i,j]] += 1\n",
    "#     return arr"
   ]
  },
  {
   "cell_type": "code",
   "execution_count": 51,
   "id": "6209372c-de03-4092-8a1d-a0861a9f2332",
   "metadata": {
    "execution": {
     "iopub.execute_input": "2021-10-14T04:33:02.973104Z",
     "iopub.status.busy": "2021-10-14T04:33:02.972887Z",
     "iopub.status.idle": "2021-10-14T04:33:02.980532Z",
     "shell.execute_reply": "2021-10-14T04:33:02.979895Z",
     "shell.execute_reply.started": "2021-10-14T04:33:02.973080Z"
    },
    "tags": []
   },
   "outputs": [
    {
     "data": {
      "text/plain": [
       "(13, 9)"
      ]
     },
     "execution_count": 51,
     "metadata": {},
     "output_type": "execute_result"
    }
   ],
   "source": [
    "shape = (int(np.max(im1)+1), int(np.max(im2)+1))\n",
    "shape\n"
   ]
  },
  {
   "cell_type": "code",
   "execution_count": 52,
   "id": "passing-macedonia",
   "metadata": {
    "execution": {
     "iopub.execute_input": "2021-10-14T04:33:03.197412Z",
     "iopub.status.busy": "2021-10-14T04:33:03.196985Z",
     "iopub.status.idle": "2021-10-14T04:33:03.203985Z",
     "shell.execute_reply": "2021-10-14T04:33:03.202860Z",
     "shell.execute_reply.started": "2021-10-14T04:33:03.197360Z"
    },
    "tags": []
   },
   "outputs": [],
   "source": [
    "import fast_overlap"
   ]
  },
  {
   "cell_type": "code",
   "execution_count": 63,
   "id": "6dc863ed-260a-4567-a6e5-19d0f5072c39",
   "metadata": {
    "execution": {
     "iopub.execute_input": "2021-10-14T04:38:08.088219Z",
     "iopub.status.busy": "2021-10-14T04:38:08.087956Z",
     "iopub.status.idle": "2021-10-14T04:38:10.114854Z",
     "shell.execute_reply": "2021-10-14T04:38:10.114358Z",
     "shell.execute_reply.started": "2021-10-14T04:38:08.088188Z"
    },
    "tags": []
   },
   "outputs": [
    {
     "name": "stdout",
     "output_type": "stream",
     "text": [
      "CPU times: user 1.99 s, sys: 733 µs, total: 1.99 s\n",
      "Wall time: 2 s\n",
      "CPU times: user 3.54 ms, sys: 0 ns, total: 3.54 ms\n",
      "Wall time: 3.3 ms\n",
      "CPU times: user 3.29 ms, sys: 0 ns, total: 3.29 ms\n",
      "Wall time: 3.12 ms\n",
      "CPU times: user 90.1 ms, sys: 0 ns, total: 90.1 ms\n",
      "Wall time: 14.8 ms\n"
     ]
    }
   ],
   "source": [
    "%time out = overlap_numba.py_func(im1.astype(np.int32), im2.astype(np.int32), *shape)\n",
    "%time out = overlap_numba(im1.astype(np.int32), im2.astype(np.int32), *shape)\n",
    "# %time out = overlap_numba_parallel(im1.astype(np.int32), im2.astype(np.int32), shape)\n",
    "%time out = np.array(fast_overlap.overlap(im1.astype(np.int32), im2.astype(np.int32), shape))\n",
    "%time out = np.array(fast_overlap.overlap_prange(im1.astype(np.int32), im2.astype(np.int32), shape))"
   ]
  },
  {
   "cell_type": "code",
   "execution_count": 64,
   "id": "899e2da7-52a4-4a50-b5e9-0ac65792ad9f",
   "metadata": {
    "execution": {
     "iopub.execute_input": "2021-10-14T05:36:04.053213Z",
     "iopub.status.busy": "2021-10-14T05:36:04.052213Z",
     "iopub.status.idle": "2021-10-14T05:36:04.135735Z",
     "shell.execute_reply": "2021-10-14T05:36:04.133831Z",
     "shell.execute_reply.started": "2021-10-14T05:36:04.053094Z"
    }
   },
   "outputs": [],
   "source": [
    "out = np.array(fast_overlap.overlap(im1.astype(np.int32), im2.astype(np.int32), shape))\n",
    "out_p = np.array(fast_overlap.overlap_prange(im1.astype(np.int32), im2.astype(np.int32), shape))\n"
   ]
  },
  {
   "cell_type": "code",
   "execution_count": 66,
   "id": "deadly-railway",
   "metadata": {
    "execution": {
     "iopub.execute_input": "2021-10-14T05:36:13.789540Z",
     "iopub.status.busy": "2021-10-14T05:36:13.788007Z",
     "iopub.status.idle": "2021-10-14T05:36:13.802328Z",
     "shell.execute_reply": "2021-10-14T05:36:13.800147Z",
     "shell.execute_reply.started": "2021-10-14T05:36:13.789448Z"
    },
    "tags": []
   },
   "outputs": [
    {
     "data": {
      "text/plain": [
       "array([[ True,  True,  True,  True,  True,  True,  True,  True,  True],\n",
       "       [ True,  True,  True,  True,  True,  True,  True,  True,  True],\n",
       "       [ True,  True,  True,  True,  True,  True,  True,  True,  True],\n",
       "       [ True,  True,  True,  True,  True,  True,  True,  True,  True],\n",
       "       [ True,  True,  True,  True,  True,  True,  True,  True,  True],\n",
       "       [ True,  True,  True,  True,  True,  True, False,  True, False],\n",
       "       [ True,  True,  True,  True,  True,  True,  True,  True, False],\n",
       "       [ True,  True,  True,  True,  True,  True,  True,  True,  True],\n",
       "       [ True,  True,  True,  True,  True,  True,  True,  True,  True],\n",
       "       [ True,  True,  True,  True,  True,  True, False,  True,  True],\n",
       "       [ True,  True,  True,  True,  True,  True,  True,  True,  True],\n",
       "       [ True,  True,  True,  True,  True,  True,  True,  True,  True],\n",
       "       [ True,  True,  True,  True,  True,  True, False, False, False]])"
      ]
     },
     "execution_count": 66,
     "metadata": {},
     "output_type": "execute_result"
    }
   ],
   "source": [
    "out == out_p"
   ]
  },
  {
   "cell_type": "code",
   "execution_count": 12,
   "id": "341094c6-0445-485b-8fb1-761d9f9dddfb",
   "metadata": {
    "execution": {
     "iopub.execute_input": "2021-10-14T04:06:23.993283Z",
     "iopub.status.busy": "2021-10-14T04:06:23.993063Z",
     "iopub.status.idle": "2021-10-14T04:06:25.026373Z",
     "shell.execute_reply": "2021-10-14T04:06:25.025698Z",
     "shell.execute_reply.started": "2021-10-14T04:06:23.993259Z"
    },
    "tags": []
   },
   "outputs": [
    {
     "name": "stdout",
     "output_type": "stream",
     "text": [
      "CPU times: user 1.15 s, sys: 741 ms, total: 1.89 s\n",
      "Wall time: 1.03 s\n"
     ]
    }
   ],
   "source": []
  },
  {
   "cell_type": "code",
   "execution_count": 33,
   "id": "analyzed-investigator",
   "metadata": {},
   "outputs": [
    {
     "data": {
      "application/vnd.jupyter.widget-view+json": {
       "model_id": "9ad044d7b0444e1caa74e160833bf81e",
       "version_major": 2,
       "version_minor": 0
      },
      "text/plain": [
       "Canvas(toolbar=Toolbar(toolitems=[('Home', 'Reset original view', 'home', 'home'), ('Back', 'Back to previous …"
      ]
     },
     "metadata": {},
     "output_type": "display_data"
    },
    {
     "data": {
      "text/plain": [
       "<matplotlib.image.AxesImage at 0x7f8d15f845e0>"
      ]
     },
     "execution_count": 33,
     "metadata": {},
     "output_type": "execute_result"
    }
   ],
   "source": [
    "plt.figure()\n",
    "plt.imshow(overlap)"
   ]
  },
  {
   "cell_type": "code",
   "execution_count": 36,
   "id": "humanitarian-general",
   "metadata": {},
   "outputs": [],
   "source": [
    "idx = im1.flatten() == im2.flatten()"
   ]
  },
  {
   "cell_type": "code",
   "execution_count": 38,
   "id": "interior-registration",
   "metadata": {},
   "outputs": [
    {
     "data": {
      "text/plain": [
       "(array([11, 13], dtype=uint64), array([79, 89]))"
      ]
     },
     "execution_count": 38,
     "metadata": {},
     "output_type": "execute_result"
    }
   ],
   "source": [
    "np.unique(im1.flatten()[idx], return_counts=True)"
   ]
  },
  {
   "cell_type": "code",
   "execution_count": 40,
   "id": "phantom-trinidad",
   "metadata": {},
   "outputs": [
    {
     "data": {
      "text/plain": [
       "(array([ 1,  2,  3,  4,  5,  6,  7,  8,  9, 10, 11, 12, 13], dtype=uint64),\n",
       " array([43553, 55777,    94, 31198,  7592, 63166, 53341, 59662, 61027,\n",
       "        63271, 26492, 33450, 43743]),\n",
       " array([ 1399, 60944, 17379, 23383,  2604, 21219, 48098, 51155, 37453,\n",
       "        14717, 18823, 18729,     0]))"
      ]
     },
     "execution_count": 40,
     "metadata": {},
     "output_type": "execute_result"
    }
   ],
   "source": [
    "np.intersect1d(im1, im2, return_indices=True)"
   ]
  },
  {
   "cell_type": "code",
   "execution_count": 42,
   "id": "twelve-delta",
   "metadata": {},
   "outputs": [],
   "source": [
    "idx = im1 == im2"
   ]
  },
  {
   "cell_type": "code",
   "execution_count": 44,
   "id": "effective-survey",
   "metadata": {},
   "outputs": [],
   "source": [
    "flat1 = im1.flatten()\n",
    "flat2 = im2.flatten()\n",
    "\n",
    "idx = flat1 == flat2"
   ]
  },
  {
   "cell_type": "code",
   "execution_count": 45,
   "id": "polar-allocation",
   "metadata": {},
   "outputs": [],
   "source": [
    "out = np.zeros((19, 14))"
   ]
  },
  {
   "cell_type": "code",
   "execution_count": null,
   "id": "alive-plenty",
   "metadata": {},
   "outputs": [],
   "source": [
    "out.ravel()"
   ]
  },
  {
   "cell_type": "code",
   "execution_count": null,
   "id": "organized-louisiana",
   "metadata": {},
   "outputs": [],
   "source": [
    "np.ravel()"
   ]
  },
  {
   "cell_type": "code",
   "execution_count": null,
   "id": "extensive-examination",
   "metadata": {},
   "outputs": [],
   "source": [
    "# identify the unique values:\n",
    "uniques = np.unique(data)\n",
    "\n",
    "# dummy for each row\n",
    "a = (data[...,None] == uniques).sum(1)\n",
    "\n",
    "# output\n",
    "out = np.einsum('ij,kj->ik',a,a)"
   ]
  }
 ],
 "metadata": {
  "kernelspec": {
   "display_name": "Python 3 (ipykernel)",
   "language": "python",
   "name": "python3"
  },
  "language_info": {
   "codemirror_mode": {
    "name": "ipython",
    "version": 3
   },
   "file_extension": ".py",
   "mimetype": "text/x-python",
   "name": "python",
   "nbconvert_exporter": "python",
   "pygments_lexer": "ipython3",
   "version": "3.9.7"
  },
  "widgets": {
   "application/vnd.jupyter.widget-state+json": {
    "state": {
     "042721c850864044a44ce53c336abbc0": {
      "model_module": "jupyter-matplotlib",
      "model_module_version": "^0.10.0",
      "model_name": "MPLCanvasModel",
      "state": {
       "_figure_label": "Figure 1",
       "_height": 480,
       "_width": 640,
       "layout": "IPY_MODEL_aad681f041754fcca57b7a277a373030",
       "toolbar": "IPY_MODEL_e48fb62e70c14549a073dfc55e85357e",
       "toolbar_position": "left"
      }
     },
     "aad681f041754fcca57b7a277a373030": {
      "model_module": "@jupyter-widgets/base",
      "model_module_version": "1.2.0",
      "model_name": "LayoutModel",
      "state": {}
     },
     "af050387317a4d91ba05e9eb3d991f31": {
      "model_module": "@jupyter-widgets/base",
      "model_module_version": "1.2.0",
      "model_name": "LayoutModel",
      "state": {}
     },
     "e48fb62e70c14549a073dfc55e85357e": {
      "model_module": "jupyter-matplotlib",
      "model_module_version": "^0.10.0",
      "model_name": "ToolbarModel",
      "state": {
       "layout": "IPY_MODEL_af050387317a4d91ba05e9eb3d991f31",
       "toolitems": [
        [
         "Home",
         "Reset original view",
         "home",
         "home"
        ],
        [
         "Back",
         "Back to previous view",
         "arrow-left",
         "back"
        ],
        [
         "Forward",
         "Forward to next view",
         "arrow-right",
         "forward"
        ],
        [
         "Pan",
         "Left button pans, Right button zooms\nx/y fixes axis, CTRL fixes aspect",
         "arrows",
         "pan"
        ],
        [
         "Zoom",
         "Zoom to rectangle\nx/y fixes axis, CTRL fixes aspect",
         "square-o",
         "zoom"
        ],
        [
         "Download",
         "Download plot",
         "floppy-o",
         "save_figure"
        ]
       ]
      }
     }
    },
    "version_major": 2,
    "version_minor": 0
   }
  }
 },
 "nbformat": 4,
 "nbformat_minor": 5
}
