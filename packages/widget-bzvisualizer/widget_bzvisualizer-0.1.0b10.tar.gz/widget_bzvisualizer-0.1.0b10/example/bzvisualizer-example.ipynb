{
 "cells": [
  {
   "cell_type": "markdown",
   "id": "alpine-philip",
   "metadata": {},
   "source": [
    "## **A Jupyter widget to visualize the 1st Brillouin zone**\n",
    "\n",
    "<hr style=\"height:1px;border:none;color:#cccccc;background-color:#cccccc;\" />"
   ]
  },
  {
   "cell_type": "code",
   "execution_count": 10,
   "id": "frank-reputation",
   "metadata": {},
   "outputs": [],
   "source": [
    "from widget_bzvisualizer import BZVisualizer\n",
    "import numpy as np\n",
    "from ase.dft.kpoints import *"
   ]
  },
  {
   "cell_type": "code",
   "execution_count": 11,
   "id": "legendary-shower",
   "metadata": {},
   "outputs": [],
   "source": [
    "lattice = np.array([\n",
    "[0.000000,      2.020160,       2.020160],\n",
    "[2.020160,      0.000000,       2.020160],\n",
    "[2.020160,      2.020160,       0.000000]\n",
    "])"
   ]
  },
  {
   "cell_type": "code",
   "execution_count": 12,
   "id": "mighty-devon",
   "metadata": {},
   "outputs": [
    {
     "data": {
      "application/vnd.jupyter.widget-view+json": {
       "model_id": "37a2041f5d7543b68fba80d971c7f91e",
       "version_major": 2,
       "version_minor": 0
      },
      "text/plain": [
       "BZVisualizer(cell=[[0.0, 2.02016, 2.02016], [2.02016, 0.0, 2.02016], [2.02016, 2.02016, 0.0]], jsondata={'face…"
      ]
     },
     "metadata": {},
     "output_type": "display_data"
    }
   ],
   "source": [
    "w = BZVisualizer(lattice, [[0.0, 0.0, 0.0]], [13], True)\n",
    "display(w)"
   ]
  },
  {
   "cell_type": "code",
   "execution_count": null,
   "id": "stretch-animal",
   "metadata": {},
   "outputs": [],
   "source": []
  },
  {
   "cell_type": "code",
   "execution_count": null,
   "id": "63602ffe-d735-450c-828b-8786c7e8bd15",
   "metadata": {},
   "outputs": [],
   "source": []
  }
 ],
 "metadata": {
  "kernelspec": {
   "display_name": "Python 3 (ipykernel)",
   "language": "python",
   "name": "python3"
  },
  "language_info": {
   "codemirror_mode": {
    "name": "ipython",
    "version": 3
   },
   "file_extension": ".py",
   "mimetype": "text/x-python",
   "name": "python",
   "nbconvert_exporter": "python",
   "pygments_lexer": "ipython3",
   "version": "3.9.12"
  }
 },
 "nbformat": 4,
 "nbformat_minor": 5
}
