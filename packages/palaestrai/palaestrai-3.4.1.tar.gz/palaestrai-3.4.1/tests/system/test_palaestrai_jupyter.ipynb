{
 "cells": [
  {
   "cell_type": "markdown",
   "metadata": {},
   "source": [
    "# palaestrAI in a Jupyter Notebook\n",
    "\n",
    "This is just the equivalent of a system test for the random action experiment.\n",
    "\n",
    "## Imports"
   ]
  },
  {
   "cell_type": "code",
   "execution_count": 1,
   "metadata": {},
   "outputs": [],
   "source": [
    "import palaestrai"
   ]
  },
  {
   "cell_type": "markdown",
   "metadata": {},
   "source": [
    "If the above line works without error, at least the import is done. Thats a first good starter. Now let's import the rest…"
   ]
  },
  {
   "cell_type": "code",
   "execution_count": 2,
   "metadata": {},
   "outputs": [],
   "source": [
    "import os\n",
    "import pprint\n",
    "import tempfile\n",
    "from pathlib import Path"
   ]
  },
  {
   "cell_type": "markdown",
   "metadata": {},
   "source": [
    "## Setting the Runtime Configuration\n",
    "\n",
    "Usually, this is not necessary like this. But because we're running a self-contained test, we want to have a new, fresh database where we want to put it. Which is, in a temporary directory."
   ]
  },
  {
   "cell_type": "code",
   "execution_count": 3,
   "metadata": {},
   "outputs": [
    {
     "data": {
      "text/plain": [
       "<TemporaryDirectory '/tmp/tmppc_kbk1y'>"
      ]
     },
     "execution_count": 3,
     "metadata": {},
     "output_type": "execute_result"
    }
   ],
   "source": [
    "store_dir = tempfile.TemporaryDirectory()\n",
    "store_dir"
   ]
  },
  {
   "cell_type": "markdown",
   "metadata": {},
   "source": [
    "We're now going to change palaestrAI's runtime configuration to point to the new directory."
   ]
  },
  {
   "cell_type": "code",
   "execution_count": 4,
   "metadata": {},
   "outputs": [
    {
     "name": "stdout",
     "output_type": "stream",
     "text": [
      "{'executor_bus_port': 4242,\n",
      " 'logger_port': 4243,\n",
      " 'logging': {'filters': {'debug_filter': {'()': 'palaestrai.core.runtime_config.DebugLogFilter'}},\n",
      "             'formatters': {'debug': {'format': '%(asctime)s '\n",
      "                                                '%(name)s[%(process)d]: '\n",
      "                                                '%(levelname)s - %(message)s '\n",
      "                                                '(%(module)s.%(funcName)s in '\n",
      "                                                '%(filename)s:%(lineno)d)'},\n",
      "                            'simple': {'format': '%(asctime)s '\n",
      "                                                 '%(name)s[%(process)d]: '\n",
      "                                                 '%(levelname)s - '\n",
      "                                                 '%(message)s'}},\n",
      "             'handlers': {'console': {'class': 'logging.StreamHandler',\n",
      "                                      'formatter': 'simple',\n",
      "                                      'level': 'INFO',\n",
      "                                      'stream': 'ext://sys.stdout'},\n",
      "                          'console_debug': {'class': 'logging.StreamHandler',\n",
      "                                            'filters': ['debug_filter'],\n",
      "                                            'formatter': 'debug',\n",
      "                                            'level': 'DEBUG',\n",
      "                                            'stream': 'ext://sys.stdout'}},\n",
      "             'loggers': {'palaestrai.agent': {'level': 'ERROR'},\n",
      "                         'palaestrai.agent.agent_conductor': {'level': 'ERROR'},\n",
      "                         'palaestrai.agent.brain': {'level': 'ERROR'},\n",
      "                         'palaestrai.agent.muscle': {'level': 'ERROR'},\n",
      "                         'palaestrai.core': {'level': 'ERROR'},\n",
      "                         'palaestrai.environment': {'level': 'ERROR'},\n",
      "                         'palaestrai.experiment': {'level': 'ERROR'},\n",
      "                         'palaestrai.simulation': {'level': 'ERROR'},\n",
      "                         'palaestrai.store': {'level': 'ERROR'},\n",
      "                         'palaestrai.types': {'level': 'ERROR'},\n",
      "                         'palaestrai.util': {'level': 'ERROR'},\n",
      "                         'palaestrai.visualization': {'level': 'ERROR'},\n",
      "                         'sqlalchemy.engine': {'level': 'ERROR'}},\n",
      "             'root': {'handlers': ['console', 'console_debug'],\n",
      "                      'level': 'ERROR'},\n",
      "             'version': 1},\n",
      " 'major_domo_client_retries': 3,\n",
      " 'major_domo_client_timeout': 300000,\n",
      " 'profile': False,\n",
      " 'public_bind': False,\n",
      " 'store_uri': 'sqlite:////tmp/tmppc_kbk1y/palaestrai.db'}\n"
     ]
    }
   ],
   "source": [
    "from palaestrai.core import RuntimeConfig\n",
    "\n",
    "runtime_config = RuntimeConfig()\n",
    "runtime_config.reset()\n",
    "runtime_config.load({\"store_uri\": \"sqlite:///%s/palaestrai.db\" % store_dir.name})\n",
    "pprint.pprint(runtime_config.to_dict())"
   ]
  },
  {
   "cell_type": "markdown",
   "metadata": {},
   "source": [
    "## Create the Database\n",
    "\n",
    "Next, we create the database at the given URI. It will complain that we're not using TimescaleDB, which is okay."
   ]
  },
  {
   "cell_type": "code",
   "execution_count": 5,
   "metadata": {},
   "outputs": [
    {
     "name": "stderr",
     "output_type": "stream",
     "text": [
      "Could not create extension timescaledb and create hypertables: (sqlite3.OperationalError) near \"EXTENSION\": syntax error\n",
      "[SQL: CREATE EXTENSION IF NOT EXISTS timescaledb CASCADE;]\n",
      "(Background on this error at: https://sqlalche.me/e/14/e3q8). Your database setup might lead to noticeable slowdowns with larger experiment runs. Please upgrade to PostgreSQL with TimescaleDB for the best performance.\n"
     ]
    }
   ],
   "source": [
    "from palaestrai.store.database_util import setup_database\n",
    "setup_database(runtime_config.store_uri)"
   ]
  },
  {
   "cell_type": "code",
   "execution_count": 6,
   "metadata": {},
   "outputs": [],
   "source": [
    "assert Path(\"%s/palaestrai.db\" % store_dir.name).is_file()"
   ]
  },
  {
   "cell_type": "markdown",
   "metadata": {},
   "source": [
    "## Run Experiment\n",
    "\n",
    "In this part, we load our dummy experiment and run it."
   ]
  },
  {
   "cell_type": "code",
   "execution_count": 7,
   "metadata": {},
   "outputs": [],
   "source": [
    "experiment_file_path = Path().absolute() / '..' / 'fixtures' / 'dummy_run.yml'\n",
    "assert experiment_file_path.is_file()"
   ]
  },
  {
   "cell_type": "code",
   "execution_count": 8,
   "metadata": {
    "scrolled": true
   },
   "outputs": [
    {
     "data": {
      "text/plain": [
       "(['Yo-ho, a dummy experiment run for me!'], <ExecutorState.EXITED: 4>)"
      ]
     },
     "execution_count": 8,
     "metadata": {},
     "output_type": "execute_result"
    }
   ],
   "source": [
    "rc = palaestrai.execute(str(experiment_file_path))\n",
    "assert rc[1].value == 4\n",
    "rc"
   ]
  },
  {
   "cell_type": "markdown",
   "metadata": {},
   "source": [
    "If you see something like `('Yo-ho, a dummy experiment run for me!', <ExecutorState.EXITED: 4>)` as output of the previous line, then congratulations, everything went well! Now onwards to the final step…\n",
    "\n",
    "## Verify Data from the Store\n",
    "\n",
    "Now that an experiment has been run, there should be something in the store. Note that we don't check whether something *meaningful* is in the store, only that there is *something* in the store."
   ]
  },
  {
   "cell_type": "code",
   "execution_count": 9,
   "metadata": {},
   "outputs": [],
   "source": [
    "from sqlalchemy import select\n",
    "\n",
    "import palaestrai.store\n",
    "import palaestrai.store.database_model as dbm"
   ]
  },
  {
   "cell_type": "code",
   "execution_count": 10,
   "metadata": {},
   "outputs": [],
   "source": [
    "dbh = palaestrai.store.Session()"
   ]
  },
  {
   "cell_type": "code",
   "execution_count": 11,
   "metadata": {},
   "outputs": [
    {
     "data": {
      "text/plain": [
       "'SELECT experiments.id, experiments.name, experiments.document, experiments.document_json \\nFROM experiments'"
      ]
     },
     "execution_count": 11,
     "metadata": {},
     "output_type": "execute_result"
    }
   ],
   "source": [
    "q = select(dbm.Experiment)\n",
    "str(q)"
   ]
  },
  {
   "cell_type": "code",
   "execution_count": 12,
   "metadata": {},
   "outputs": [
    {
     "data": {
      "text/plain": [
       "'Dummy Experiment record for ExperimentRun 818bb3e1-93b4-41db-bc03-41428f43e787'"
      ]
     },
     "execution_count": 12,
     "metadata": {},
     "output_type": "execute_result"
    }
   ],
   "source": [
    "experiment = dbh.execute(q).first()[dbm.Experiment]\n",
    "experiment.name"
   ]
  },
  {
   "cell_type": "code",
   "execution_count": 13,
   "metadata": {},
   "outputs": [
    {
     "data": {
      "text/plain": [
       "'<ExperimentRun(id=1, uid=\"Yo-ho, a dummy experiment run for me!\", experiment_id=1, document=<palaestrai.experiment.experiment_run.ExperimentRun object at 0x7f1717bdb880>>'"
      ]
     },
     "execution_count": 13,
     "metadata": {},
     "output_type": "execute_result"
    }
   ],
   "source": [
    "our_experiment_run = experiment.experiment_runs[0]\n",
    "str(our_experiment_run)"
   ]
  },
  {
   "cell_type": "markdown",
   "metadata": {},
   "source": [
    "The `document` property of the experiment run object should contain the YAML file, and we should be able to de-searialize it. Let's check that."
   ]
  },
  {
   "cell_type": "code",
   "execution_count": 14,
   "metadata": {},
   "outputs": [],
   "source": [
    "assert our_experiment_run.document"
   ]
  },
  {
   "cell_type": "code",
   "execution_count": 15,
   "metadata": {},
   "outputs": [
    {
     "data": {
      "text/plain": [
       "{'py/object': 'palaestrai.experiment.experiment_run.ExperimentRun',\n",
       " 'seed': 42,\n",
       " 'uid': 'Yo-ho, a dummy experiment run for me!',\n",
       " 'version': '3.4',\n",
       " 'schedule_config': [{'phase_0': {'environments': [{'environment': {'name': 'palaestrai.environment.dummy_environment:DummyEnvironment',\n",
       "       'uid': 'myenv',\n",
       "       'params': {'discrete': True}}}],\n",
       "    'agents': [{'name': 'mighty_defender',\n",
       "      'brain': {'name': 'palaestrai.agent.dummy_brain:DummyBrain',\n",
       "       'params': {'store_path': './custom'}},\n",
       "      'muscle': {'name': 'palaestrai.agent.dummy_muscle:DummyMuscle',\n",
       "       'params': {}},\n",
       "      'objective': {'name': 'palaestrai.agent.dummy_objective:DummyObjective',\n",
       "       'params': {'params': 1}},\n",
       "      'sensors': ['myenv.0', 'myenv.1', 'myenv.2', 'myenv.3', 'myenv.4'],\n",
       "      'actuators': ['myenv.0', 'myenv.1', 'myenv.2', 'myenv.3', 'myenv.4']},\n",
       "     {'name': 'evil_attacker',\n",
       "      'brain': {'name': 'palaestrai.agent.dummy_brain:DummyBrain',\n",
       "       'params': {}},\n",
       "      'muscle': {'name': 'palaestrai.agent.dummy_muscle:DummyMuscle',\n",
       "       'params': {}},\n",
       "      'objective': {'name': 'palaestrai.agent.dummy_objective:DummyObjective',\n",
       "       'params': {'params': 1}},\n",
       "      'sensors': ['myenv.5', 'myenv.6', 'myenv.7', 'myenv.8', 'myenv.9'],\n",
       "      'actuators': ['myenv.5', 'myenv.6', 'myenv.7', 'myenv.8', 'myenv.9']}],\n",
       "    'simulation': {'name': 'palaestrai.simulation:VanillaSimController',\n",
       "     'conditions': [{'name': 'palaestrai.simulation:VanillaSimControllerTerminationCondition',\n",
       "       'params': {}}]},\n",
       "    'phase_config': {'mode': 'train', 'worker': 1, 'episodes': 1}}},\n",
       "  {'phase_1': {'environments': [{'environment': {'name': 'palaestrai.environment.dummy_environment:DummyEnvironment',\n",
       "       'uid': 'myenv',\n",
       "       'params': {'discrete': True}}}],\n",
       "    'agents': [{'name': 'mighty_defender',\n",
       "      'load': {'base': './custom', 'phase_name': 'phase_0'},\n",
       "      'brain': {'name': 'palaestrai.agent.dummy_brain:DummyBrain',\n",
       "       'params': {'store_path': './custom'}},\n",
       "      'muscle': {'name': 'palaestrai.agent.dummy_muscle:DummyMuscle',\n",
       "       'params': {}},\n",
       "      'objective': {'name': 'palaestrai.agent.dummy_objective:DummyObjective',\n",
       "       'params': {'params': 1}},\n",
       "      'sensors': ['myenv.0', 'myenv.1', 'myenv.2', 'myenv.3', 'myenv.4'],\n",
       "      'actuators': ['myenv.0', 'myenv.1', 'myenv.2', 'myenv.3', 'myenv.4']},\n",
       "     {'name': 'evil_attacker',\n",
       "      'load': {'phase_name': 'phase_0'},\n",
       "      'brain': {'name': 'palaestrai.agent.dummy_brain:DummyBrain',\n",
       "       'params': {}},\n",
       "      'muscle': {'name': 'palaestrai.agent.dummy_muscle:DummyMuscle',\n",
       "       'params': {}},\n",
       "      'objective': {'name': 'palaestrai.agent.dummy_objective:DummyObjective',\n",
       "       'params': {'params': 1}},\n",
       "      'sensors': ['myenv.5', 'myenv.6', 'myenv.7', 'myenv.8', 'myenv.9'],\n",
       "      'actuators': ['myenv.5', 'myenv.6', 'myenv.7', 'myenv.8', 'myenv.9']}],\n",
       "    'simulation': {'name': 'palaestrai.simulation:VanillaSimController',\n",
       "     'conditions': [{'name': 'palaestrai.simulation:VanillaSimControllerTerminationCondition',\n",
       "       'params': {}}]},\n",
       "    'phase_config': {'mode': 'train', 'worker': 1, 'episodes': 1}}}],\n",
       " 'run_config': {'condition': {'name': 'palaestrai.experiment:VanillaRunGovernorTerminationCondition',\n",
       "   'params': {}}},\n",
       " '_instance_uid': '007198d8-4e08-40a0-83c5-1bd2b12d1201'}"
      ]
     },
     "execution_count": 15,
     "metadata": {},
     "output_type": "execute_result"
    }
   ],
   "source": [
    "our_experiment_run._document_json"
   ]
  },
  {
   "cell_type": "code",
   "execution_count": 16,
   "metadata": {},
   "outputs": [
    {
     "data": {
      "text/plain": [
       "'007198d8-4e08-40a0-83c5-1bd2b12d1201'"
      ]
     },
     "execution_count": 16,
     "metadata": {},
     "output_type": "execute_result"
    }
   ],
   "source": [
    "our_experiment_run.experiment_run_instances[0].uid"
   ]
  },
  {
   "cell_type": "markdown",
   "metadata": {},
   "source": [
    "… and so on. For a system test, this is enough."
   ]
  }
 ],
 "metadata": {
  "kernelspec": {
   "display_name": "Python 3",
   "language": "python",
   "name": "python3"
  },
  "language_info": {
   "codemirror_mode": {
    "name": "ipython",
    "version": 3
   },
   "file_extension": ".py",
   "mimetype": "text/x-python",
   "name": "python",
   "nbconvert_exporter": "python",
   "pygments_lexer": "ipython3",
   "version": "3.8.6"
  }
 },
 "nbformat": 4,
 "nbformat_minor": 2
}
