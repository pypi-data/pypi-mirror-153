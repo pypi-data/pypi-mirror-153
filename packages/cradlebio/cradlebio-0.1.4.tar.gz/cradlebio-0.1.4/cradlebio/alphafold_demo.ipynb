{
 "cells": [
  {
   "cell_type": "markdown",
   "id": "43545872",
   "metadata": {},
   "source": [
    "## Folding proteins with Cradle\n",
    "This tutorial will walk you through the the simple steps you need to peform to be able to fold proteins using Cradle Bio. The setup is easy and it should take just a couple of minutes.\n",
    "\n",
    "### Install the client library\n",
    "Using pip:\n",
    "```bash\n",
    "pip install cradlebio\n",
    "```\n",
    "\n",
    "<details>\n",
    "    <summary>+Other installation methods</summary>\n",
    "    \n",
    "  1. Using conda\n",
    "```\n",
    "conda install cradlebio\n",
    "```\n",
    "\n",
    "  2. Directly form source. If you would like to install the latest Cradle version:\n",
    "```\n",
    "pip install git+https://gitlab.com/cradlebio/studio/client.git\n",
    "```\n",
    "</details>\n",
    "    \n",
    "### Get an authentication token\n",
    "Navigate to [https://auth.internal.cradle.bio/](https://auth.internal.cradle.bio/), sign in, and\n",
    "download the credentials to a location of your choice, let's call it `CREDENTIALS_FILE`.\n",
    "\n",
    "### Colab users\n",
    "If you are running inside a Google Colab notebook, please upgrade your python version using:\n",
    "```\n",
    "!pip install ipython ipykernel --upgrade\n",
    "```\n",
    "\n",
    "That's it! You are now ready to fold proteins.\n",
    "\n",
    "### Folding\n",
    "Place the proteins that you would like to fold in a FASTA file, e.g.\n",
    "```\n",
    ">protein1\n",
    "MTDDKDVLRD...\n",
    "```"
   ]
  },
  {
   "cell_type": "code",
   "execution_count": 2,
   "id": "e48f7a3b",
   "metadata": {
    "ExecuteTime": {
     "start_time": "2022-05-10T05:25:38.128Z"
    }
   },
   "outputs": [
    {
     "name": "stdout",
     "output_type": "stream",
     "text": [
      "Id: 0, {'status': 'PENDING', 'name': 'protein1', 'seq': 'PRQTEIN'}\n",
      "Id: 1, {'name': 'protein2', 'seq': 'BANANAANANGANANANANA', 'status': 'PENDING'}\n"
     ]
    },
    {
     "data": {
      "text/plain": "[None, None]"
     },
     "execution_count": 2,
     "metadata": {},
     "output_type": "execute_result"
    }
   ],
   "source": [
    "from cradlebio import alphafold, auth\n",
    "\n",
    "CREDS_FILE = '/Users/dd/cradle/client/tests/cradlebio/data/test_creds.json'  # enter path to the credentials you generated at https://auth.internal.cradle.bio/ here\n",
    "FASTA = '/Users/dd/cradle/client/tests/cradlebio/data/test_sequences.fasta'  # enter path to your FASTA file here\n",
    "\n",
    "sequences = alphafold.predict(auth.IdentityPlatformTokenCredentials.from_file(CREDS_FILE), FASTA)\n",
    "\n",
    "[print(str(seq)) for seq in sequences]"
   ]
  },
  {
   "cell_type": "markdown",
   "id": "a6bc969d",
   "metadata": {},
   "source": [
    "The code snippet above will invoke Alphafold on the given FASTA file inside a Jupyter Notebook. \n",
    "If you are inside a normal Python environment, use:\n",
    "```python\n",
    "sequences = alphafold.predict(auth.IdentityPlatformTokenCredentials.from_file(), FASTA)\n",
    "```\n",
    "\n",
    "Your proteins are now folding. \n",
    "\n",
    "The return value, `sequences`, is a list of [cradlebio.alphafold.Sequence](https://gitlab.com/cradlebio/studio/client/-/blob/main/cradlebio/alphafold.py#L39) objects. You can get the PDB (Protein Data Bank) file that contains the actual folding for each sequence by calling the `pdb()` method. Since folding can take about 20 minutes, `pdb()` is an asynchronous method, so the correct way to invoke it is:\n",
    "```python\n",
    "await seq.pdb()\n",
    "```\n",
    "\n",
    "The code snippet below iterates through all the sequences and prints the location of the alignment (a3m) and PDB files:"
   ]
  },
  {
   "cell_type": "code",
   "execution_count": null,
   "id": "f62fe162",
   "metadata": {
    "pycharm": {
     "is_executing": true
    }
   },
   "outputs": [
    {
     "name": "stdout",
     "output_type": "stream",
     "text": [
      "users/fqTJveqq5MOcyFGMKW2caNy3rRs1/jobs/2022-05-24-08:56:51_test_sequences.fasta/a3m/3.a3m\n"
     ]
    },
    {
     "name": "stderr",
     "output_type": "stream",
     "text": [
      "WARNING:google.api_core.bidi:Background thread did not exit.\n"
     ]
    }
   ],
   "source": [
    "for seq in sequences:\n",
    "    print(await seq.a3m())\n",
    "    print(await seq.pdb())"
   ]
  },
  {
   "cell_type": "markdown",
   "id": "6fb2e0a1",
   "metadata": {},
   "source": [
    "This code snippet visualizes the folded protein. Make sure you install py3Dmol beforehand using:\n",
    "```shell\n",
    "conda install -c conda-forge py3dmol\n",
    "```"
   ]
  },
  {
   "cell_type": "code",
   "execution_count": null,
   "id": "2ff69f39",
   "metadata": {},
   "outputs": [],
   "source": [
    "import py3Dmol\n",
    "import urllib.request\n",
    "\n",
    "urllib.request.urlretrieve(\"https://alphafold.ebi.ac.uk/files/AF-Q99J83-F1-model_v2.pdb\", \"mouse.pdb\")\n",
    "\n",
    "\n",
    "view=py3Dmol.view()\n",
    "view.addModel(open('mouse.pdb', 'r').read(),'pdb')\n",
    "view.setStyle({'stick': {}})\n",
    "view.zoomTo()\n",
    "view.show()"
   ]
  }
 ],
 "metadata": {
  "kernelspec": {
   "display_name": "Python 3 (ipykernel)",
   "language": "python",
   "name": "python3"
  },
  "language_info": {
   "codemirror_mode": {
    "name": "ipython",
    "version": 3
   },
   "file_extension": ".py",
   "mimetype": "text/x-python",
   "name": "python",
   "nbconvert_exporter": "python",
   "pygments_lexer": "ipython3",
   "version": "3.9.12"
  }
 },
 "nbformat": 4,
 "nbformat_minor": 5
}