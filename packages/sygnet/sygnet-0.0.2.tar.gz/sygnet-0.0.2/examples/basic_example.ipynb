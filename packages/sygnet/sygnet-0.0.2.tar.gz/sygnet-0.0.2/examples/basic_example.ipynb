{
 "cells": [
  {
   "cell_type": "markdown",
   "metadata": {},
   "source": [
    "# Using SyGNet\n",
    "\n",
    "This notebook demonstrates the basic functionality of the **sygnet** package in Python.\n",
    "\n",
    "To download the package, simply run `pip install sygnet` at the command line.\n",
    "\n",
    "## Prerequisites\n",
    "\n",
    "To start, we load the required packages and define a data generating process (DGP)."
   ]
  },
  {
   "cell_type": "code",
   "execution_count": 1,
   "metadata": {},
   "outputs": [],
   "source": [
    "%%capture\n",
    "%cd ..\n",
    "\n",
    "import pandas as pd\n",
    "import numpy as np\n",
    "from numpy.random import default_rng\n",
    "\n",
    "# NB: once installed via pip, can run `from sygnet import SygnetModel`\n",
    "from src.sygnet.sygnet_interface import SygnetModel\n"
   ]
  },
  {
   "cell_type": "markdown",
   "metadata": {},
   "source": [
    "Next, we will focus on a very simple case of learning a parametric relationship between numeric variables.The DGP comprises two random uniform variables (`x1` and `x2`), which in turn impact the value of two other variables (`x3` and `y`). Once defined, we take 100,000 draws from this DGP to use as our training data:"
   ]
  },
  {
   "cell_type": "code",
   "execution_count": 2,
   "metadata": {},
   "outputs": [
    {
     "data": {
      "text/html": [
       "<div>\n",
       "<style scoped>\n",
       "    .dataframe tbody tr th:only-of-type {\n",
       "        vertical-align: middle;\n",
       "    }\n",
       "\n",
       "    .dataframe tbody tr th {\n",
       "        vertical-align: top;\n",
       "    }\n",
       "\n",
       "    .dataframe thead th {\n",
       "        text-align: right;\n",
       "    }\n",
       "</style>\n",
       "<table border=\"1\" class=\"dataframe\">\n",
       "  <thead>\n",
       "    <tr style=\"text-align: right;\">\n",
       "      <th></th>\n",
       "      <th>x1</th>\n",
       "      <th>x2</th>\n",
       "      <th>x3</th>\n",
       "      <th>y</th>\n",
       "    </tr>\n",
       "  </thead>\n",
       "  <tbody>\n",
       "    <tr>\n",
       "      <th>0</th>\n",
       "      <td>0.937212</td>\n",
       "      <td>0.357162</td>\n",
       "      <td>1.143867</td>\n",
       "      <td>3.758512</td>\n",
       "    </tr>\n",
       "    <tr>\n",
       "      <th>1</th>\n",
       "      <td>0.017030</td>\n",
       "      <td>0.799048</td>\n",
       "      <td>0.798812</td>\n",
       "      <td>3.978861</td>\n",
       "    </tr>\n",
       "    <tr>\n",
       "      <th>2</th>\n",
       "      <td>0.648718</td>\n",
       "      <td>0.353442</td>\n",
       "      <td>0.709564</td>\n",
       "      <td>1.626205</td>\n",
       "    </tr>\n",
       "    <tr>\n",
       "      <th>3</th>\n",
       "      <td>0.372858</td>\n",
       "      <td>0.863745</td>\n",
       "      <td>1.209894</td>\n",
       "      <td>2.650800</td>\n",
       "    </tr>\n",
       "    <tr>\n",
       "      <th>4</th>\n",
       "      <td>0.031801</td>\n",
       "      <td>0.608836</td>\n",
       "      <td>0.725445</td>\n",
       "      <td>2.854821</td>\n",
       "    </tr>\n",
       "  </tbody>\n",
       "</table>\n",
       "</div>"
      ],
      "text/plain": [
       "         x1        x2        x3         y\n",
       "0  0.937212  0.357162  1.143867  3.758512\n",
       "1  0.017030  0.799048  0.798812  3.978861\n",
       "2  0.648718  0.353442  0.709564  1.626205\n",
       "3  0.372858  0.863745  1.209894  2.650800\n",
       "4  0.031801  0.608836  0.725445  2.854821"
      ]
     },
     "execution_count": 2,
     "metadata": {},
     "output_type": "execute_result"
    }
   ],
   "source": [
    "rng = default_rng()\n",
    "\n",
    "def gen_sim_data(rng, n=100000):\n",
    "    \n",
    "    x1 = rng.uniform(low = 0, high = 1, size = n)\n",
    "    x2 = rng.uniform(low = 0, high = 1, size = n)\n",
    "    x3 = rng.normal(loc = x1 + x2, scale = 0.1)\n",
    "    y = rng.normal(loc=3*x1 + 2*x2 + 1, scale = 1)\n",
    "\n",
    "    sim_data = pd.DataFrame({\n",
    "        'x1' : x1,\n",
    "        'x2' : x2,\n",
    "        'x3' : x3,\n",
    "        'y' : y\n",
    "    })   \n",
    "\n",
    "    return sim_data\n",
    "\n",
    "train_data = gen_sim_data(rng)\n",
    "train_data.head()"
   ]
  },
  {
   "cell_type": "markdown",
   "metadata": {},
   "source": [
    "## **sygnet** pipeline\n",
    "\n",
    "We follow a very similar pipeline to **scikit-learn**: \n",
    "\n",
    "1. Instantiate a model:\n",
    "   * Users must specify what type of GAN architecture to use: we recommend \"wgan\" for non-conditional synthetic data, and \"cgan\" when conditional labels will be supplied \n",
    "   * Optional arguments allow the user to customise the hidden layer structure, dropout proportions, layer norming, ReLU leakage, and whether to range match the final output\n",
    "2. Fit the model to the training data\n",
    "   * Users must supply the training data\n",
    "   * Optional arguments allow the user to alter the default hyperparameters (epochs, learning rate, batch size etc.)\n",
    "3. Sample from the trained model\n",
    "   * Users must specify the number of synthetic observations to draw from the model\n",
    "   * Optional arguments allow the user to control the format of the returned results, as well as to save the synthetic data to disk\n",
    "\n"
   ]
  },
  {
   "cell_type": "markdown",
   "metadata": {},
   "source": [
    "## Basic example\n",
    "\n",
    "In this first example, we set `mode = \"wgan\"` to use the Wassterstein GAN architecture. We fit the model to our simulated data, for a single epoch (real uses will require more epochs), and then generate 100 synthetic observations:"
   ]
  },
  {
   "cell_type": "code",
   "execution_count": 3,
   "metadata": {},
   "outputs": [
    {
     "name": "stderr",
     "output_type": "stream",
     "text": [
      "Epoch: 100%|██████████| 1/1 [00:08<00:00,  8.41s/it]\n"
     ]
    },
    {
     "data": {
      "text/html": [
       "<div>\n",
       "<style scoped>\n",
       "    .dataframe tbody tr th:only-of-type {\n",
       "        vertical-align: middle;\n",
       "    }\n",
       "\n",
       "    .dataframe tbody tr th {\n",
       "        vertical-align: top;\n",
       "    }\n",
       "\n",
       "    .dataframe thead th {\n",
       "        text-align: right;\n",
       "    }\n",
       "</style>\n",
       "<table border=\"1\" class=\"dataframe\">\n",
       "  <thead>\n",
       "    <tr style=\"text-align: right;\">\n",
       "      <th></th>\n",
       "      <th>x1</th>\n",
       "      <th>x2</th>\n",
       "      <th>x3</th>\n",
       "      <th>y</th>\n",
       "    </tr>\n",
       "  </thead>\n",
       "  <tbody>\n",
       "    <tr>\n",
       "      <th>0</th>\n",
       "      <td>0.087701</td>\n",
       "      <td>-1.093142</td>\n",
       "      <td>0.0</td>\n",
       "      <td>0.727574</td>\n",
       "    </tr>\n",
       "    <tr>\n",
       "      <th>1</th>\n",
       "      <td>0.255873</td>\n",
       "      <td>-0.903843</td>\n",
       "      <td>0.0</td>\n",
       "      <td>0.503871</td>\n",
       "    </tr>\n",
       "    <tr>\n",
       "      <th>2</th>\n",
       "      <td>-0.186541</td>\n",
       "      <td>-1.124069</td>\n",
       "      <td>0.0</td>\n",
       "      <td>1.169112</td>\n",
       "    </tr>\n",
       "    <tr>\n",
       "      <th>3</th>\n",
       "      <td>-0.046919</td>\n",
       "      <td>-0.666187</td>\n",
       "      <td>0.0</td>\n",
       "      <td>0.670024</td>\n",
       "    </tr>\n",
       "    <tr>\n",
       "      <th>4</th>\n",
       "      <td>0.494258</td>\n",
       "      <td>-1.379985</td>\n",
       "      <td>0.0</td>\n",
       "      <td>0.566269</td>\n",
       "    </tr>\n",
       "  </tbody>\n",
       "</table>\n",
       "</div>"
      ],
      "text/plain": [
       "         x1        x2   x3         y\n",
       "0  0.087701 -1.093142  0.0  0.727574\n",
       "1  0.255873 -0.903843  0.0  0.503871\n",
       "2 -0.186541 -1.124069  0.0  1.169112\n",
       "3 -0.046919 -0.666187  0.0  0.670024\n",
       "4  0.494258 -1.379985  0.0  0.566269"
      ]
     },
     "execution_count": 3,
     "metadata": {},
     "output_type": "execute_result"
    }
   ],
   "source": [
    "model = SygnetModel(mode = \"wgan\")\n",
    "model.fit(data = train_data, epochs = 1)\n",
    "synth_data = model.sample(nobs = 1000)\n",
    "\n",
    "synth_data.head()"
   ]
  },
  {
   "cell_type": "markdown",
   "metadata": {},
   "source": [
    "*Note: In the above example, we \"sample\" observations from the trained model. In keeping with the **scikit-learn** API, users can instead use `.transform()`, which is an alias  of `.sample()`*."
   ]
  },
  {
   "cell_type": "markdown",
   "metadata": {},
   "source": [
    "### GPU support\n",
    "\n",
    "**sygnet** allows users to train the model using GPU computation, which should improve training times considerably. To run the synthetic generator on the GPU, we simply fit the model with the parameter `device = 'cuda'`. Here we are able to run 10 epochs in about as long as it takes to run 1 epoch on the CPU:"
   ]
  },
  {
   "cell_type": "code",
   "execution_count": 4,
   "metadata": {},
   "outputs": [
    {
     "name": "stderr",
     "output_type": "stream",
     "text": [
      "Epoch: 100%|██████████| 10/10 [00:09<00:00,  1.03it/s]\n"
     ]
    },
    {
     "data": {
      "text/html": [
       "<div>\n",
       "<style scoped>\n",
       "    .dataframe tbody tr th:only-of-type {\n",
       "        vertical-align: middle;\n",
       "    }\n",
       "\n",
       "    .dataframe tbody tr th {\n",
       "        vertical-align: top;\n",
       "    }\n",
       "\n",
       "    .dataframe thead th {\n",
       "        text-align: right;\n",
       "    }\n",
       "</style>\n",
       "<table border=\"1\" class=\"dataframe\">\n",
       "  <thead>\n",
       "    <tr style=\"text-align: right;\">\n",
       "      <th></th>\n",
       "      <th>x1</th>\n",
       "      <th>x2</th>\n",
       "      <th>x3</th>\n",
       "      <th>y</th>\n",
       "    </tr>\n",
       "  </thead>\n",
       "  <tbody>\n",
       "    <tr>\n",
       "      <th>0</th>\n",
       "      <td>0.953159</td>\n",
       "      <td>0.284297</td>\n",
       "      <td>0.0</td>\n",
       "      <td>3.114364</td>\n",
       "    </tr>\n",
       "    <tr>\n",
       "      <th>1</th>\n",
       "      <td>0.745921</td>\n",
       "      <td>0.628582</td>\n",
       "      <td>0.0</td>\n",
       "      <td>3.176605</td>\n",
       "    </tr>\n",
       "    <tr>\n",
       "      <th>2</th>\n",
       "      <td>1.038066</td>\n",
       "      <td>-0.153269</td>\n",
       "      <td>0.0</td>\n",
       "      <td>2.768531</td>\n",
       "    </tr>\n",
       "    <tr>\n",
       "      <th>3</th>\n",
       "      <td>0.858559</td>\n",
       "      <td>0.822912</td>\n",
       "      <td>0.0</td>\n",
       "      <td>3.525120</td>\n",
       "    </tr>\n",
       "    <tr>\n",
       "      <th>4</th>\n",
       "      <td>0.552167</td>\n",
       "      <td>0.378724</td>\n",
       "      <td>0.0</td>\n",
       "      <td>2.439571</td>\n",
       "    </tr>\n",
       "  </tbody>\n",
       "</table>\n",
       "</div>"
      ],
      "text/plain": [
       "         x1        x2   x3         y\n",
       "0  0.953159  0.284297  0.0  3.114364\n",
       "1  0.745921  0.628582  0.0  3.176605\n",
       "2  1.038066 -0.153269  0.0  2.768531\n",
       "3  0.858559  0.822912  0.0  3.525120\n",
       "4  0.552167  0.378724  0.0  2.439571"
      ]
     },
     "execution_count": 4,
     "metadata": {},
     "output_type": "execute_result"
    }
   ],
   "source": [
    "model_gpu = SygnetModel(mode = \"wgan\")\n",
    "model_gpu.fit(data = train_data, epochs = 10, device='cuda')\n",
    "synth_data = model_gpu.sample(nobs = 1000)\n",
    "\n",
    "synth_data.head()"
   ]
  },
  {
   "cell_type": "markdown",
   "metadata": {},
   "source": [
    "## Custom architectures\n",
    "\n",
    "The above models are trained on the default parameters and for a short number of epochs. They are therefore not well-trained (as can be seen in the resulting synthetic data).\n",
    "\n",
    "To improve our models, we can adjust the hyperparameter settings of our model. In this instance, we reduce the batch size and dropout proportion (relative to the default), increase the learning rate, and train for 50 epochs on the GPU:\n",
    "\n"
   ]
  },
  {
   "cell_type": "code",
   "execution_count": 5,
   "metadata": {},
   "outputs": [
    {
     "name": "stderr",
     "output_type": "stream",
     "text": [
      "Not using mixed activation function -- generated data may not conform to real data if it contains categorical columns.\n",
      "Epoch: 100%|██████████| 50/50 [02:23<00:00,  2.88s/it]\n"
     ]
    }
   ],
   "source": [
    "model_custom = SygnetModel(mode = \"wgan\", dropout_p=0.1, mixed_activation=False)\n",
    "\n",
    "model_custom.fit(\n",
    "    train_data, \n",
    "    device = 'cuda', \n",
    "    epochs = 50, \n",
    "    batch_size=512,\n",
    "    learning_rate=0.001\n",
    ")\n",
    "\n",
    "synth_data = model_custom.sample(1000)"
   ]
  },
  {
   "cell_type": "markdown",
   "metadata": {},
   "source": [
    "To assess the quality of our model, we can see how well the synthetic data outcome variable `y` is modelled by the synthetic independent variables. To do so, we can regress `y` on `x1` and `x2`. Recall that in our DGP $$y \\sim \\mathcal{N}(\\mu = 3\\times X_1 + 2 \\times X_2 + 1, \\sigma).$$ Therefore, we should expect the coefficient vector to be close to `[3,2,1]`. "
   ]
  },
  {
   "cell_type": "code",
   "execution_count": 8,
   "metadata": {},
   "outputs": [
    {
     "name": "stdout",
     "output_type": "stream",
     "text": [
      "Synthetic coefficients = ['2.96', '2.28', '0.94']\n"
     ]
    }
   ],
   "source": [
    "from sklearn.linear_model import LinearRegression\n",
    "\n",
    "reg = LinearRegression().fit(synth_data.drop(['y','x3'], axis=1), synth_data['y'])\n",
    "\n",
    "print(f\"Synthetic coefficients = {['%.2f' % val for val in reg.coef_.tolist() + [reg.intercept_]]}\")\n"
   ]
  },
  {
   "cell_type": "markdown",
   "metadata": {},
   "source": [
    "We find that, while the relationship is not perfectly captured, we nevertheless get data that resembles that relationship."
   ]
  }
 ],
 "metadata": {
  "interpreter": {
   "hash": "2ae1b0b5a0606c2753749f3391e09e88dfd388b1a3a29c5d6e8dce6eac02598d"
  },
  "kernelspec": {
   "display_name": "Python 3.9.12 ('dl')",
   "language": "python",
   "name": "python3"
  },
  "language_info": {
   "codemirror_mode": {
    "name": "ipython",
    "version": 3
   },
   "file_extension": ".py",
   "mimetype": "text/x-python",
   "name": "python",
   "nbconvert_exporter": "python",
   "pygments_lexer": "ipython3",
   "version": "3.9.12"
  },
  "orig_nbformat": 4
 },
 "nbformat": 4,
 "nbformat_minor": 2
}
